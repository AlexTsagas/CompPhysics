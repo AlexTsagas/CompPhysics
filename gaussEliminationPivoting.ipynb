{
  "nbformat": 4,
  "nbformat_minor": 0,
  "metadata": {
    "colab": {
      "name": "gaussEliminationPivoting.ipynb",
      "version": "0.3.2",
      "provenance": [],
      "collapsed_sections": []
    },
    "kernelspec": {
      "name": "python3",
      "display_name": "Python 3"
    }
  },
  "cells": [
    {
      "cell_type": "markdown",
      "metadata": {
        "id": "vHhY7eK7Gy8m",
        "colab_type": "text"
      },
      "source": [
        "# Gauss elimination with pivoting (demo)\n",
        "\n",
        "---\n",
        "\n",
        "code written by Konstantinos Theofilatos on 2019.09.03\n",
        "\n",
        "---"
      ]
    },
    {
      "cell_type": "code",
      "metadata": {
        "id": "8gtyTic9M5qc",
        "colab_type": "code",
        "outputId": "b98ff570-b35c-45b0-fe17-8c4c44487489",
        "colab": {
          "base_uri": "https://localhost:8080/",
          "height": 351
        }
      },
      "source": [
        "import numpy as np\n",
        "A = np.array([ [1. ,2. , 1. ], \n",
        "               [2. ,2. , 3. ], \n",
        "               [-1., -3., 0.] ])\n",
        "\n",
        "b = np.array([ [0.],   # note the format of np.array([ ])\n",
        "               [3.],   # np.array([ [0], [3], [2] ]) has shape 3 x 1 \n",
        "               [2.] ]) # while np.array([[ 0, 3, 2 ]) would have 1 x 3 \n",
        "\n",
        "C = np.concatenate((A,b), axis = 1)  # form the augmented matrix\n",
        "\n",
        "print('Starting the gauss elimination with pivoting \\n')\n",
        "isSolvable = True\n",
        "for row in range(C.shape[0]):\n",
        "  col = row # row = col, for diagonal elements\n",
        "  pivotRow = row + np.argmax(abs(C[row:, col]))\n",
        "  C[[row, pivotRow]] = C[[pivotRow, row]]  # exchange current row with the pivot, trivial operation if pivotRow == row\n",
        "  pivotEle = C[row , col]\n",
        "  if pivotEle == 0: \n",
        "    print('The system has no solution')\n",
        "    isSolvable = False\n",
        "    break\n",
        "  else:\n",
        "    for r in range(row+1, C.shape[0] ):\n",
        "      m =  - (C[r,col] / pivotEle) \n",
        "      C[r] = C[r] + m*C[row] \n",
        "\n",
        "if(isSolvable):\n",
        "  print('Our matrix is brought to upper diagonal form \\n', C)\n",
        "  print('Initializing the solution vector X to 0.0')\n",
        "  X = np.array([[0.] for ii in range(C.shape[0])])  # column vector, zero initilized\n",
        "  print(X)\n",
        "\n",
        "  # now do the backsubstitution\n",
        "  for ii in reversed(range(len(X))): \n",
        "    X[ii] = ( C[ii,-1] - C[ii][:-1].dot(X) ) / C[ii,ii]\n",
        "\n",
        "  print('The solution has be found to be \\n', X)\n",
        "  print('Veryfing the solution')\n",
        "  print('A.dot(X) - b = \\n', A.dot(X) - b )\n"
      ],
      "execution_count": 15,
      "outputs": [
        {
          "output_type": "stream",
          "text": [
            "Starting the gauss elimination with pivoting \n",
            "\n",
            "Our matrix is brought to upper diagonal form \n",
            " [[ 2.    2.    3.    3.  ]\n",
            " [ 0.   -2.    1.5   3.5 ]\n",
            " [ 0.    0.    0.25  0.25]]\n",
            "Initializing the solution vector X to 0.0\n",
            "[[0.]\n",
            " [0.]\n",
            " [0.]]\n",
            "The solution has be found to be \n",
            " [[ 1.]\n",
            " [-1.]\n",
            " [ 1.]]\n",
            "Veryfing the solution\n",
            "A.dot(X) - b = \n",
            " [[0.]\n",
            " [0.]\n",
            " [0.]]\n"
          ],
          "name": "stdout"
        }
      ]
    },
    {
      "cell_type": "code",
      "metadata": {
        "id": "BQI1o8Tb2KD_",
        "colab_type": "code",
        "colab": {}
      },
      "source": [
        ""
      ],
      "execution_count": 0,
      "outputs": []
    }
  ]
}