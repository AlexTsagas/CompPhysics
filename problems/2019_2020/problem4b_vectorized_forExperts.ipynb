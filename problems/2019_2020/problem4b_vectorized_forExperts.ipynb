{
 "cells": [
  {
   "cell_type": "code",
   "execution_count": 121,
   "metadata": {},
   "outputs": [],
   "source": [
    "import numpy as np\n",
    "import timeit\n",
    "def U(a,b): return (b-a)*np.random.uniform(0,1) + a"
   ]
  },
  {
   "cell_type": "code",
   "execution_count": 119,
   "metadata": {},
   "outputs": [
    {
     "name": "stdout",
     "output_type": "stream",
     "text": [
      "I = 0.9967 ± 0.0084 [simple]\n",
      "I = 0.9836 ± 0.0085 [vectorized]\n"
     ]
    }
   ],
   "source": [
    "rho = lambda x, y, z: (12/31.*(x**2 + y*z))\n",
    "n   = 1000\n",
    "def mcIntVectorized(n):\n",
    "    x   = np.array([U(0,1) for i in range(n)])\n",
    "    y   = np.array([U(1,2) for i in range(n)])\n",
    "    z   = np.array([U(1,2) for i in range(n)])\n",
    "    f   = rho(x, y, z)\n",
    "    V   = 1\n",
    "    I   = V*sum(f)/len(f)\n",
    "    dI  = V*f.std()/(n-1)**0.5\n",
    "    return (I, dI)\n",
    "\n",
    "def mcIntSimple(n):\n",
    "    def rho(x,y,z): return (12/31.)*(x**2 + y*z)\n",
    "    sumf  = 0\n",
    "    sumf2 = 0\n",
    "\n",
    "    for i in range(n):\n",
    "        x = U(0,1)\n",
    "        y = U(1,2)\n",
    "        z = U(1,2)\n",
    "        sumf  += rho(x,y,z)\n",
    "        sumf2 += rho(x,y,z)**2\n",
    "\n",
    "    meanf   = sumf/n\n",
    "    sigmaf2 = (sumf2/n - meanf**2)*(n/(n-1))\n",
    "    sigmaf  = sigmaf2**0.5\n",
    "    V  = 1\n",
    "    I  = V*meanf\n",
    "    dI = V*sigmaf/(n)**0.5\n",
    "    return I, dI\n",
    " \n",
    "I,dI = mcIntSimple(1000)\n",
    "print('I = %2.4f ± %2.4f [simple]'%(I, dI))\n",
    "I,dI = mcIntVectorized(1000)\n",
    "print('I = %2.4f ± %2.4f [vectorized]'%(I, dI))"
   ]
  },
  {
   "cell_type": "code",
   "execution_count": 133,
   "metadata": {},
   "outputs": [
    {
     "name": "stdout",
     "output_type": "stream",
     "text": [
      "--- mcIntSimple timing ---\n",
      "431 ms ± 50.9 ms per loop (mean ± std. dev. of 7 runs, 1 loop each)\n",
      "--- mcIntVectorized timing ---\n",
      "349 ms ± 3.4 ms per loop (mean ± std. dev. of 7 runs, 1 loop each)\n"
     ]
    }
   ],
   "source": [
    "print('--- mcIntSimple timing ---')\n",
    "%timeit mcIntSimple(100000)\n",
    "print('--- mcIntVectorized timing ---')\n",
    "%timeit mcIntVectorized(100000)"
   ]
  },
  {
   "cell_type": "code",
   "execution_count": 134,
   "metadata": {},
   "outputs": [
    {
     "data": {
      "text/plain": [
       "0.8097447795823666"
      ]
     },
     "execution_count": 134,
     "metadata": {},
     "output_type": "execute_result"
    }
   ],
   "source": [
    "349/431. # vectorized/numpy is about ~20% faster than the ordinary for loop"
   ]
  }
 ],
 "metadata": {
  "kernelspec": {
   "display_name": "Python 3",
   "language": "python",
   "name": "python3"
  },
  "language_info": {
   "codemirror_mode": {
    "name": "ipython",
    "version": 3
   },
   "file_extension": ".py",
   "mimetype": "text/x-python",
   "name": "python",
   "nbconvert_exporter": "python",
   "pygments_lexer": "ipython3",
   "version": "3.6.5"
  }
 },
 "nbformat": 4,
 "nbformat_minor": 2
}
