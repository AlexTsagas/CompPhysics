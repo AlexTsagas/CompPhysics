{
 "cells": [
  {
   "cell_type": "code",
   "execution_count": 63,
   "metadata": {},
   "outputs": [],
   "source": [
    "import numpy as np\n",
    "def U(a,b): return (b-a)*np.random.uniform(0,1) + a"
   ]
  },
  {
   "cell_type": "code",
   "execution_count": 64,
   "metadata": {
    "scrolled": true
   },
   "outputs": [
    {
     "name": "stdout",
     "output_type": "stream",
     "text": [
      "V = 0.6667 approximated as 0.6530\n",
      "I = 1.0051 +/- 0.0171\n",
      "I = 0.9969 +/- 0.0455\n"
     ]
    }
   ],
   "source": [
    "# part a\n",
    "def rho(x,y): return (20/13.)*(x+y)\n",
    "\n",
    "n     = 1000\n",
    "m     = 0\n",
    "n0    = 0\n",
    "sumf  = 0\n",
    "sumf2 = 0\n",
    "\n",
    "for i in range(n):\n",
    "    x = U(0,1)\n",
    "    y = U(0,1)\n",
    "    z = U(0,2*20/13.) # this is for hit-or-miss\n",
    "    if x >= 0 and y <= 1 and y >= (x*x):\n",
    "        m     += 1\n",
    "        sumf  += rho(x,y)\n",
    "        sumf2 += rho(x,y)**2\n",
    "        if z <= rho(x,y): n0 += 1 # this is for hit-or-miss\n",
    "\n",
    "## crude            \n",
    "meanf   = sumf/m\n",
    "sigmaf2 = (sumf2/m - meanf**2)*m/(m-1)\n",
    "sigmaf  = sigmaf2**0.5\n",
    "V  = 2/3.\n",
    "I  = V*meanf\n",
    "dI = V*sigmaf/m**0.5\n",
    "print('V = %2.4f approximated as %2.4f'%(2/3., m/n))\n",
    "print('I = %2.4f +/- %2.4f'%(I,dI))\n",
    "\n",
    "## hit-or-miss            \n",
    "V  = 2*(20/13.)\n",
    "p  = n0/n\n",
    "I  = V*n0/n\n",
    "dI = V*(p-p*p)**0.5/n**0.5\n",
    "print('I = %2.4f +/- %2.4f'%(I,dI))"
   ]
  },
  {
   "cell_type": "code",
   "execution_count": 67,
   "metadata": {},
   "outputs": [
    {
     "name": "stdout",
     "output_type": "stream",
     "text": [
      "I = 1.0065 +/- 0.0083\n",
      "I = 1.0200 +/- 0.0306\n"
     ]
    }
   ],
   "source": [
    "# part b\n",
    "k = 12/31.\n",
    "def rho(x,y,z): return (k)*(x**2 + y*z)\n",
    "\n",
    "n     = 1000\n",
    "n0    = 0\n",
    "sumf  = 0\n",
    "sumf2 = 0\n",
    "\n",
    "for i in range(n):\n",
    "    x = U(0,1)\n",
    "    y = U(1,2)\n",
    "    z = U(1,2)\n",
    "    w = U(0,k*5) # this is for hit-or-miss\n",
    "    sumf  += rho(x,y,z)\n",
    "    sumf2 += rho(x,y,z)**2\n",
    "    if w <= rho(x,y,z): n0 += 1 # this is for hit-or-miss\n",
    "\n",
    "# crude \n",
    "meanf   = sumf/n\n",
    "sigmaf2 = (sumf2/n - meanf**2)*(n/(n-1))\n",
    "sigmaf  = sigmaf2**0.5\n",
    "V  = 1\n",
    "I  = V*meanf\n",
    "dI = V*sigmaf/n**0.5\n",
    "print('I = %2.4f +/- %2.4f'%(I,dI))\n",
    "\n",
    "# hit-or-miss\n",
    "p = n0/n\n",
    "V = (k)*5\n",
    "I  = V*p\n",
    "dI = V*(p-p*p)**0.5/n**0.5\n",
    "print('I = %2.4f +/- %2.4f'%(I,dI))"
   ]
  },
  {
   "cell_type": "code",
   "execution_count": 69,
   "metadata": {},
   "outputs": [],
   "source": [
    "import matplotlib.pyplot as plt"
   ]
  },
  {
   "cell_type": "code",
   "execution_count": 75,
   "metadata": {},
   "outputs": [
    {
     "name": "stdout",
     "output_type": "stream",
     "text": [
      "uncertainty in 4a crude is: 0.0169\n"
     ]
    },
    {
     "data": {
      "text/plain": [
       "(array([  18.,   53.,  292.,  663., 1089., 1052.,  600.,  187.,   39.,\n",
       "           7.]),\n",
       " array([0.94034915, 0.95256002, 0.9647709 , 0.97698177, 0.98919264,\n",
       "        1.00140352, 1.01361439, 1.02582526, 1.03803614, 1.05024701,\n",
       "        1.06245788]),\n",
       " <a list of 10 Patch objects>)"
      ]
     },
     "execution_count": 75,
     "metadata": {},
     "output_type": "execute_result"
    },
    {
     "data": {
      "image/png": "[encoded data removed]",
      "text/plain": [
       "<Figure size 432x288 with 1 Axes>"
      ]
     },
     "metadata": {},
     "output_type": "display_data"
    }
   ],
   "source": [
    "# brute force estimation of the uncertainty for 4a crude\n",
    "def I4aCrude():\n",
    "    def rho(x,y): return (20/13.)*(x+y)\n",
    "    m     = 0\n",
    "    sumf  = 0\n",
    "    for i in range(n):\n",
    "        x = U(0,1)\n",
    "        y = U(0,1)\n",
    "        if x >= 0 and y <= 1 and y >= (x*x):\n",
    "            m     += 1\n",
    "            sumf  += rho(x, y)\n",
    "    meanf   = sumf/m\n",
    "    V  = 2/3.\n",
    "    I  = V*meanf\n",
    "    return I\n",
    "\n",
    "arrayI4aCrude = np.array([I4aCrude() for i in range (4000)])\n",
    "print('uncertainty in 4a crude is: %2.4f'%arrayI4aCrude.std())  \n",
    "plt.hist(arrayI4aCrude)"
   ]
  },
  {
   "cell_type": "code",
   "execution_count": 79,
   "metadata": {},
   "outputs": [
    {
     "name": "stdout",
     "output_type": "stream",
     "text": [
      "uncertainty in 4a HOM is: 0.0453\n"
     ]
    },
    {
     "data": {
      "text/plain": [
       "(array([   5.,   25.,  169.,  522., 1018., 1179.,  716.,  281.,   73.,\n",
       "          12.]),\n",
       " array([0.82153846, 0.85569231, 0.88984615, 0.924     , 0.95815385,\n",
       "        0.99230769, 1.02646154, 1.06061538, 1.09476923, 1.12892308,\n",
       "        1.16307692]),\n",
       " <a list of 10 Patch objects>)"
      ]
     },
     "execution_count": 79,
     "metadata": {},
     "output_type": "execute_result"
    },
    {
     "data": {
      "image/png": "[encoded data removed]",
      "text/plain": [
       "<Figure size 432x288 with 1 Axes>"
      ]
     },
     "metadata": {},
     "output_type": "display_data"
    }
   ],
   "source": [
    "# brute force estimation of the uncertainty for 4a hit-or-miss\n",
    "def I4aHOM():\n",
    "    def rho(x,y): return (20/13.)*(x+y)\n",
    "\n",
    "    n     = 1000\n",
    "    n0    = 0\n",
    "\n",
    "    for i in range(n):\n",
    "        x = U(0,1)\n",
    "        y = U(0,1)\n",
    "        z = U(0,2*20/13.)\n",
    "        if x >= 0 and y <= 1 and y >= (x*x):\n",
    "            if z <= rho(x,y): n0 += 1\n",
    "\n",
    "\n",
    "    ## hit-or-miss            \n",
    "    V  = 2*(20/13.)\n",
    "    p  = n0/n\n",
    "    I  = V*n0/n\n",
    "    return I \n",
    "    \n",
    "arrayI4aHOM = np.array([I4aHOM() for i in range (4000)])\n",
    "print('uncertainty in 4a HOM is: %2.4f'%arrayI4aHOM.std())  \n",
    "plt.hist(arrayI4aHOM)"
   ]
  },
  {
   "cell_type": "code",
   "execution_count": 82,
   "metadata": {},
   "outputs": [
    {
     "name": "stdout",
     "output_type": "stream",
     "text": [
      "uncertainty in 4b crude is: 0.0084\n"
     ]
    },
    {
     "data": {
      "text/plain": [
       "(array([  10.,   85.,  302.,  719., 1070.,  957.,  598.,  209.,   41.,\n",
       "           9.]),\n",
       " array([0.97144755, 0.97733645, 0.98322535, 0.98911425, 0.99500315,\n",
       "        1.00089204, 1.00678094, 1.01266984, 1.01855874, 1.02444764,\n",
       "        1.03033654]),\n",
       " <a list of 10 Patch objects>)"
      ]
     },
     "execution_count": 82,
     "metadata": {},
     "output_type": "execute_result"
    },
    {
     "data": {
      "image/png": "[encoded data removed]",
      "text/plain": [
       "<Figure size 432x288 with 1 Axes>"
      ]
     },
     "metadata": {},
     "output_type": "display_data"
    }
   ],
   "source": [
    "# brute force estimation of the uncertainty for 4b crude\n",
    "def I4bCrude():\n",
    "    k = 12/31.\n",
    "    def rho(x,y,z): return (k)*(x**2 + y*z)\n",
    "\n",
    "    n     = 1000\n",
    "    sumf  = 0\n",
    "    sumf2 = 0\n",
    "\n",
    "    for i in range(n):\n",
    "        x = U(0,1)\n",
    "        y = U(1,2)\n",
    "        z = U(1,2)\n",
    "        sumf  += rho(x,y,z)\n",
    "        sumf2 += rho(x,y,z)**2\n",
    "\n",
    "    # crude \n",
    "    meanf   = sumf/n\n",
    "    sigmaf  = sigmaf2**0.5\n",
    "    V  = 1\n",
    "    I  = V*meanf\n",
    "    return I\n",
    " \n",
    "arrayI4bCrude = np.array([I4bCrude() for i in range (4000)])\n",
    "print('uncertainty in 4b crude is: %2.4f'%arrayI4bCrude.std())  \n",
    "plt.hist(arrayI4bCrude)    "
   ]
  },
  {
   "cell_type": "code",
   "execution_count": 85,
   "metadata": {},
   "outputs": [
    {
     "name": "stdout",
     "output_type": "stream",
     "text": [
      "uncertainty in 4b HOM is: 0.0305\n"
     ]
    },
    {
     "data": {
      "text/plain": [
       "(array([4., 2., 3., 4., 5., 8., 7., 3., 2., 2.]),\n",
       " array([0.93677419, 0.94935484, 0.96193548, 0.97451613, 0.98709677,\n",
       "        0.99967742, 1.01225806, 1.02483871, 1.03741935, 1.05      ,\n",
       "        1.06258065]),\n",
       " <a list of 10 Patch objects>)"
      ]
     },
     "execution_count": 85,
     "metadata": {},
     "output_type": "execute_result"
    },
    {
     "data": {
      "image/png": "[encoded data removed]",
      "text/plain": [
       "<Figure size 432x288 with 1 Axes>"
      ]
     },
     "metadata": {},
     "output_type": "display_data"
    }
   ],
   "source": [
    "# brute force estimation of the uncertainty for 4b HOM\n",
    "def I4bHOM():\n",
    "    k = 12/31.\n",
    "    def rho(x,y,z): return (k)*(x**2 + y*z)\n",
    "\n",
    "    n     = 1000\n",
    "    n0    = 0\n",
    "\n",
    "    for i in range(n):\n",
    "        x = U(0,1)\n",
    "        y = U(1,2)\n",
    "        z = U(1,2)\n",
    "        w = U(0,k*5)\n",
    "        if w <= rho(x,y,z): n0 += 1\n",
    "\n",
    "    # hit-or-miss\n",
    "    p = n0/n\n",
    "    V = (k)*5\n",
    "    I  = V*p\n",
    "    return I\n",
    "    \n",
    "arrayI4bHOM = np.array([I4bHOM() for i in range (40)])\n",
    "print('uncertainty in 4b HOM is: %2.4f'%arrayI4bHOM.std())  \n",
    "plt.hist(arrayI4bHOM) "
   ]
  },
  {
   "cell_type": "code",
   "execution_count": null,
   "metadata": {},
   "outputs": [],
   "source": []
  }
 ],
 "metadata": {
  "kernelspec": {
   "display_name": "Python 3",
   "language": "python",
   "name": "python3"
  },
  "language_info": {
   "codemirror_mode": {
    "name": "ipython",
    "version": 3
   },
   "file_extension": ".py",
   "mimetype": "text/x-python",
   "name": "python",
   "nbconvert_exporter": "python",
   "pygments_lexer": "ipython3",
   "version": "3.6.5"
  }
 },
 "nbformat": 4,
 "nbformat_minor": 2
}
