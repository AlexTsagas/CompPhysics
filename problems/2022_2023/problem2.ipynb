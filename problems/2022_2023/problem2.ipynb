{
 "cells": [
  {
   "cell_type": "code",
   "execution_count": 2,
   "id": "8fcff792",
   "metadata": {},
   "outputs": [],
   "source": [
    "import numpy as np\n",
    "import matplotlib.pyplot as plt\n",
    "def U(): return np.random.rand()\n",
    "def f(x): return 1/x\n",
    "a, b = 0.5, 10.5"
   ]
  },
  {
   "cell_type": "code",
   "execution_count": 14,
   "id": "19ae47b3",
   "metadata": {},
   "outputs": [
    {
     "name": "stdout",
     "output_type": "stream",
     "text": [
      "For N = 100000 len(xs) = 100000 performance = 1.000\n"
     ]
    }
   ],
   "source": [
    "# sampling with the method of inverse transform  \n",
    "c = 1/np.log(21)\n",
    "def Finv(x): return 0.5*np.exp(x/c)\n",
    "\n",
    "N      = 100000\n",
    "xs     = [Finv(U()) for dummy in range(N)]\n",
    "mybins = np.linspace(0.5, 10.5, 50)\n",
    "#plt.hist(xs, mybins, ec = 'black')\n",
    "print('For N = %d len(xs) = %d performance = %2.3f'%(N, len(xs), float(len(xs))/N))"
   ]
  },
  {
   "cell_type": "code",
   "execution_count": 15,
   "id": "13958bac",
   "metadata": {},
   "outputs": [
    {
     "name": "stdout",
     "output_type": "stream",
     "text": [
      "For N = 100000 len(xs) = 15299 performance = 0.153\n"
     ]
    }
   ],
   "source": [
    "# sampling with accept-reject  \n",
    "fmax = f(a)\n",
    "xs = []\n",
    "N      = 100000\n",
    "for i in range(N):\n",
    "    x = U()*(b-a) + a\n",
    "    y = U()*fmax\n",
    "    if y < f(x): xs += [x]\n",
    "\n",
    "mybins = np.linspace(0.5, 10.5, 50)\n",
    "print('For N = %d len(xs) = %d performance = %2.3f'%(N, len(xs), float(len(xs))/N))\n",
    "#plt.hist(xs, mybins, ec = 'black')"
   ]
  }
 ],
 "metadata": {
  "kernelspec": {
   "display_name": "Python 3",
   "language": "python",
   "name": "python3"
  },
  "language_info": {
   "codemirror_mode": {
    "name": "ipython",
    "version": 3
   },
   "file_extension": ".py",
   "mimetype": "text/x-python",
   "name": "python",
   "nbconvert_exporter": "python",
   "pygments_lexer": "ipython3",
   "version": "3.9.12"
  }
 },
 "nbformat": 4,
 "nbformat_minor": 5
}
