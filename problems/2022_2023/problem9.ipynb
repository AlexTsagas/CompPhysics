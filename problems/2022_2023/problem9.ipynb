{
 "cells": [
  {
   "cell_type": "code",
   "execution_count": 1,
   "id": "df5e40d9",
   "metadata": {},
   "outputs": [],
   "source": [
    "import numpy as np\n",
    "import matplotlib.pyplot as plt"
   ]
  },
  {
   "cell_type": "code",
   "execution_count": 18,
   "id": "23e9473f",
   "metadata": {},
   "outputs": [],
   "source": [
    "def U(): return np.random.rand()\n",
    "def f(x): return 1/x\n",
    "a, b = 0.5, 10.5"
   ]
  },
  {
   "cell_type": "code",
   "execution_count": 28,
   "id": "f050bccb",
   "metadata": {},
   "outputs": [
    {
     "name": "stdout",
     "output_type": "stream",
     "text": [
      "expected values for crude MC: I = 3.045 ± 0.031 for N = 10000\n"
     ]
    }
   ],
   "source": [
    "# crude MC - expected performance\n",
    "V    = b - a\n",
    "N    = 10**4\n",
    " \n",
    "Ef   = np.log(21)/V\n",
    "Ef2  = (2 - 1/10.5)/10.\n",
    "\n",
    "EI   = V*Ef\n",
    "EδΙ  = V*(Ef2 - Ef**2)**0.5/N**0.5\n",
    "\n",
    "print('expected values for crude MC: I = %2.3f ± %2.3f for N = %d'%(EI, EδΙ, N))"
   ]
  },
  {
   "cell_type": "code",
   "execution_count": 22,
   "id": "ed815dad",
   "metadata": {},
   "outputs": [
    {
     "name": "stdout",
     "output_type": "stream",
     "text": [
      "crude M: I = 3.017 ± 0.031 for N = 10000\n"
     ]
    }
   ],
   "source": [
    "# crude MC - algorithm\n",
    "N   = 10**4\n",
    "Σf  = 0\n",
    "Σf2 = 0\n",
    "for i in range(int(N)):\n",
    "    x = U()*(b-a) + a\n",
    "    Σf  += f(x)\n",
    "    Σf2 += f(x)*f(x)\n",
    "\n",
    "    \n",
    "μf  = Σf/N\n",
    "σf2 = Σf2/N - μf**2\n",
    "sf2 = σf2*(N/(N-1))\n",
    "sf  = sf2**0.5\n",
    "\n",
    "V   = b - a\n",
    "I   = V*μf\n",
    "δI  = V*sf/N**0.5\n",
    "\n",
    "print('crude MC: I = %2.3f ± %2.3f for N = %d'%(I, δI, N))    "
   ]
  },
  {
   "cell_type": "code",
   "execution_count": 29,
   "id": "3a075891",
   "metadata": {},
   "outputs": [
    {
     "name": "stdout",
     "output_type": "stream",
     "text": [
      "expected values for crude MC: I = 3.0445224377 ± 0.0000312706 for N = 10000000000\n"
     ]
    }
   ],
   "source": [
    "# crude MC\n",
    "V    = b - a\n",
    "N    = 10**10\n",
    " \n",
    "Ef   = np.log(21)/V\n",
    "Ef2  = (2 - 1/10.5)/10.\n",
    "\n",
    "EI   = V*Ef\n",
    "EδΙ  = V*(Ef2 - Ef**2)**0.5/N**0.5\n",
    "\n",
    "print('expected values for crude MC: I = %2.10f ± %2.10f for N = %d'%(EI, EδΙ, N))"
   ]
  },
  {
   "cell_type": "code",
   "execution_count": 41,
   "id": "88a85c55",
   "metadata": {},
   "outputs": [
    {
     "name": "stdout",
     "output_type": "stream",
     "text": [
      "expected values for h-o-m MC: I = 3.045 ± 0.072 for N = 10000\n"
     ]
    }
   ],
   "source": [
    "# hit-or-miss - expected performance\n",
    "N    = 10**4\n",
    "fmax = f(a)\n",
    "V    = fmax*(b - a)\n",
    "Ep   = EI/V\n",
    "EI   = V*Ep\n",
    "EδΙ  = V*(Ep - Ep*Ep)**0.5/N**0.5\n",
    "\n",
    "print('expected values for h-o-m MC: I = %2.3f ± %2.3f for N = %d'%(EI, EδΙ, N))"
   ]
  },
  {
   "cell_type": "code",
   "execution_count": 39,
   "id": "3df1df71",
   "metadata": {},
   "outputs": [
    {
     "name": "stdout",
     "output_type": "stream",
     "text": [
      "hit-or-miss MC: I = 3.076 ± 0.072 for N = 10000\n"
     ]
    }
   ],
   "source": [
    "# hit-or-miss - algorithm\n",
    "N    = 10**4\n",
    "fmax = f(a)\n",
    "V    = fmax*(b - a)\n",
    "\n",
    "n    = 0\n",
    "for u in range(N):\n",
    "    x = U()*(b-a) + a\n",
    "    u = U()*fmax\n",
    "    if u < f(x): n += 1\n",
    "\n",
    "p  = n/float(N)\n",
    "I  = V*p\n",
    "δI = V*(p-p*p)**0.5/N**0.5\n",
    "\n",
    "print('hit-or-miss MC: I = %2.3f ± %2.3f for N = %d'%(I, δI, N))    "
   ]
  },
  {
   "cell_type": "code",
   "execution_count": null,
   "id": "74a53ea3",
   "metadata": {},
   "outputs": [],
   "source": []
  }
 ],
 "metadata": {
  "kernelspec": {
   "display_name": "Python 3",
   "language": "python",
   "name": "python3"
  },
  "language_info": {
   "codemirror_mode": {
    "name": "ipython",
    "version": 3
   },
   "file_extension": ".py",
   "mimetype": "text/x-python",
   "name": "python",
   "nbconvert_exporter": "python",
   "pygments_lexer": "ipython3",
   "version": "3.9.12"
  }
 },
 "nbformat": 4,
 "nbformat_minor": 5
}
