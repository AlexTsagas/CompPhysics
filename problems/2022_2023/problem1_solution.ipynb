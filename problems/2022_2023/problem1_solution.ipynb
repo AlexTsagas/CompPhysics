{
 "cells": [
  {
   "cell_type": "code",
   "execution_count": 26,
   "metadata": {},
   "outputs": [],
   "source": [
    "import matplotlib.pyplot as plt\n",
    "import numpy as np"
   ]
  },
  {
   "cell_type": "code",
   "execution_count": 60,
   "metadata": {},
   "outputs": [],
   "source": [
    "datalink = 'https://raw.githubusercontent.com/theofil/CompPhysics/master/problems/2022_2023/dicerolls.txt'\n",
    "data = np.loadtxt(datalink, delimiter = ',')\n",
    "#alternatively, but less nicely, just put the data by hand into a list\n",
    "#data = [4, 2, 3, 6, 1, 5, 1, 5, 6, 3, 2, 1, 2, 1, 2, 5, 5, 3, 1, 2, 3, 4, 3, 6, 3, 6, 4, 2, 3, 3, 6, 4, 1, 1, 6, 4, 6, 3, 4, 6, 6, 4, 2, 2, 6, 3, 6, 5, 4, 6, 3, 3, 3, 4, 2, 5, 3, 3, 2, 3, 5, 4, 3, 4, 3, 6, 3, 6, 3, 5, 2, 3, 2, 3, 6, 1, 2, 3, 3, 3, 5, 5, 5, 2, 6, 1, 3, 3, 3, 2, 3, 3, 3, 4, 4, 3, 5, 5, 5, 1, 2, 1, 1, 3, 3, 3, 3, 6, 4, 4, 3, 6, 2, 4, 3, 6, 5, 3, 6, 2, 3, 3, 5, 3, 4, 5, 4, 3, 1, 3, 2, 6, 4, 3, 5, 4, 3, 3, 1, 6, 4, 4, 3, 6, 4, 3, 6, 4, 3, 5, 3, 4, 3, 6, 2, 3, 6, 1, 3, 6, 1, 4, 1, 2, 1, 6, 4, 3, 3, 4, 3, 2, 6, 1, 3, 4, 6, 6, 4, 1, 1, 3, 3, 3, 5, 3, 4, 3, 1, 3, 5, 3, 5, 6, 4, 5, 3, 5, 5, 6, 3, 1, 3, 3, 6, 1, 6, 5, 2, 5, 4, 1, 3, 6, 5, 3, 2, 3, 1, 3, 6, 4, 1, 6, 3, 1, 2, 6, 4, 6, 4, 3, 3, 5, 4, 4, 1, 5, 6, 3, 5, 3, 4, 5, 4, 1, 2, 6, 6, 3, 2, 3, 4, 4, 3, 3, 4, 6, 5, 4, 3, 1, 2, 6, 2, 1, 3, 2, 1, 3, 3, 3, 6, 3, 1, 2, 6, 3, 1, 6, 1, 4, 6, 5, 3, 1, 2, 6, 2, 1, 1, 3, 5, 6, 1, 5, 5, 3, 5, 3]"
   ]
  },
  {
   "cell_type": "code",
   "execution_count": 61,
   "metadata": {},
   "outputs": [
    {
     "name": "stdout",
     "output_type": "stream",
     "text": [
      "μ = 3.537   sN2 = 2.542   s2 = 2.550\n"
     ]
    }
   ],
   "source": [
    "Σx  = 0\n",
    "Σx2 = 0\n",
    "\n",
    "for x in data:\n",
    "    Σx  += x\n",
    "    Σx2 += x*x\n",
    "    \n",
    "N   = len(data) # lenght of the array\n",
    "N   = float(N)  # make N float to be sure for the division\n",
    "μ   = Σx/N\n",
    "sN2 = Σx2/N - μ**2\n",
    "s2  = sN2*(N/(N-1))\n",
    "\n",
    "print('μ = %2.3f   sN2 = %2.3f   s2 = %2.3f'%(μ, sN2, s2))"
   ]
  },
  {
   "cell_type": "code",
   "execution_count": 63,
   "metadata": {},
   "outputs": [
    {
     "name": "stdout",
     "output_type": "stream",
     "text": [
      "std and variance from numpy 2.5419888888888886 2.5419888888888886\n",
      "μ = 3.537   sN2 = 2.542   s2 = 2.550\n"
     ]
    }
   ],
   "source": [
    "# numpy way\n",
    "data = np.array(data) # promote data to np array if it's not already of that type\n",
    "N   = float(len(data))\n",
    "μ   = data.mean()\n",
    "σ   = data.std()\n",
    "sN2 = data.var()\n",
    "s2  = sN2*(N/(N-1))\n",
    "\n",
    "print('std and variance from numpy', data.std()**2, data.var())\n",
    "print('μ = %2.3f   sN2 = %2.3f   s2 = %2.3f'%(μ, sN2, s2))"
   ]
  },
  {
   "cell_type": "code",
   "execution_count": 64,
   "metadata": {},
   "outputs": [
    {
     "data": {
      "text/plain": [
       "(array([ 0., 40., 33., 93., 45., 38., 51.]),\n",
       " array([0, 1, 2, 3, 4, 5, 6, 7]),\n",
       " <BarContainer object of 7 artists>)"
      ]
     },
     "execution_count": 64,
     "metadata": {},
     "output_type": "execute_result"
    },
    {
     "data": {
      "image/png": "[encoded data removed]",
      "text/plain": [
       "<Figure size 432x288 with 1 Axes>"
      ]
     },
     "metadata": {
      "needs_background": "light"
     },
     "output_type": "display_data"
    }
   ],
   "source": [
    "plt.hist(data, bins = range(8), ec='black') # don't forget we count from 0"
   ]
  },
  {
   "cell_type": "code",
   "execution_count": null,
   "metadata": {},
   "outputs": [],
   "source": [
    "# we observe that the dice is not very fair having too many 3's!"
   ]
  }
 ],
 "metadata": {
  "kernelspec": {
   "display_name": "Python 3",
   "language": "python",
   "name": "python3"
  },
  "language_info": {
   "codemirror_mode": {
    "name": "ipython",
    "version": 3
   },
   "file_extension": ".py",
   "mimetype": "text/x-python",
   "name": "python",
   "nbconvert_exporter": "python",
   "pygments_lexer": "ipython3",
   "version": "3.8.5"
  }
 },
 "nbformat": 4,
 "nbformat_minor": 5
}
