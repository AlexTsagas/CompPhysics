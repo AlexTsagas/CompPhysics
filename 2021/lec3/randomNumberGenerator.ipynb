{
 "cells": [
  {
   "cell_type": "code",
   "execution_count": 3,
   "metadata": {},
   "outputs": [],
   "source": [
    "import matplotlib.pyplot as plt\n",
    "import numpy as np"
   ]
  },
  {
   "cell_type": "code",
   "execution_count": 10,
   "metadata": {},
   "outputs": [
    {
     "name": "stdout",
     "output_type": "stream",
     "text": [
      "50001\n"
     ]
    },
    {
     "data": {
      "text/plain": [
       "(array([508., 510., 515., 515., 495., 513., 465., 499., 479., 503., 513.,\n",
       "        484., 493., 486., 485., 468., 482., 494., 505., 499., 469., 496.,\n",
       "        487., 482., 524., 489., 480., 507., 521., 513., 494., 509., 468.,\n",
       "        535., 489., 495., 455., 506., 466., 499., 513., 469., 493., 545.,\n",
       "        498., 514., 516., 478., 501., 518., 505., 527., 470., 480., 530.,\n",
       "        505., 519., 521., 532., 525., 488., 515., 514., 490., 484., 489.,\n",
       "        498., 492., 514., 516., 517., 472., 515., 528., 488., 494., 482.,\n",
       "        469., 473., 552., 508., 516., 450., 515., 504., 484., 523., 502.,\n",
       "        489., 490., 496., 519., 483., 462., 538., 529., 555., 497., 490.,\n",
       "        507.]),\n",
       " array([1.39698386e-09, 9.99999976e-03, 1.99999981e-02, 2.99999965e-02,\n",
       "        3.99999949e-02, 4.99999932e-02, 5.99999916e-02, 6.99999900e-02,\n",
       "        7.99999883e-02, 8.99999867e-02, 9.99999851e-02, 1.09999983e-01,\n",
       "        1.19999982e-01, 1.29999980e-01, 1.39999979e-01, 1.49999977e-01,\n",
       "        1.59999975e-01, 1.69999974e-01, 1.79999972e-01, 1.89999970e-01,\n",
       "        1.99999969e-01, 2.09999967e-01, 2.19999965e-01, 2.29999964e-01,\n",
       "        2.39999962e-01, 2.49999961e-01, 2.59999959e-01, 2.69999957e-01,\n",
       "        2.79999956e-01, 2.89999954e-01, 2.99999952e-01, 3.09999951e-01,\n",
       "        3.19999949e-01, 3.29999947e-01, 3.39999946e-01, 3.49999944e-01,\n",
       "        3.59999943e-01, 3.69999941e-01, 3.79999939e-01, 3.89999938e-01,\n",
       "        3.99999936e-01, 4.09999934e-01, 4.19999933e-01, 4.29999931e-01,\n",
       "        4.39999929e-01, 4.49999928e-01, 4.59999926e-01, 4.69999925e-01,\n",
       "        4.79999923e-01, 4.89999921e-01, 4.99999920e-01, 5.09999918e-01,\n",
       "        5.19999916e-01, 5.29999915e-01, 5.39999913e-01, 5.49999912e-01,\n",
       "        5.59999910e-01, 5.69999908e-01, 5.79999907e-01, 5.89999905e-01,\n",
       "        5.99999903e-01, 6.09999902e-01, 6.19999900e-01, 6.29999898e-01,\n",
       "        6.39999897e-01, 6.49999895e-01, 6.59999894e-01, 6.69999892e-01,\n",
       "        6.79999890e-01, 6.89999889e-01, 6.99999887e-01, 7.09999885e-01,\n",
       "        7.19999884e-01, 7.29999882e-01, 7.39999880e-01, 7.49999879e-01,\n",
       "        7.59999877e-01, 7.69999876e-01, 7.79999874e-01, 7.89999872e-01,\n",
       "        7.99999871e-01, 8.09999869e-01, 8.19999867e-01, 8.29999866e-01,\n",
       "        8.39999864e-01, 8.49999862e-01, 8.59999861e-01, 8.69999859e-01,\n",
       "        8.79999858e-01, 8.89999856e-01, 8.99999854e-01, 9.09999853e-01,\n",
       "        9.19999851e-01, 9.29999849e-01, 9.39999848e-01, 9.49999846e-01,\n",
       "        9.59999844e-01, 9.69999843e-01, 9.79999841e-01, 9.89999840e-01,\n",
       "        9.99999838e-01]),\n",
       " <BarContainer object of 100 artists>)"
      ]
     },
     "execution_count": 10,
     "metadata": {},
     "output_type": "execute_result"
    },
    {
     "data": {
      "image/png": "[encoded data removed]",
      "text/plain": [
       "<Figure size 432x288 with 1 Axes>"
      ]
     },
     "metadata": {
      "needs_background": "light"
     },
     "output_type": "display_data"
    }
   ],
   "source": [
    "# auto einai to programma me to opoio eixame \"kolisei\" sto mathima\n",
    "def r(x): return (16807*x)%(2**31-1)\n",
    "\n",
    "init = 3\n",
    "rs = [init]\n",
    "\n",
    "N = 50000  \n",
    "xmax = 2**31 - 1\n",
    "\n",
    "\n",
    "for i in range(N):\n",
    "    rs += [r(rs[-1])]\n",
    "\n",
    "#for i in range(N):   # Auti h grammi prokalese megali anastatwsi !!!  \n",
    "for i in range(N+1):  # Diorthwsi apo ton Kyriako & Konstantino (to legate stin taksi all de katalabaina)\n",
    "    rs[i]= rs[i]/xmax # anti tou N thelei N+1 epeidi eixame prosthesei N stoixeia\n",
    "                      # rs = [init, x1, x2, x3, x4 ...] sto arxiko rs = [init]\n",
    "                      # me apotelesma to teleytaio stoixeio tou rs na min exei ypostei ypobathmisi kata (1/xmax)\n",
    "                      # kai na \"traba\" tin klimaka tou histogrammatos ektos orion, sympiezontas tin perioxi\n",
    "                      # [0,1] pou mas endiefere na doume me sto diagramma \n",
    "\n",
    "plt.hist(rs, bins = 100)"
   ]
  },
  {
   "cell_type": "code",
   "execution_count": null,
   "metadata": {},
   "outputs": [],
   "source": []
  }
 ],
 "metadata": {
  "kernelspec": {
   "display_name": "Python 3",
   "language": "python",
   "name": "python3"
  },
  "language_info": {
   "codemirror_mode": {
    "name": "ipython",
    "version": 3
   },
   "file_extension": ".py",
   "mimetype": "text/x-python",
   "name": "python",
   "nbconvert_exporter": "python",
   "pygments_lexer": "ipython3",
   "version": "3.8.5"
  }
 },
 "nbformat": 4,
 "nbformat_minor": 5
}
