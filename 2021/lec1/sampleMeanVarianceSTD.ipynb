{
 "cells": [
  {
   "cell_type": "code",
   "execution_count": 29,
   "metadata": {},
   "outputs": [
    {
     "name": "stdout",
     "output_type": "stream",
     "text": [
      "N = 10   μ = 3.000  var = 1.000 \n"
     ]
    }
   ],
   "source": [
    "# παραδειγμα με 2 for loops\n",
    "x  = [3, 2, 4, 1, 2, 3, 4, 3, 4, 4]\n",
    "Σx = 0\n",
    "N  = len(x)\n",
    "μ  = 0\n",
    "\n",
    "for i in range(N):\n",
    "    Σx = Σx + x[i]\n",
    "\n",
    "\n",
    "μ = Σx/N     \n",
    "\n",
    "var = 0\n",
    "\n",
    "for i in range(N):\n",
    "    var = var + (x[i] - μ)**2\n",
    "\n",
    "var = var/N    \n",
    "\n",
    "print('N = %d   μ = %2.3f  var = %2.3f '%(N, μ, var))"
   ]
  },
  {
   "cell_type": "code",
   "execution_count": 30,
   "metadata": {},
   "outputs": [
    {
     "name": "stdout",
     "output_type": "stream",
     "text": [
      "N = 10   μ = 3.000  var = 1.000    σ2 = 1.000   σ = 1.000\n"
     ]
    }
   ],
   "source": [
    "# παραδειγμα με 1 for loops\n",
    "x   = [3, 2, 4, 1, 2, 3, 4, 3, 4, 4]\n",
    "Σx  = 0\n",
    "Σx2 = 0\n",
    "N   = len(x)\n",
    "μ   = 0\n",
    "\n",
    "for i in range(N):\n",
    "    Σx  = Σx  + x[i]\n",
    "    Σx2 = Σx2 + x[i]**2\n",
    "\n",
    "\n",
    "μ  = Σx/N     \n",
    "σ2 = Σx2/N - μ**2\n",
    "σ  = σ2**0.5\n",
    "\n",
    "print('N = %d   μ = %2.3f  var = %2.3f    σ2 = %2.3f   σ = %2.3f'%(N, μ, var, σ2, σ))"
   ]
  },
  {
   "cell_type": "code",
   "execution_count": 31,
   "metadata": {},
   "outputs": [
    {
     "name": "stdout",
     "output_type": "stream",
     "text": [
      "N = 10   μ = 3.000  σ2 = 1.000\n"
     ]
    }
   ],
   "source": [
    "# παραδειγμα με 0 for loops\n",
    "import numpy as np\n",
    "import matplotlib.pyplot as plt\n",
    "\n",
    "x = np.array(x) \n",
    "\n",
    "N  = len(x)\n",
    "μ  = sum(x)/N\n",
    "σ2 = sum((x-μ)**2)/N\n",
    "σ  = σ2**0.5\n",
    "\n",
    "\n",
    "print('N = %d   μ = %2.3f  σ2 = %2.3f'%(N, μ , σ2))"
   ]
  },
  {
   "cell_type": "code",
   "execution_count": 32,
   "metadata": {},
   "outputs": [
    {
     "data": {
      "text/plain": [
       "(array([0., 1., 2., 3., 4., 0., 0.]),\n",
       " array([0, 1, 2, 3, 4, 5, 6, 7]),\n",
       " <BarContainer object of 7 artists>)"
      ]
     },
     "execution_count": 32,
     "metadata": {},
     "output_type": "execute_result"
    },
    {
     "data": {
      "image/png": "[encoded data removed]",
      "text/plain": [
       "<Figure size 432x288 with 1 Axes>"
      ]
     },
     "metadata": {
      "needs_background": "light"
     },
     "output_type": "display_data"
    }
   ],
   "source": [
    "# visulation -- bin ~[xleft, xright)\n",
    "x  = [3, 2, 4, 1, 2, 3, 4, 3, 4, 4]\n",
    "bins = range(8)\n",
    "plt.hist(x, bins, ec = 'black')"
   ]
  },
  {
   "cell_type": "code",
   "execution_count": null,
   "metadata": {},
   "outputs": [],
   "source": []
  },
  {
   "cell_type": "code",
   "execution_count": null,
   "metadata": {},
   "outputs": [],
   "source": []
  }
 ],
 "metadata": {
  "kernelspec": {
   "display_name": "Python 3",
   "language": "python",
   "name": "python3"
  },
  "language_info": {
   "codemirror_mode": {
    "name": "ipython",
    "version": 3
   },
   "file_extension": ".py",
   "mimetype": "text/x-python",
   "name": "python",
   "nbconvert_exporter": "python",
   "pygments_lexer": "ipython3",
   "version": "3.8.5"
  }
 },
 "nbformat": 4,
 "nbformat_minor": 5
}
