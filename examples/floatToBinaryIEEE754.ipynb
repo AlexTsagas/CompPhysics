{
  "nbformat": 4,
  "nbformat_minor": 0,
  "metadata": {
    "colab": {
      "name": "floatToBinaryIEEE754.ipynb",
      "version": "0.3.2",
      "provenance": []
    },
    "kernelspec": {
      "name": "python3",
      "display_name": "Python 3"
    }
  },
  "cells": [
    {
      "cell_type": "markdown",
      "metadata": {
        "id": "vt6qzO5UxNFk",
        "colab_type": "text"
      },
      "source": [
        "# Code to display the binary of IEEE754 float\n",
        "\n",
        "---\n",
        "\n",
        "code written by Dan Lecocq with minor adjustments for Python 3 by Cristian Ciupitu, see [stackoverflow](https://stackoverflow.com/questions/16444726/binary-representation-of-float-in-python-bits-not-hex)\n",
        "\n",
        "---"
      ]
    },
    {
      "cell_type": "code",
      "metadata": {
        "id": "PDuryP9UvIFm",
        "colab_type": "code",
        "colab": {}
      },
      "source": [
        "import struct\n",
        "def binary(num):\n",
        "    return ''.join('{:0>8b}'.format(c) for c in struct.pack('!f', num))"
      ],
      "execution_count": 0,
      "outputs": []
    },
    {
      "cell_type": "code",
      "metadata": {
        "id": "rhUngIIvvJP2",
        "colab_type": "code",
        "outputId": "a46f094e-6dac-41fc-d57e-7c3e1ededc57",
        "colab": {
          "base_uri": "https://localhost:8080/",
          "height": 139
        }
      },
      "source": [
        "myNumbers = (0, 1, -1, 2, 0.5 , 0.225, 0.1)\n",
        "for number in myNumbers:\n",
        "  print(' %3.5f is %s'%(number, binary(number)))"
      ],
      "execution_count": 16,
      "outputs": [
        {
          "output_type": "stream",
          "text": [
            " 0.00000 is 00000000000000000000000000000000\n",
            " 1.00000 is 00111111100000000000000000000000\n",
            " -1.00000 is 10111111100000000000000000000000\n",
            " 2.00000 is 01000000000000000000000000000000\n",
            " 0.50000 is 00111111000000000000000000000000\n",
            " 0.22500 is 00111110011001100110011001100110\n",
            " 0.10000 is 00111101110011001100110011001101\n"
          ],
          "name": "stdout"
        }
      ]
    },
    {
      "cell_type": "code",
      "metadata": {
        "id": "SYelOkIyvMEk",
        "colab_type": "code",
        "colab": {}
      },
      "source": [
        ""
      ],
      "execution_count": 0,
      "outputs": []
    }
  ]
}