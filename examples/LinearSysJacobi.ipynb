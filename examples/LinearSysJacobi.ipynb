{
  "nbformat": 4,
  "nbformat_minor": 0,
  "metadata": {
    "colab": {
      "name": "LinearSysJacobi.ipynb",
      "version": "0.3.2",
      "provenance": [],
      "collapsed_sections": [],
      "include_colab_link": true
    },
    "kernelspec": {
      "name": "python3",
      "display_name": "Python 3"
    }
  },
  "cells": [
    {
      "cell_type": "markdown",
      "metadata": {
        "id": "view-in-github",
        "colab_type": "text"
      },
      "source": [
        "<a href=\"https://colab.research.google.com/github/theofil/CompPhysics/blob/master/examples/LinearSysJacobi.ipynb\" target=\"_parent\"><img src=\"https://colab.research.google.com/assets/colab-badge.svg\" alt=\"Open In Colab\"/></a>"
      ]
    },
    {
      "cell_type": "markdown",
      "metadata": {
        "id": "vHhY7eK7Gy8m",
        "colab_type": "text"
      },
      "source": [
        "# Linear system (iterative solution with Jacobi)\n",
        "\n",
        "---\n",
        "\n",
        "code written by Konstantinos Theofilatos on 2019.09.16\n",
        "---"
      ]
    },
    {
      "cell_type": "code",
      "metadata": {
        "id": "8gtyTic9M5qc",
        "colab_type": "code",
        "outputId": "3ce64101-56ad-4877-83a6-7e0362bb6327",
        "colab": {
          "base_uri": "https://localhost:8080/",
          "height": 228
        }
      },
      "source": [
        "import numpy as np\n",
        "\n",
        "def linSysIter(A, b): \n",
        "    (n, m) = A.shape\n",
        "    if n != m: print('A is not a square matrix but is %d x %d'%(n, m))\n",
        "    if (n, 1) != b.shape: print('b is not a column vector of same dim as A')\n",
        "  \n",
        "    D = np.identity(n)\n",
        "    Dinv = np.identity(n)\n",
        "    for k in range(n): \n",
        "        D[k,k] = A[k,k]\n",
        "        Dinv[k,k] = 1/A[k,k]\n",
        "\n",
        "    S = D - A  # A = D - S\n",
        "    M = Dinv@S\n",
        "    Dinvb = Dinv@b\n",
        "    print('M \\n', M)\n",
        "    X = np.zeros((n,1))  \n",
        "\n",
        "    for ii in range(100): \n",
        "        X = M@X + Dinvb\n",
        "\n",
        "    print('final X \\n', X)\n",
        "    print('final Ax - b \\n', A@X - b)\n",
        "\n",
        "if __name__ == '__main__':\n",
        "    b = np.array([ [10.], \n",
        "                   [5.],   \n",
        "                   [10.] ]) \n",
        "\n",
        "    A = np.array([ [ 3  , -1. ,  0 ], \n",
        "                   [-1. ,  3. , -1 ], \n",
        "                   [0   , -2. , 4. ] \n",
        "                ])\n",
        "        \n",
        "    linSysIter(A, b)"
      ],
      "execution_count": 17,
      "outputs": [
        {
          "output_type": "stream",
          "text": [
            "M \n",
            " [[0.         0.33333333 0.        ]\n",
            " [0.33333333 0.         0.33333333]\n",
            " [0.         0.5        0.        ]]\n",
            "final X \n",
            " [[5.]\n",
            " [5.]\n",
            " [5.]]\n",
            "final Ax - b \n",
            " [[0.]\n",
            " [0.]\n",
            " [0.]]\n"
          ],
          "name": "stdout"
        }
      ]
    },
    {
      "cell_type": "code",
      "metadata": {
        "id": "DReMeWMBrpN4",
        "colab_type": "code",
        "colab": {}
      },
      "source": [
        ""
      ],
      "execution_count": 0,
      "outputs": []
    }
  ]
}