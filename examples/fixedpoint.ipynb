{
  "nbformat": 4,
  "nbformat_minor": 0,
  "metadata": {
    "colab": {
      "name": "fixedpoint.ipynb",
      "version": "0.3.2",
      "provenance": [],
      "collapsed_sections": []
    },
    "kernelspec": {
      "name": "python3",
      "display_name": "Python 3"
    }
  },
  "cells": [
    {
      "cell_type": "markdown",
      "metadata": {
        "id": "EjoMQT0eFbdS",
        "colab_type": "text"
      },
      "source": [
        "# Finding roots using fixed point iterations\n",
        "\n",
        "---\n",
        "\n",
        "code written by Konstantinos Theofilatos on 2019.30.07\n",
        "\n",
        "---\n",
        "For the sake of the example, let's use a simple quadratic polynomial $f (x) \\equiv x^2 - 11x + 25$. \n",
        "There are 2 real roots of $f(x)=0$ equation. To find them using fixed point iteration,  we consider that\n",
        "\n",
        "$x^2 - 11x + 25 = 0 $ \n",
        "\n",
        "$x^2 - 10x + 25 = x $\n",
        "\n",
        "$(x - 5)^2 = x $\n",
        "\n",
        "which implies that:\n",
        "\n",
        "$ x = 5 + \\sqrt{x} \\equiv g(x)$ \n",
        "\n",
        "*or*\n",
        "\n",
        "$ x = 5 - \\sqrt{x} \\equiv h(x) $ \n",
        "\n",
        "In fact, there is no unique way to morph a generic $f(x) = 0$ in a form of $x = g(x)$. We can now try to implement these as fixed point iteration formulas:\n",
        "\n",
        "$x_{n+1} = g(x_n)$ \n",
        "\n",
        "$x_{n+1} = h(x_n)$\n",
        "\n",
        "and see if they work.\n",
        "\n"
      ]
    },
    {
      "cell_type": "code",
      "metadata": {
        "id": "my6dqkHqCPjq",
        "colab_type": "code",
        "outputId": "d6196069-1c00-4650-9933-eb2714eb0a7d",
        "colab": {
          "base_uri": "https://localhost:8080/",
          "height": 52
        }
      },
      "source": [
        "def f(x): return x**2 - 11*x + 25\n",
        "def g(x): return 5 + x**0.5\n",
        "def h(x): return 5 - x**0.5\n",
        "x = 3.0 # initial value \n",
        "n = 0\n",
        "while (n < 20): # try 20 iterations\n",
        "  x = g(x)\n",
        "  n = n + 1\n",
        "print ('for x = ', x, 'g(x) = ', g(x), 'and f(x) = ', f(x))\n",
        "\n",
        "# now repeat for the x = h(x) iteration scheme\n",
        "x = 3.0 # initial value \n",
        "n = 0\n",
        "while (n < 20): \n",
        "  x = h(x)\n",
        "  n = n + 1\n",
        "print ('for x = ', x, 'h(x) = ', h(x), 'and f(x) = ', f(x))"
      ],
      "execution_count": 1,
      "outputs": [
        {
          "output_type": "stream",
          "text": [
            "for x =  7.791287847477912 g(x) =  7.791287847477919 and f(x) =  -3.552713678800501e-14\n",
            "for x =  3.208712152520337 h(x) =  3.2087121525225664 and f(x) =  7.986500349943526e-12\n"
          ],
          "name": "stdout"
        }
      ]
    },
    {
      "cell_type": "markdown",
      "metadata": {
        "id": "WYoxSz9powPv",
        "colab_type": "text"
      },
      "source": [
        "# Graphical approach\n",
        "\n",
        "Now let's try to find the roots of $x^2 - 11x + 25 = 0$, using brute force of a graphical approach.\n",
        "Let's set the desired precision to $10^{-5}$ to get an idea of $f(x)$ and later on, attempt to determine the roots, with the same level of precision $O(10^{-12})$ we achived using just 20 fixed-point iterations. "
      ]
    },
    {
      "cell_type": "code",
      "metadata": {
        "id": "7cHEWJdbCkZP",
        "colab_type": "code",
        "colab": {}
      },
      "source": [
        "import matplotlib.pyplot as plt\n",
        "import numpy as np"
      ],
      "execution_count": 0,
      "outputs": []
    },
    {
      "cell_type": "code",
      "metadata": {
        "id": "gdE84Z91CyeR",
        "colab_type": "code",
        "outputId": "e85cebbd-edf4-4d6f-c536-211a5c1e41e4",
        "colab": {
          "base_uri": "https://localhost:8080/",
          "height": 357
        }
      },
      "source": [
        "# to have precision up to 0.1 for x in [2,9] we need 71 evenly spaced samples\n",
        "x_n = np.linspace(2,9,71)  \n",
        "print(x_n) \n",
        "plt.scatter(x_n, f(x_n))\n",
        "plt.scatter(x_n, [0.0 for ii in range(len(x_n))])"
      ],
      "execution_count": 3,
      "outputs": [
        {
          "output_type": "stream",
          "text": [
            "[2.  2.1 2.2 2.3 2.4 2.5 2.6 2.7 2.8 2.9 3.  3.1 3.2 3.3 3.4 3.5 3.6 3.7\n",
            " 3.8 3.9 4.  4.1 4.2 4.3 4.4 4.5 4.6 4.7 4.8 4.9 5.  5.1 5.2 5.3 5.4 5.5\n",
            " 5.6 5.7 5.8 5.9 6.  6.1 6.2 6.3 6.4 6.5 6.6 6.7 6.8 6.9 7.  7.1 7.2 7.3\n",
            " 7.4 7.5 7.6 7.7 7.8 7.9 8.  8.1 8.2 8.3 8.4 8.5 8.6 8.7 8.8 8.9 9. ]\n"
          ],
          "name": "stdout"
        },
        {
          "output_type": "execute_result",
          "data": {
            "text/plain": [
              "<matplotlib.collections.PathCollection at 0x7fb542a827b8>"
            ]
          },
          "metadata": {
            "tags": []
          },
          "execution_count": 3
        },
        {
          "output_type": "display_data",
          "data": {
            "image/png": "[encoded data removed]",
            "text/plain": [
              "<Figure size 432x288 with 1 Axes>"
            ]
          },
          "metadata": {
            "tags": []
          }
        }
      ]
    },
    {
      "cell_type": "markdown",
      "metadata": {
        "id": "XgaThyPKsa2-",
        "colab_type": "text"
      },
      "source": [
        "Now let's try to have precision of $10^{-12}$ for $x$ in $[2,9]$, we need  $(9-2)/10^{-12} + 1$, which is roughly $7\\times10^{-12}$ evenly spaced samples. Code to do this is given below, be invited to run it on your own to see how much time we need to locate the roots using brute force attack."
      ]
    },
    {
      "cell_type": "code",
      "metadata": {
        "id": "UiSshW2vrlZJ",
        "colab_type": "code",
        "colab": {}
      },
      "source": [
        "x_n = np.linspace(2,9, int(7*10**1 + 1))  \n",
        "print(x_n) \n",
        "plt.scatter(x_n, f(x_n))\n",
        "plt.scatter(x_n, [0.0 for ii in range(len(x_n))])"
      ],
      "execution_count": 0,
      "outputs": []
    }
  ]
}