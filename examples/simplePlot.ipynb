{
  "nbformat": 4,
  "nbformat_minor": 0,
  "metadata": {
    "colab": {
      "name": "simplePlot.ipynb",
      "provenance": [],
      "collapsed_sections": [],
      "include_colab_link": true
    },
    "kernelspec": {
      "name": "python3",
      "display_name": "Python 3"
    }
  },
  "cells": [
    {
      "cell_type": "markdown",
      "metadata": {
        "id": "view-in-github",
        "colab_type": "text"
      },
      "source": [
        "<a href=\"https://colab.research.google.com/github/theofil/CompPhysics/blob/master/examples/simplePlot.ipynb\" target=\"_parent\"><img src=\"https://colab.research.google.com/assets/colab-badge.svg\" alt=\"Open In Colab\"/></a>"
      ]
    },
    {
      "cell_type": "markdown",
      "metadata": {
        "id": "jtTS_x9FVkyA",
        "colab_type": "text"
      },
      "source": [
        "# simple plotting \n",
        "-----\n",
        "\n",
        "demo code by Konstantinos Theofilatos on 30.09.19\n",
        "\n",
        "-----\n"
      ]
    },
    {
      "cell_type": "code",
      "metadata": {
        "id": "6RNQcc1xRTMs",
        "colab_type": "code",
        "colab": {}
      },
      "source": [
        "import numpy as np # https://docs.scipy.org/doc/numpy/user/quickstart.html\n",
        "                   # library for arrays, tensors, linear algebra and much more \n",
        "\n",
        "import matplotlib.pyplot as plt # https://matplotlib.org/gallery/index.html\n",
        "                                # library for plotting and editing graphics"
      ],
      "execution_count": 0,
      "outputs": []
    },
    {
      "cell_type": "code",
      "metadata": {
        "id": "3va7diH-Rqla",
        "colab_type": "code",
        "outputId": "6380d371-fbc1-4fb3-df88-a552c9eef84d",
        "colab": {
          "base_uri": "https://localhost:8080/",
          "height": 287
        }
      },
      "source": [
        "x = np.array([1, 2, 3,  4,  5,  6]) # equivalent with, x = np.array([i for i in range(1,6)]) \n",
        "y = np.array([1, 4, 9, 16, 25, 36])\n",
        "plt.scatter(x,y) # scatter plot (dots)\n",
        "plt.plot(x,y)    # optionally, connects the dots"
      ],
      "execution_count": 0,
      "outputs": [
        {
          "output_type": "execute_result",
          "data": {
            "text/plain": [
              "[<matplotlib.lines.Line2D at 0x7f33e862be10>]"
            ]
          },
          "metadata": {
            "tags": []
          },
          "execution_count": 58
        },
        {
          "output_type": "display_data",
          "data": {
            "image/png": "[encoded data removed]",
            "text/plain": [
              "<Figure size 432x288 with 1 Axes>"
            ]
          },
          "metadata": {
            "tags": []
          }
        }
      ]
    },
    {
      "cell_type": "code",
      "metadata": {
        "id": "fR0q93rhSgMV",
        "colab_type": "code",
        "outputId": "e2b23d47-cef6-449c-e5a1-787caea635d4",
        "colab": {
          "base_uri": "https://localhost:8080/",
          "height": 287
        }
      },
      "source": [
        "def f(x): return np.exp(-x**2)  # e^{-x^2}, np.exp is numpy's implementation of the exponential \n",
        "                                # alternatively see math.exp at https://docs.python.org/2/library/math.html \n",
        "x = np.linspace(-2.5, 2.5, 50)  # creates an array of 50 elements evenly spaced in [-2.5, 2.5]\n",
        "y = f(x)\n",
        "plt.plot(x, y)"
      ],
      "execution_count": 0,
      "outputs": [
        {
          "output_type": "execute_result",
          "data": {
            "text/plain": [
              "[<matplotlib.lines.Line2D at 0x7f33e8500a58>]"
            ]
          },
          "metadata": {
            "tags": []
          },
          "execution_count": 59
        },
        {
          "output_type": "display_data",
          "data": {
            "image/png": "[encoded data removed]",
            "text/plain": [
              "<Figure size 432x288 with 1 Axes>"
            ]
          },
          "metadata": {
            "tags": []
          }
        }
      ]
    },
    {
      "cell_type": "code",
      "metadata": {
        "id": "dEO1r_J2T2bO",
        "colab_type": "code",
        "outputId": "ce6d4a8d-12d0-4b64-c1ff-07628693732c",
        "colab": {
          "base_uri": "https://localhost:8080/",
          "height": 87
        }
      },
      "source": [
        "# let's just have a quick look how to access the elements of the list\n",
        "print('x[0] = ', x[0]) # first element\n",
        "print('x[1] = ', x[1]) # second element\n",
        "print('x[-1] = ', x[-1]) # last element\n",
        "print('x[-2] = ', x[-2]) # pre-last"
      ],
      "execution_count": 0,
      "outputs": [
        {
          "output_type": "stream",
          "text": [
            "x[0] =  -2.5\n",
            "x[1] =  -2.3979591836734695\n",
            "x[-1] =  2.5\n",
            "x[-2] =  2.3979591836734695\n"
          ],
          "name": "stdout"
        }
      ]
    },
    {
      "cell_type": "code",
      "metadata": {
        "id": "v06ymMpfUBGw",
        "colab_type": "code",
        "outputId": "a66e63f5-75ca-47c2-dc9f-a5515e8e8a3c",
        "colab": {
          "base_uri": "https://localhost:8080/",
          "height": 193
        }
      },
      "source": [
        "x"
      ],
      "execution_count": 0,
      "outputs": [
        {
          "output_type": "execute_result",
          "data": {
            "text/plain": [
              "array([-2.5       , -2.39795918, -2.29591837, -2.19387755, -2.09183673,\n",
              "       -1.98979592, -1.8877551 , -1.78571429, -1.68367347, -1.58163265,\n",
              "       -1.47959184, -1.37755102, -1.2755102 , -1.17346939, -1.07142857,\n",
              "       -0.96938776, -0.86734694, -0.76530612, -0.66326531, -0.56122449,\n",
              "       -0.45918367, -0.35714286, -0.25510204, -0.15306122, -0.05102041,\n",
              "        0.05102041,  0.15306122,  0.25510204,  0.35714286,  0.45918367,\n",
              "        0.56122449,  0.66326531,  0.76530612,  0.86734694,  0.96938776,\n",
              "        1.07142857,  1.17346939,  1.2755102 ,  1.37755102,  1.47959184,\n",
              "        1.58163265,  1.68367347,  1.78571429,  1.8877551 ,  1.98979592,\n",
              "        2.09183673,  2.19387755,  2.29591837,  2.39795918,  2.5       ])"
            ]
          },
          "metadata": {
            "tags": []
          },
          "execution_count": 61
        }
      ]
    },
    {
      "cell_type": "markdown",
      "metadata": {
        "id": "g8-s1PShMGiF",
        "colab_type": "text"
      },
      "source": [
        "# Dumped harmonic oscillation (example)\n",
        "https://matplotlib.org/3.1.1/gallery/subplots_axes_and_figures/subplot.html#sphx-glr-gallery-subplots-axes-and-figures-subplot-py "
      ]
    }
  ]
}