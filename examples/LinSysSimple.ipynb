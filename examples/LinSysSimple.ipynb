{
  "nbformat": 4,
  "nbformat_minor": 0,
  "metadata": {
    "colab": {
      "name": "LinSysSimple.ipynb",
      "provenance": [],
      "include_colab_link": true
    },
    "kernelspec": {
      "name": "python3",
      "display_name": "Python 3"
    }
  },
  "cells": [
    {
      "cell_type": "markdown",
      "metadata": {
        "id": "view-in-github",
        "colab_type": "text"
      },
      "source": [
        "<a href=\"https://colab.research.google.com/github/theofil/CompPhysics/blob/master/examples/LinSysSimple.ipynb\" target=\"_parent\"><img src=\"https://colab.research.google.com/assets/colab-badge.svg\" alt=\"Open In Colab\"/></a>"
      ]
    },
    {
      "cell_type": "code",
      "metadata": {
        "id": "T9vOMsYgfiYK",
        "colab_type": "code",
        "colab": {
          "base_uri": "https://localhost:8080/",
          "height": 52
        },
        "outputId": "0d32f5f0-7500-44a7-a04f-54b950c6b543"
      },
      "source": [
        "### Solving AX = b with Gauss Siedel and Jacobi iterative methods\n",
        "### demo written by Konstantinos Theofilatos 20.10.2019\n",
        "#\n",
        "#      3. -1.  0\n",
        "# A = -1.  3. -1\n",
        "#      0. -2.  4.    \n",
        "# \n",
        "#      10\n",
        "# b =   5\n",
        "#      10\n",
        "def gs(x1, x2, x3, nIter = 100, n = 0):\n",
        "    '''gauss siedel method for the problem discussed in the class'''\n",
        "    if n < nIter:\n",
        "        x1 = (10 + x2)/3.\n",
        "        x2 = (5 + x1 + x3)/3.\n",
        "        x3 = (10 + 2*x2)/4.\n",
        "        n = n + 1\n",
        "        gs(x1, x2, x3, nIter, n)\n",
        "    else: \n",
        "        print(f'X = ({x1}, {x2}, {x3}) at n = {n} of gauss siedel iterations')\n",
        "           \n",
        "x1, x2, x3 = 1., 2. , 3. # initial values for x1, x2, x3\n",
        "gs(x1, x2, x2, 5)\n",
        "\n",
        "\n",
        "def jacobi(x1, x2, x3, nIter = 100, n = 0):\n",
        "    '''jacobi method for the problem discussed in the class'''\n",
        "    if n < nIter:\n",
        "        j1, j2, j3 = x1, x2, x3\n",
        "        x1 = (10 + j2)/3.\n",
        "        x2 = (5 + j1 + j3)/3.\n",
        "        x3 = (10 + 2*j2)/4.\n",
        "        n = n + 1\n",
        "        jacobi(x1, x2, x3, nIter, n)\n",
        "    else: \n",
        "        print(f'X = ({x1}, {x2}, {x3}) at n = {n} of jacobi iterations')\n",
        "\n",
        "\n",
        "x1, x2, x3 = 1., 2. , 3. # initial values for x1, x2, x3\n",
        "jacobi(x1, x2, x2, 5)    "
      ],
      "execution_count": 1,
      "outputs": [
        {
          "output_type": "stream",
          "text": [
            "X = (4.990474013107758, 4.992061677589798, 4.9960308387948995) at n = 5 of gauss siedel iterations\n",
            "X = (4.922839506172839, 4.819958847736625, 4.8842592592592595) at n = 5 of jacobi iterations\n"
          ],
          "name": "stdout"
        }
      ]
    },
    {
      "cell_type": "code",
      "metadata": {
        "id": "MZEPS5K5fsHW",
        "colab_type": "code",
        "colab": {}
      },
      "source": [
        ""
      ],
      "execution_count": 0,
      "outputs": []
    }
  ]
}