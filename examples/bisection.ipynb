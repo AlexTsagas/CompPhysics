{
  "nbformat": 4,
  "nbformat_minor": 0,
  "metadata": {
    "colab": {
      "name": "bisection.ipynb",
      "version": "0.3.2",
      "provenance": []
    },
    "kernelspec": {
      "name": "python3",
      "display_name": "Python 3"
    }
  },
  "cells": [
    {
      "cell_type": "markdown",
      "metadata": {
        "id": "7t0Sg_uqtYbE",
        "colab_type": "text"
      },
      "source": [
        "# Find $\\sqrt{5}$ using bisection method"
      ]
    },
    {
      "cell_type": "code",
      "metadata": {
        "id": "-_aNs-88tSjo",
        "colab_type": "code",
        "colab": {}
      },
      "source": [
        "def f(x): return x*x - 5"
      ],
      "execution_count": 0,
      "outputs": []
    },
    {
      "cell_type": "code",
      "metadata": {
        "id": "qLzaQJQ8tnnk",
        "colab_type": "code",
        "colab": {
          "base_uri": "https://localhost:8080/",
          "height": 312
        },
        "outputId": "4de82ec7-fa3b-4930-f0ca-31706ac8d515"
      },
      "source": [
        "a = 2\n",
        "b = 3\n",
        "n = 0\n",
        "e = 1.e-5 # = 0.001\n",
        "while( b - a > e and n < 100):\n",
        "  c = 0.5*(a + b)\n",
        "  if f(c)*f(b) < 0: a = c\n",
        "  else: b = c\n",
        "  n = n + 1\n",
        "  print('n = ', n, 'a = ', a, 'b = ', b)"
      ],
      "execution_count": 59,
      "outputs": [
        {
          "output_type": "stream",
          "text": [
            "n =  1 a =  2 b =  2.5\n",
            "n =  2 a =  2 b =  2.25\n",
            "n =  3 a =  2.125 b =  2.25\n",
            "n =  4 a =  2.1875 b =  2.25\n",
            "n =  5 a =  2.21875 b =  2.25\n",
            "n =  6 a =  2.234375 b =  2.25\n",
            "n =  7 a =  2.234375 b =  2.2421875\n",
            "n =  8 a =  2.234375 b =  2.23828125\n",
            "n =  9 a =  2.234375 b =  2.236328125\n",
            "n =  10 a =  2.2353515625 b =  2.236328125\n",
            "n =  11 a =  2.23583984375 b =  2.236328125\n",
            "n =  12 a =  2.23583984375 b =  2.236083984375\n",
            "n =  13 a =  2.2359619140625 b =  2.236083984375\n",
            "n =  14 a =  2.23602294921875 b =  2.236083984375\n",
            "n =  15 a =  2.236053466796875 b =  2.236083984375\n",
            "n =  16 a =  2.236053466796875 b =  2.2360687255859375\n",
            "n =  17 a =  2.2360610961914062 b =  2.2360687255859375\n"
          ],
          "name": "stdout"
        }
      ]
    },
    {
      "cell_type": "code",
      "metadata": {
        "id": "qX7jyK07uK1m",
        "colab_type": "code",
        "colab": {
          "base_uri": "https://localhost:8080/",
          "height": 69
        },
        "outputId": "c4074cc1-7d21-4bd2-e547-ab24829a6a55"
      },
      "source": [
        "refValue = 5**0.5        # default of sqrt(5) in python\n",
        "estValue = (b + a)*0.5\n",
        "print('reference value = ', refValue, 'estimated value = ', estValue)\n",
        "absError = abs(5**0.5 - (b + a)*0.5)\n",
        "fracError = 100*absError/refValue\n",
        "print('absolute error = ', absError)\n",
        "print('fractional error = ', fracError, '%')"
      ],
      "execution_count": 60,
      "outputs": [
        {
          "output_type": "stream",
          "text": [
            "reference value =  2.23606797749979 estimated value =  2.236064910888672\n",
            "absolute error =  3.0666111179300515e-06\n",
            "fractional error =  0.00013714301840496437 %\n"
          ],
          "name": "stdout"
        }
      ]
    },
    {
      "cell_type": "markdown",
      "metadata": {
        "id": "y6IQRoU7uppq",
        "colab_type": "text"
      },
      "source": [
        "# Advanced code write-up"
      ]
    },
    {
      "cell_type": "code",
      "metadata": {
        "id": "TIRPcl8-utgO",
        "colab_type": "code",
        "colab": {
          "base_uri": "https://localhost:8080/",
          "height": 72
        },
        "outputId": "3e0c741a-04c9-41ae-c4d5-90f4112bed2a"
      },
      "source": [
        "f = lambda x: x*x -5        # google for 'python lamda function' \n",
        "sgn = lambda x: 1 if x > 0 else -1 if x < 0 else 0  \n",
        "a = 2 \n",
        "b = 3\n",
        "e = 1.e-5\n",
        "n = 0\n",
        "a_n = []        # it's a python list see https://docs.python.org/3/tutorial/datastructures.html\n",
        "b_n = []        # a_n, b_n will store all indermediate values and updates of 'a' and 'b' \n",
        "\n",
        "while( b - a > e and n < 100):\n",
        "  c = 0.5*(a + b)\n",
        "  if sgn(f(c))*sgn(f(b)) < 0: a = c        \n",
        "  else: b = c\n",
        "  n = n + 1\n",
        "  #print('n = ', n, 'a = ', a, 'b = ', b)\n",
        "  a_n.append(a)\n",
        "  b_n.append(b)\n",
        "\n",
        "print('a_n list = ', a_n)\n",
        "print('b_n list = ', b_n)"
      ],
      "execution_count": 61,
      "outputs": [
        {
          "output_type": "stream",
          "text": [
            "a_n list =  [2, 2, 2.125, 2.1875, 2.21875, 2.234375, 2.234375, 2.234375, 2.234375, 2.2353515625, 2.23583984375, 2.23583984375, 2.2359619140625, 2.23602294921875, 2.236053466796875, 2.236053466796875, 2.2360610961914062]\n",
            "b_n list =  [2.5, 2.25, 2.25, 2.25, 2.25, 2.25, 2.2421875, 2.23828125, 2.236328125, 2.236328125, 2.236328125, 2.236083984375, 2.236083984375, 2.236083984375, 2.236083984375, 2.2360687255859375, 2.2360687255859375]\n"
          ],
          "name": "stdout"
        }
      ]
    },
    {
      "cell_type": "markdown",
      "metadata": {
        "id": "kOfr8vUbxm7N",
        "colab_type": "text"
      },
      "source": [
        " # Visualization"
      ]
    },
    {
      "cell_type": "code",
      "metadata": {
        "id": "S0fHDcCIwxAj",
        "colab_type": "code",
        "colab": {
          "base_uri": "https://localhost:8080/",
          "height": 300
        },
        "outputId": "e1810524-2180-4b58-eb0d-b01ac44583b4"
      },
      "source": [
        "import matplotlib.pyplot as plt                     # google for 'matplotlib' \n",
        "plt.scatter([ii for ii in range(len(b_n))], b_n)    # google for 'python list comprehension', 'python range', 'python len'\n",
        "plt.scatter([ii for ii in range(len(a_n))], a_n)\n",
        "plt.ylabel('a , b values')\n",
        "plt.xlabel('#n iterations')"
      ],
      "execution_count": 62,
      "outputs": [
        {
          "output_type": "execute_result",
          "data": {
            "text/plain": [
              "Text(0.5, 0, '#n iterations')"
            ]
          },
          "metadata": {
            "tags": []
          },
          "execution_count": 62
        },
        {
          "output_type": "display_data",
          "data": {
            "image/png": "[encoded data removed]",
            "text/plain": [
              "<Figure size 432x288 with 1 Axes>"
            ]
          },
          "metadata": {
            "tags": []
          }
        }
      ]
    }
  ]
}