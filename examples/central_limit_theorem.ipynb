{
 "cells": [
  {
   "cell_type": "markdown",
   "metadata": {},
   "source": [
    "# Central Limit Theorem, a basic demonstrator\n",
    "\n",
    "### Import numpy (numerical/arrays) and matplotlib (visualization/histograming)  \n",
    "(not necessery for this specific example, but useful to get familiar with them)"
   ]
  },
  {
   "cell_type": "code",
   "execution_count": 21,
   "metadata": {},
   "outputs": [],
   "source": [
    "import numpy as np\n",
    "import matplotlib.pyplot as plt"
   ]
  },
  {
   "cell_type": "markdown",
   "metadata": {},
   "source": [
    "### Create your random number generator \n",
    "(as an instance of a numpy random state, initialized with specific seed) "
   ]
  },
  {
   "cell_type": "code",
   "execution_count": 38,
   "metadata": {},
   "outputs": [],
   "source": [
    "rng = np.random.RandomState(seed = 101331) # random number generator, initialized with a seed"
   ]
  },
  {
   "cell_type": "markdown",
   "metadata": {},
   "source": [
    "### Generate 1 random number and print it"
   ]
  },
  {
   "cell_type": "code",
   "execution_count": 23,
   "metadata": {},
   "outputs": [
    {
     "name": "stdout",
     "output_type": "stream",
     "text": [
      "[0.99356353]\n"
     ]
    }
   ],
   "source": [
    "oneRN = rng.rand(1) # that's an array of size 1 [myNumber]\n",
    "print(oneRN)"
   ]
  },
  {
   "cell_type": "markdown",
   "metadata": {},
   "source": [
    "### Generate 10 random numbers and store them in an array"
   ]
  },
  {
   "cell_type": "code",
   "execution_count": 24,
   "metadata": {},
   "outputs": [
    {
     "name": "stdout",
     "output_type": "stream",
     "text": [
      "1st element tenRN[0] =  0.29037949075844616\n",
      "2nd element tenRN[0] =  0.29037949075844616\n",
      "10th element tenRN[9] =  0.012847798680087341\n",
      "show the full array, all its values:\n",
      "[0.29037949 0.58367779 0.77472839 0.22683324 0.52236388 0.35842677\n",
      " 0.13626559 0.67558607 0.49963386 0.0128478 ]\n"
     ]
    }
   ],
   "source": [
    "tenRN = rng.rand(10)# that's an array not a single variable!\n",
    "print('1st element tenRN[0] = ', tenRN[0])\n",
    "print('2nd element tenRN[0] = ', tenRN[0])\n",
    "print('10th element tenRN[9] = ', tenRN[9])\n",
    "print('show the full array, all its values:') \n",
    "print(tenRN)"
   ]
  },
  {
   "cell_type": "markdown",
   "metadata": {},
   "source": [
    "### Generate 10000 events, of random variables $X_N$ with\n",
    "### $X_N = \\frac{(S_1 + S_2 + S_3+ ... S_N)}{N}$\n",
    "### $N = 1, 5, 10, 20, 50$\n",
    "### and $S_i$ being independent and identically distributed random variables [(i.i.d.)](https://en.wikipedia.org/wiki/Independent_and_identically_distributed_random_variables) valued as floats in the half-open interval $[0.0, 1.0)$  \n",
    "### create empty lists, which will store the $X_N$ for each of the 10000 events\n"
   ]
  },
  {
   "cell_type": "code",
   "execution_count": 54,
   "metadata": {},
   "outputs": [],
   "source": [
    "\n",
    "listOfX_1    = []\n",
    "listOfX_2    = []\n",
    "listOfX_3    = []\n",
    "listOfX_4    = []\n",
    "listOfX_5    = []\n",
    "listOfX_50   = []\n",
    "listOfX_100  = []\n",
    "\n",
    "for event in range(10000):\n",
    "    for N in [1, 2, 3, 4, 5, 50, 100]:\n",
    "        X_N = sum(rng.rand(N))/float(N) # sum(array) returns the sum of array's elements \n",
    "        \n",
    "        if N == 1  : listOfX_1.append(X_N)\n",
    "        if N == 2  : listOfX_2.append(X_N)\n",
    "        if N == 3  : listOfX_3.append(X_N)\n",
    "        if N == 4  : listOfX_4.append(X_N)\n",
    "        if N == 5  : listOfX_5.append(X_N)\n",
    "        if N == 50 : listOfX_50.append(X_N)\n",
    "        if N == 100: listOfX_100.append(X_N)\n",
    "\n",
    "\n",
    "            \n",
    "\n",
    "         \n",
    "    "
   ]
  },
  {
   "cell_type": "markdown",
   "metadata": {},
   "source": [
    "# Visualization \n",
    "plt.subplots() returns a tuple (a,b) with pointers to a figure object (= a) and the axes (=b)"
   ]
  },
  {
   "cell_type": "code",
   "execution_count": 55,
   "metadata": {},
   "outputs": [
    {
     "data": {
      "image/png": "[encoded data removed]",
      "text/plain": [
       "<matplotlib.figure.Figure at 0x1152bdfd0>"
      ]
     },
     "metadata": {},
     "output_type": "display_data"
    }
   ],
   "source": [
    "fig, ax = plt.subplots()\n",
    "n, bins, patches  = ax.hist(listOfX_1, 100, density = 1)\n"
   ]
  },
  {
   "cell_type": "code",
   "execution_count": 58,
   "metadata": {},
   "outputs": [
    {
     "data": {
      "image/png": "[encoded data removed]",
      "text/plain": [
       "<matplotlib.figure.Figure at 0x11544b160>"
      ]
     },
     "metadata": {},
     "output_type": "display_data"
    }
   ],
   "source": [
    "multfig, axes = plt.subplots(3,2) # 3 rows x 2 colums\n",
    "n2  , bins2  , patches2   = axes[0][0].hist(listOfX_2  , 100, density = 1)\n",
    "n3  , bins3  , patches3   = axes[0][1].hist(listOfX_3  , 100, density = 1)\n",
    "n4  , bins4  , patches4   = axes[1][0].hist(listOfX_4  , 100, density = 1)\n",
    "n5  , bins5  , patches5   = axes[1][1].hist(listOfX_5  , 100, density = 1)\n",
    "n50 , bins50 , patches50  = axes[2][0].hist(listOfX_50 , 100, density = 1)\n",
    "n100, bins100, patches100 = axes[2][1].hist(listOfX_100, 100, density = 1)\n",
    "\n"
   ]
  },
  {
   "cell_type": "code",
   "execution_count": null,
   "metadata": {},
   "outputs": [],
   "source": []
  },
  {
   "cell_type": "code",
   "execution_count": null,
   "metadata": {},
   "outputs": [],
   "source": []
  }
 ],
 "metadata": {
  "kernelspec": {
   "display_name": "Python 3",
   "language": "python",
   "name": "python3"
  },
  "language_info": {
   "codemirror_mode": {
    "name": "ipython",
    "version": 3
   },
   "file_extension": ".py",
   "mimetype": "text/x-python",
   "name": "python",
   "nbconvert_exporter": "python",
   "pygments_lexer": "ipython3",
   "version": "3.6.4"
  }
 },
 "nbformat": 4,
 "nbformat_minor": 2
}
