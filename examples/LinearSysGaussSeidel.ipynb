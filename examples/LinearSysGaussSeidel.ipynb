{
  "nbformat": 4,
  "nbformat_minor": 0,
  "metadata": {
    "colab": {
      "name": "LinearSysGaussSeidel.ipynb",
      "provenance": [],
      "collapsed_sections": [],
      "include_colab_link": true
    },
    "kernelspec": {
      "name": "python3",
      "display_name": "Python 3"
    }
  },
  "cells": [
    {
      "cell_type": "markdown",
      "metadata": {
        "id": "view-in-github",
        "colab_type": "text"
      },
      "source": [
        "<a href=\"https://colab.research.google.com/github/theofil/CompPhysics/blob/master/examples/LinearSysGaussSeidel.ipynb\" target=\"_parent\"><img src=\"https://colab.research.google.com/assets/colab-badge.svg\" alt=\"Open In Colab\"/></a>"
      ]
    },
    {
      "cell_type": "markdown",
      "metadata": {
        "id": "vHhY7eK7Gy8m",
        "colab_type": "text"
      },
      "source": [
        "# Linear system (iterative solution with Gauss Seidel)\n",
        "\n",
        "---\n",
        "code written by Konstantinos Theofilatos on 2019.09.16\n",
        "---"
      ]
    },
    {
      "cell_type": "code",
      "metadata": {
        "id": "8gtyTic9M5qc",
        "colab_type": "code",
        "outputId": "ddb84457-4b6b-4638-e050-d1dfd1c69c95",
        "colab": {
          "base_uri": "https://localhost:8080/",
          "height": 486
        }
      },
      "source": [
        "import numpy as np\n",
        "\n",
        "def linSysIter(A, b):\n",
        "    '''Gauss Seidel iteration with successive substitutions''' \n",
        "    (n, m) = A.shape\n",
        "    if n != m: print('A is not a square matrix but is %d x %d'%(n, m))\n",
        "    if (n, 1) != b.shape: print('b is not a column vector of same dim as A')\n",
        "  \n",
        "    X = np.zeros((n,1))  \n",
        "    \n",
        "    for ii in range(100):\n",
        "      for row in range(n):\n",
        "        U = X.copy() # clone of X with zerod the X[row] element\n",
        "        U[row] = 0\n",
        "        X[row] = (b[row] - A[row]@U)/A[row, row] \n",
        " \n",
        "    print('final X \\n', X)\n",
        "    print('final Ax - b \\n', A@X - b)\n",
        "\n",
        "def linSysIterMatrixFormat(A, b):  # this is not needed, but for cross-check \n",
        "    ''' Gauss Seidel in matrix format ala text book \n",
        "       -- requires lower diagonal matrix inversion -- \n",
        "       performed here with numpy for cross check'''\n",
        "\n",
        "    (n, m) = A.shape\n",
        "    if n != m: print('A is not a square matrix but is %d x %d'%(n, m))\n",
        "    if (n, 1) != b.shape: print('b is not a column vector of same dim as A')\n",
        "\n",
        "    D = np.tril(A)\n",
        "    S = - np.triu(A, k=1)\n",
        "    Dinv = np.linalg.inv(D) # small cheating\n",
        "    M = Dinv@S\n",
        "    Dinvb = Dinv@b\n",
        "\n",
        "    w, v = np.linalg.eig(M)\n",
        "    print('M \\n', M)\n",
        "    print('eigenvalues \\n', w)\n",
        "    print('eigenvectors \\n', v)\n",
        "    print('spectral radius = ', max(abs(w)))\n",
        "\n",
        "    X = np.zeros((n,1))  \n",
        "\n",
        "    for ii in range(100): \n",
        "        X = M@X + Dinvb \n",
        "\n",
        "    print('cross-checked X \\n', X)\n",
        "    print('cross-checked Ax - b \\n', A@X - b)\n",
        "\n",
        "if __name__ == '__main__': # here the main program starts\n",
        "    \n",
        "    b = np.array([ [10.], \n",
        "                   [5.],   \n",
        "                   [10.] ]) \n",
        "\n",
        "    A = np.array([ [ 1  , -1. ,  0 ], \n",
        "                   [-1. ,  3. , -1 ], \n",
        "                   [0   , -2. , 4. ] \n",
        "                ])\n",
        "    \n",
        "    linSysIter(A, b)\n",
        "    linSysIterMatrixFormat(A, b) # this is for cross-check "
      ],
      "execution_count": 5,
      "outputs": [
        {
          "output_type": "stream",
          "text": [
            "final X \n",
            " [[21.66666667]\n",
            " [11.66666667]\n",
            " [ 8.33333333]]\n",
            "final Ax - b \n",
            " [[-1.77635684e-15]\n",
            " [ 3.55271368e-15]\n",
            " [-3.55271368e-15]]\n",
            "M \n",
            " [[0.         1.         0.        ]\n",
            " [0.         0.33333333 0.33333333]\n",
            " [0.         0.16666667 0.16666667]]\n",
            "eigenvalues \n",
            " [0.  0.5 0. ]\n",
            "eigenvectors \n",
            " [[ 1.00000000e+000  8.72871561e-001  1.00000000e+000]\n",
            " [ 0.00000000e+000  4.36435780e-001 -3.00625254e-292]\n",
            " [ 0.00000000e+000  2.18217890e-001  3.00625254e-292]]\n",
            "spectral radius =  0.5\n",
            "cross-checked X \n",
            " [[21.66666667]\n",
            " [11.66666667]\n",
            " [ 8.33333333]]\n",
            "cross-checked Ax - b \n",
            " [[ 0.00000000e+00]\n",
            " [-3.55271368e-15]\n",
            " [ 0.00000000e+00]]\n"
          ],
          "name": "stdout"
        }
      ]
    },
    {
      "cell_type": "code",
      "metadata": {
        "id": "XFcPbK5ngMEy",
        "colab_type": "code",
        "colab": {}
      },
      "source": [
        ""
      ],
      "execution_count": 0,
      "outputs": []
    }
  ]
}