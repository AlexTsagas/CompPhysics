{
  "nbformat": 4,
  "nbformat_minor": 0,
  "metadata": {
    "colab": {
      "name": "newton.ipynb",
      "version": "0.3.2",
      "provenance": [],
      "collapsed_sections": [],
      "include_colab_link": true
    },
    "kernelspec": {
      "display_name": "Python 3",
      "language": "python",
      "name": "python3"
    },
    "language_info": {
      "codemirror_mode": {
        "name": "ipython",
        "version": 3
      },
      "file_extension": ".py",
      "mimetype": "text/x-python",
      "name": "python",
      "nbconvert_exporter": "python",
      "pygments_lexer": "ipython3",
      "version": "3.7.3"
    }
  },
  "cells": [
    {
      "cell_type": "markdown",
      "metadata": {
        "id": "view-in-github",
        "colab_type": "text"
      },
      "source": [
        "<a href=\"https://colab.research.google.com/github/theofil/CompPhysics/blob/master/examples/newton.ipynb\" target=\"_parent\"><img src=\"https://colab.research.google.com/assets/colab-badge.svg\" alt=\"Open In Colab\"/></a>"
      ]
    },
    {
      "cell_type": "markdown",
      "metadata": {
        "colab_type": "text",
        "id": "7t0Sg_uqtYbE"
      },
      "source": [
        "# Find $\\sqrt{5}$ using Newton Raphson\n",
        "\n",
        "---\n",
        "\n",
        "code written by Konstantinos Theofilatos on 2019.28.08\n",
        "\n",
        "---"
      ]
    },
    {
      "cell_type": "code",
      "metadata": {
        "colab_type": "code",
        "id": "-_aNs-88tSjo",
        "colab": {}
      },
      "source": [
        "def f(x): return x*x - 5\n",
        "def df(x): return 2*x "
      ],
      "execution_count": 0,
      "outputs": []
    },
    {
      "cell_type": "code",
      "metadata": {
        "colab_type": "code",
        "id": "qLzaQJQ8tnnk",
        "outputId": "e476f553-d427-4194-a57a-d3c6f80454b2",
        "colab": {
          "base_uri": "https://localhost:8080/",
          "height": 140
        }
      },
      "source": [
        "x = 20 # initial guess for the root, intentionally large to examplify the speed of convergence\n",
        "n = 0\n",
        "e = 1.e-5 # = 0.00001\n",
        "while( abs(f(x)) > e and n < 100):\n",
        "  x = x - f(x)/df(x)\n",
        "  n = n + 1\n",
        "  print('n =', n, 'x =', x)"
      ],
      "execution_count": 6,
      "outputs": [
        {
          "output_type": "stream",
          "text": [
            "n = 1 x = 10.125\n",
            "n = 2 x = 5.309413580246914\n",
            "n = 3 x = 3.1255685834674476\n",
            "n = 4 x = 2.3626387608449235\n",
            "n = 5 x = 2.2394582891001273\n",
            "n = 6 x = 2.236070543792898\n",
            "n = 7 x = 2.2360679775012624\n"
          ],
          "name": "stdout"
        }
      ]
    },
    {
      "cell_type": "code",
      "metadata": {
        "colab_type": "code",
        "id": "qX7jyK07uK1m",
        "outputId": "b29eb5b4-a321-4af4-9236-d7970df9894a",
        "colab": {
          "base_uri": "https://localhost:8080/",
          "height": 70
        }
      },
      "source": [
        "refValue = 5**0.5        # default of sqrt(5) in python\n",
        "print('reference value = ', refValue, 'estimated value = ', x)\n",
        "absError = abs(refValue - x)\n",
        "fracError = 100*absError/refValue\n",
        "print('absolute error = ', absError)\n",
        "print('fractional error = ', fracError, '%')"
      ],
      "execution_count": 7,
      "outputs": [
        {
          "output_type": "stream",
          "text": [
            "reference value =  2.23606797749979 estimated value =  2.2360679775012624\n",
            "absolute error =  1.4725998198628076e-12\n",
            "fractional error =  6.585666601734366e-11 %\n"
          ],
          "name": "stdout"
        }
      ]
    },
    {
      "cell_type": "code",
      "metadata": {
        "id": "nwV_kmtao02P",
        "colab_type": "code",
        "colab": {}
      },
      "source": [
        ""
      ],
      "execution_count": 0,
      "outputs": []
    }
  ]
}