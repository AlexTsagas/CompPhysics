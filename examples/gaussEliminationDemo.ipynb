{
  "nbformat": 4,
  "nbformat_minor": 0,
  "metadata": {
    "colab": {
      "name": "gaussEliminationDemo.ipynb",
      "version": "0.3.2",
      "provenance": [],
      "collapsed_sections": [],
      "include_colab_link": true
    },
    "kernelspec": {
      "name": "python3",
      "display_name": "Python 3"
    }
  },
  "cells": [
    {
      "cell_type": "markdown",
      "metadata": {
        "id": "view-in-github",
        "colab_type": "text"
      },
      "source": [
        "<a href=\"https://colab.research.google.com/github/theofil/CompPhysics/blob/master/examples/gaussEliminationDemo.ipynb\" target=\"_parent\"><img src=\"https://colab.research.google.com/assets/colab-badge.svg\" alt=\"Open In Colab\"/></a>"
      ]
    },
    {
      "cell_type": "markdown",
      "metadata": {
        "id": "vHhY7eK7Gy8m",
        "colab_type": "text"
      },
      "source": [
        "# Gauss elimination demo\n",
        "\n",
        "---\n",
        "\n",
        "code written by Konstantinos Theofilatos on 2019.09.03\n",
        "\n",
        "---"
      ]
    },
    {
      "cell_type": "code",
      "metadata": {
        "id": "MFfO8Ha_Mvsf",
        "colab_type": "code",
        "colab": {}
      },
      "source": [
        "import numpy as np"
      ],
      "execution_count": 0,
      "outputs": []
    },
    {
      "cell_type": "code",
      "metadata": {
        "id": "8gtyTic9M5qc",
        "colab_type": "code",
        "colab": {}
      },
      "source": [
        "A = np.array([ [1. ,2. ,1. ], \n",
        "               [2. ,2. ,3. ], \n",
        "               [-1., -3., 0.] ])\n",
        "\n",
        "b = np.array([ [0.],   # note the format of np.array([ ])\n",
        "               [3.],   # np.array([ [0], [3], [2] ]) has shape 3 x 1 \n",
        "               [2.] ]) # while np.array([[ 0, 3, 2 ]) would have 1 x 3 "
      ],
      "execution_count": 0,
      "outputs": []
    },
    {
      "cell_type": "code",
      "metadata": {
        "id": "0b2aLsKOM_1K",
        "colab_type": "code",
        "outputId": "da2a483e-915b-4be1-ea5e-d8bb81297bdc",
        "colab": {
          "base_uri": "https://localhost:8080/",
          "height": 210
        }
      },
      "source": [
        "(n, m) = A.shape  # n-rows, m-columns\n",
        "if n!=m: print('A is not a square matrix')\n",
        "print(A)\n",
        "print('Matrix b, has %d rows and %d columns'%b.shape)\n",
        "print(b)\n",
        "C = np.concatenate((A,b), axis = 1)  # form the augmented matrix\n",
        "print('The augmented matrix C, has %d rows and %d columns'%C.shape)\n",
        "print(C) "
      ],
      "execution_count": 7,
      "outputs": [
        {
          "output_type": "stream",
          "text": [
            "[[ 1.  2.  1.]\n",
            " [ 2.  2.  3.]\n",
            " [-1. -3.  0.]]\n",
            "Matrix b, has 3 rows and 1 columns\n",
            "[[0.]\n",
            " [3.]\n",
            " [2.]]\n",
            "The augmented matrix C, has 3 rows and 4 columns\n",
            "[[ 1.  2.  1.  0.]\n",
            " [ 2.  2.  3.  3.]\n",
            " [-1. -3.  0.  2.]]\n"
          ],
          "name": "stdout"
        }
      ]
    },
    {
      "cell_type": "markdown",
      "metadata": {
        "id": "w5TsGk-OHH-N",
        "colab_type": "text"
      },
      "source": [
        "\n",
        "# Manual gauss elimination\n",
        "\n",
        "Remember counting of rows starts from 0, thus C[1] is the 2nd row of the augmented array, that is the \n",
        "```\n",
        "[ 2.  2.  3.  3.]\n",
        "```\n",
        "\n"
      ]
    },
    {
      "cell_type": "code",
      "metadata": {
        "id": "Gh5mhYXrNAvS",
        "colab_type": "code",
        "outputId": "f948898c-d756-4814-f682-4f3a06b61a53",
        "colab": {
          "base_uri": "https://localhost:8080/",
          "height": 70
        }
      },
      "source": [
        "C[1] = C[1] - 2*C[0]\n",
        "print(C)"
      ],
      "execution_count": 8,
      "outputs": [
        {
          "output_type": "stream",
          "text": [
            "[[ 1.  2.  1.  0.]\n",
            " [ 0. -2.  1.  3.]\n",
            " [-1. -3.  0.  2.]]\n"
          ],
          "name": "stdout"
        }
      ]
    },
    {
      "cell_type": "code",
      "metadata": {
        "id": "VxxaUJiCOB9L",
        "colab_type": "code",
        "outputId": "a5f6f139-b2b6-4d27-c54e-411db3ad2736",
        "colab": {
          "base_uri": "https://localhost:8080/",
          "height": 70
        }
      },
      "source": [
        "C[2] = C[2] + C[0]\n",
        "print(C)"
      ],
      "execution_count": 9,
      "outputs": [
        {
          "output_type": "stream",
          "text": [
            "[[ 1.  2.  1.  0.]\n",
            " [ 0. -2.  1.  3.]\n",
            " [ 0. -1.  1.  2.]]\n"
          ],
          "name": "stdout"
        }
      ]
    },
    {
      "cell_type": "code",
      "metadata": {
        "id": "BmJJeV92UCQG",
        "colab_type": "code",
        "outputId": "45ca6fc3-f736-46a7-cf99-66cfecc79dd9",
        "colab": {
          "base_uri": "https://localhost:8080/",
          "height": 70
        }
      },
      "source": [
        "C[2] = C[2] - 0.5*C[1]\n",
        "print(C)"
      ],
      "execution_count": 10,
      "outputs": [
        {
          "output_type": "stream",
          "text": [
            "[[ 1.   2.   1.   0. ]\n",
            " [ 0.  -2.   1.   3. ]\n",
            " [ 0.   0.   0.5  0.5]]\n"
          ],
          "name": "stdout"
        }
      ]
    },
    {
      "cell_type": "markdown",
      "metadata": {
        "id": "N0bvrIYvHk2W",
        "colab_type": "text"
      },
      "source": [
        "# Backsubstituion demo"
      ]
    },
    {
      "cell_type": "code",
      "metadata": {
        "id": "jrOFI9CRajLV",
        "colab_type": "code",
        "colab": {}
      },
      "source": [
        "x3 = C[2,3] / C[2,2]\n",
        "x2 = (C[1,3] - x3*C[1,2]) / C[1,1]\n",
        "x1 = (C[0,3] - x2*C[0,1] - x3*C[0,2])/C[0,0]"
      ],
      "execution_count": 0,
      "outputs": []
    },
    {
      "cell_type": "code",
      "metadata": {
        "id": "MR9Jq4IbfxB8",
        "colab_type": "code",
        "outputId": "87ce9c3a-cc79-40d8-84ae-eb9897a3db91",
        "colab": {
          "base_uri": "https://localhost:8080/",
          "height": 70
        }
      },
      "source": [
        "X = np.array([[x1], [x2], [x3]])\n",
        "print(X)"
      ],
      "execution_count": 12,
      "outputs": [
        {
          "output_type": "stream",
          "text": [
            "[[ 1.]\n",
            " [-1.]\n",
            " [ 1.]]\n"
          ],
          "name": "stdout"
        }
      ]
    },
    {
      "cell_type": "markdown",
      "metadata": {
        "id": "KzDU67u6HvgB",
        "colab_type": "text"
      },
      "source": [
        "# Verify the solution \n",
        "\n",
        "This is simply done by checking if $Ax - b = 0$"
      ]
    },
    {
      "cell_type": "code",
      "metadata": {
        "id": "zwrxS_YshYnT",
        "colab_type": "code",
        "outputId": "c4b46456-0f54-4ab7-dadd-431ac8a978c6",
        "colab": {
          "base_uri": "https://localhost:8080/",
          "height": 70
        }
      },
      "source": [
        "print(A@X - b) # A@X, is the dot product of the two matrices A and X"
      ],
      "execution_count": 16,
      "outputs": [
        {
          "output_type": "stream",
          "text": [
            "[[0.]\n",
            " [0.]\n",
            " [0.]]\n"
          ],
          "name": "stdout"
        }
      ]
    },
    {
      "cell_type": "code",
      "metadata": {
        "id": "Gf81UnZVhet0",
        "colab_type": "code",
        "colab": {}
      },
      "source": [
        ""
      ],
      "execution_count": 0,
      "outputs": []
    }
  ]
}