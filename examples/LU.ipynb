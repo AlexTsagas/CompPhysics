{
  "nbformat": 4,
  "nbformat_minor": 0,
  "metadata": {
    "colab": {
      "name": "LU.ipynb",
      "version": "0.3.2",
      "provenance": [],
      "collapsed_sections": [],
      "include_colab_link": true
    },
    "kernelspec": {
      "name": "python3",
      "display_name": "Python 3"
    }
  },
  "cells": [
    {
      "cell_type": "markdown",
      "metadata": {
        "id": "view-in-github",
        "colab_type": "text"
      },
      "source": [
        "<a href=\"https://colab.research.google.com/github/theofil/CompPhysics/blob/master/examples/LU.ipynb\" target=\"_parent\"><img src=\"https://colab.research.google.com/assets/colab-badge.svg\" alt=\"Open In Colab\"/></a>"
      ]
    },
    {
      "cell_type": "markdown",
      "metadata": {
        "id": "vHhY7eK7Gy8m",
        "colab_type": "text"
      },
      "source": [
        "# LU factorization without pivoting (demo)\n",
        "\n",
        "---\n",
        "\n",
        "code written by Konstantinos Theofilatos on 2019.09.09, with logic inspired by [Greg Fasshauer](http://www.math.iit.edu/~fass/477577_Chapter_7.pdf)\n",
        "\n",
        "---"
      ]
    },
    {
      "cell_type": "code",
      "metadata": {
        "id": "8gtyTic9M5qc",
        "colab_type": "code",
        "outputId": "9105de5c-ea26-4dbe-dcef-756eb040972b",
        "colab": {
          "base_uri": "https://localhost:8080/",
          "height": 403
        }
      },
      "source": [
        "import numpy as np\n",
        "A = np.array([ [1. ,2. , 1. ], \n",
        "               [2. ,2. , 3. ], \n",
        "               [-1., -3., 0.] ])\n",
        "\n",
        "b = np.array([ [0.],   # note the format of np.array([ ])\n",
        "               [3.],   # np.array([ [0], [3], [2] ]) has shape 3 x 1 \n",
        "               [2.] ]) # while np.array([[ 0, 3, 2 ]) would have 1 x 3 \n",
        "\n",
        "print('Starting LU factorization \\n')\n",
        "(n,m) = A.shape\n",
        "if n!=m: print('A is not a square matrix')\n",
        "\n",
        "# initialize U and L\n",
        "U = A.copy()\n",
        "L = np.identity(A.shape[0])\n",
        "\n",
        "print('initialized U to \\n', U)\n",
        "print('initialized L to \\n', L)\n",
        "\n",
        "for k in range(n-1):\n",
        "  for j in range(k+1,n):\n",
        "    L[j,k] = U[j,k] / U[k,k]\n",
        "    U[j, k:m] = U[j, k:m] - L[j,k]*U[k,k:m]\n",
        "\n",
        "print('L \\n', L)\n",
        "print('U \\n', U)\n",
        "\n",
        "print('checking that LU - A is the zero matrix \\n', L.dot(U) - A)\n",
        "\n"
      ],
      "execution_count": 14,
      "outputs": [
        {
          "output_type": "stream",
          "text": [
            "Starting LU factorization \n",
            "\n",
            "initialized U to \n",
            " [[ 1.  2.  1.]\n",
            " [ 2.  2.  3.]\n",
            " [-1. -3.  0.]]\n",
            "initialized L to \n",
            " [[1. 0. 0.]\n",
            " [0. 1. 0.]\n",
            " [0. 0. 1.]]\n",
            "L \n",
            " [[ 1.   0.   0. ]\n",
            " [ 2.   1.   0. ]\n",
            " [-1.   0.5  1. ]]\n",
            "U \n",
            " [[ 1.   2.   1. ]\n",
            " [ 0.  -2.   1. ]\n",
            " [ 0.   0.   0.5]]\n",
            "checking that LU - A is the zero matrix \n",
            " [[0. 0. 0.]\n",
            " [0. 0. 0.]\n",
            " [0. 0. 0.]]\n"
          ],
          "name": "stdout"
        }
      ]
    },
    {
      "cell_type": "code",
      "metadata": {
        "id": "BQI1o8Tb2KD_",
        "colab_type": "code",
        "colab": {}
      },
      "source": [
        ""
      ],
      "execution_count": 0,
      "outputs": []
    }
  ]
}