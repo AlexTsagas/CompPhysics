{
  "nbformat": 4,
  "nbformat_minor": 0,
  "metadata": {
    "colab": {
      "name": "floatToBinary32IEEE754.ipynb",
      "version": "0.3.2",
      "provenance": []
    },
    "kernelspec": {
      "name": "python3",
      "display_name": "Python 3"
    }
  },
  "cells": [
    {
      "cell_type": "markdown",
      "metadata": {
        "id": "vt6qzO5UxNFk",
        "colab_type": "text"
      },
      "source": [
        "# Code to display the binary of IEEE754 float and vise versa\n",
        "\n",
        "---\n",
        "\n",
        "code written by Mark Dickinson [stackoverflow](https://stackoverflow.com/questions/8751653/how-to-convert-a-binary-string-into-a-float-value/38283005#38283005)\n",
        "\n",
        "---"
      ]
    },
    {
      "cell_type": "code",
      "metadata": {
        "id": "PDuryP9UvIFm",
        "colab_type": "code",
        "colab": {}
      },
      "source": [
        "import struct\n",
        "\n",
        "def float_to_bin(num):\n",
        "    return format(struct.unpack('!I', struct.pack('!f', num))[0], '032b')\n",
        "\n",
        "def bin_to_float(binary):\n",
        "    return struct.unpack('!f',struct.pack('!I', int(binary, 2)))[0]"
      ],
      "execution_count": 0,
      "outputs": []
    },
    {
      "cell_type": "code",
      "metadata": {
        "id": "rhUngIIvvJP2",
        "colab_type": "code",
        "outputId": "d515bc27-227a-4011-a9a7-cf2fd9effb97",
        "colab": {
          "base_uri": "https://localhost:8080/",
          "height": 104
        }
      },
      "source": [
        "myNumbers = (0.5, 1, 1.5, 0.1, -0.1)\n",
        "for number in myNumbers:\n",
        "  print(' %2.5f is %s'%(number, float_to_bin(number)))"
      ],
      "execution_count": 33,
      "outputs": [
        {
          "output_type": "stream",
          "text": [
            " 0.50000 is 00111111000000000000000000000000\n",
            " 1.00000 is 00111111100000000000000000000000\n",
            " 1.50000 is 00111111110000000000000000000000\n",
            " 0.10000 is 00111101110011001100110011001101\n",
            " -0.10000 is 10111101110011001100110011001101\n"
          ],
          "name": "stdout"
        }
      ]
    },
    {
      "cell_type": "code",
      "metadata": {
        "id": "cz7D6KmJ25B7",
        "colab_type": "code",
        "colab": {}
      },
      "source": [
        ""
      ],
      "execution_count": 0,
      "outputs": []
    }
  ]
}