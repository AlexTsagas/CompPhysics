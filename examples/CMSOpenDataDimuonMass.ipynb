{
  "nbformat": 4,
  "nbformat_minor": 0,
  "metadata": {
    "colab": {
      "name": "CMSOpenDataDimuonMass.ipynb",
      "provenance": [],
      "collapsed_sections": [],
      "authorship_tag": "ABX9TyNtzSMjL253xBWzaSk5Nu+6",
      "include_colab_link": true
    },
    "kernelspec": {
      "name": "python3",
      "display_name": "Python 3"
    }
  },
  "cells": [
    {
      "cell_type": "markdown",
      "metadata": {
        "id": "view-in-github",
        "colab_type": "text"
      },
      "source": [
        "<a href=\"https://colab.research.google.com/github/theofil/CompPhysics/blob/master/examples/CMSOpenDataDimuonMass.ipynb\" target=\"_parent\"><img src=\"https://colab.research.google.com/assets/colab-badge.svg\" alt=\"Open In Colab\"/></a>"
      ]
    },
    {
      "cell_type": "code",
      "metadata": {
        "id": "102bn7RFBuni"
      },
      "source": [
        "# Demo from Konstantinos Theofilatos (25.11.2020) using CMS dimuon open data from\n",
        "# McCauley, Thomas; (2014). \n",
        "# Events with two muons from 2010. \n",
        "# CERN Open Data Portal. \n",
        "# http://doi.org/10.7483/OPENDATA.CMS.4M97.3SQ9\n",
        "# http://opendata.cern.ch/record/303# \n",
        "\n",
        "import numpy as np\n",
        "import matplotlib.pyplot as plt\n",
        "import pandas as pd"
      ],
      "execution_count": 1,
      "outputs": []
    },
    {
      "cell_type": "code",
      "metadata": {
        "id": "21lNRkDoCE4Y"
      },
      "source": [
        "# read the data directly from the remote CERN site, make a pandas \"dataframe\"\n",
        "df = pd.read_csv('http://opendata.cern.ch/record/303/files/dimuon.csv')"
      ],
      "execution_count": 2,
      "outputs": []
    },
    {
      "cell_type": "code",
      "metadata": {
        "colab": {
          "base_uri": "https://localhost:8080/",
          "height": 226
        },
        "id": "U78Tzf1ACFw_",
        "outputId": "619b4f5c-cf35-4825-e17a-5e3847478a58"
      },
      "source": [
        "df.head()"
      ],
      "execution_count": 3,
      "outputs": [
        {
          "output_type": "execute_result",
          "data": {
            "text/html": [
              "<div>\n",
              "<style scoped>\n",
              "    .dataframe tbody tr th:only-of-type {\n",
              "        vertical-align: middle;\n",
              "    }\n",
              "\n",
              "    .dataframe tbody tr th {\n",
              "        vertical-align: top;\n",
              "    }\n",
              "\n",
              "    .dataframe thead th {\n",
              "        text-align: right;\n",
              "    }\n",
              "</style>\n",
              "<table border=\"1\" class=\"dataframe\">\n",
              "  <thead>\n",
              "    <tr style=\"text-align: right;\">\n",
              "      <th></th>\n",
              "      <th>Type</th>\n",
              "      <th>Run</th>\n",
              "      <th>Event</th>\n",
              "      <th>E1</th>\n",
              "      <th>px1</th>\n",
              "      <th>py1</th>\n",
              "      <th>pz1</th>\n",
              "      <th>pt1</th>\n",
              "      <th>eta1</th>\n",
              "      <th>phi1</th>\n",
              "      <th>Q1</th>\n",
              "      <th>E2</th>\n",
              "      <th>px2</th>\n",
              "      <th>py2</th>\n",
              "      <th>pz2</th>\n",
              "      <th>pt2</th>\n",
              "      <th>eta2</th>\n",
              "      <th>phi2</th>\n",
              "      <th>Q2</th>\n",
              "      <th>M</th>\n",
              "    </tr>\n",
              "  </thead>\n",
              "  <tbody>\n",
              "    <tr>\n",
              "      <th>0</th>\n",
              "      <td>GT</td>\n",
              "      <td>146511</td>\n",
              "      <td>25343052</td>\n",
              "      <td>7.33390</td>\n",
              "      <td>2.060420</td>\n",
              "      <td>5.88580</td>\n",
              "      <td>-3.85836</td>\n",
              "      <td>6.23602</td>\n",
              "      <td>-0.584812</td>\n",
              "      <td>1.234060</td>\n",
              "      <td>-1</td>\n",
              "      <td>5.20755</td>\n",
              "      <td>-1.55016</td>\n",
              "      <td>-1.819760</td>\n",
              "      <td>4.62525</td>\n",
              "      <td>2.39050</td>\n",
              "      <td>1.414110</td>\n",
              "      <td>-2.276360</td>\n",
              "      <td>1</td>\n",
              "      <td>11.82820</td>\n",
              "    </tr>\n",
              "    <tr>\n",
              "      <th>1</th>\n",
              "      <td>GG</td>\n",
              "      <td>146511</td>\n",
              "      <td>25341481</td>\n",
              "      <td>18.46720</td>\n",
              "      <td>8.033950</td>\n",
              "      <td>-3.94072</td>\n",
              "      <td>-16.15410</td>\n",
              "      <td>8.94839</td>\n",
              "      <td>-1.352990</td>\n",
              "      <td>-0.456026</td>\n",
              "      <td>-1</td>\n",
              "      <td>10.72950</td>\n",
              "      <td>6.29476</td>\n",
              "      <td>-2.524410</td>\n",
              "      <td>-8.31349</td>\n",
              "      <td>6.78208</td>\n",
              "      <td>-1.032390</td>\n",
              "      <td>-0.381397</td>\n",
              "      <td>1</td>\n",
              "      <td>2.58406</td>\n",
              "    </tr>\n",
              "    <tr>\n",
              "      <th>2</th>\n",
              "      <td>GG</td>\n",
              "      <td>146511</td>\n",
              "      <td>25390065</td>\n",
              "      <td>7.70222</td>\n",
              "      <td>-0.248771</td>\n",
              "      <td>4.08338</td>\n",
              "      <td>6.52511</td>\n",
              "      <td>4.09095</td>\n",
              "      <td>1.246340</td>\n",
              "      <td>1.631640</td>\n",
              "      <td>-1</td>\n",
              "      <td>6.90202</td>\n",
              "      <td>-3.02439</td>\n",
              "      <td>3.751290</td>\n",
              "      <td>4.94041</td>\n",
              "      <td>4.81862</td>\n",
              "      <td>0.899132</td>\n",
              "      <td>2.249320</td>\n",
              "      <td>1</td>\n",
              "      <td>3.11929</td>\n",
              "    </tr>\n",
              "    <tr>\n",
              "      <th>3</th>\n",
              "      <td>GG</td>\n",
              "      <td>146511</td>\n",
              "      <td>25391068</td>\n",
              "      <td>6.59462</td>\n",
              "      <td>5.246510</td>\n",
              "      <td>2.16082</td>\n",
              "      <td>3.35900</td>\n",
              "      <td>5.67407</td>\n",
              "      <td>0.561945</td>\n",
              "      <td>0.390686</td>\n",
              "      <td>1</td>\n",
              "      <td>7.43461</td>\n",
              "      <td>-5.06069</td>\n",
              "      <td>4.408010</td>\n",
              "      <td>3.19704</td>\n",
              "      <td>6.71127</td>\n",
              "      <td>0.459977</td>\n",
              "      <td>2.425020</td>\n",
              "      <td>-1</td>\n",
              "      <td>10.51920</td>\n",
              "    </tr>\n",
              "    <tr>\n",
              "      <th>4</th>\n",
              "      <td>GG</td>\n",
              "      <td>146511</td>\n",
              "      <td>25489877</td>\n",
              "      <td>45.77350</td>\n",
              "      <td>8.864420</td>\n",
              "      <td>1.28931</td>\n",
              "      <td>-44.88830</td>\n",
              "      <td>8.95770</td>\n",
              "      <td>-2.314620</td>\n",
              "      <td>0.144435</td>\n",
              "      <td>-1</td>\n",
              "      <td>9.27485</td>\n",
              "      <td>-3.64696</td>\n",
              "      <td>-0.276874</td>\n",
              "      <td>8.52260</td>\n",
              "      <td>3.65745</td>\n",
              "      <td>1.582250</td>\n",
              "      <td>-3.065820</td>\n",
              "      <td>1</td>\n",
              "      <td>40.98300</td>\n",
              "    </tr>\n",
              "  </tbody>\n",
              "</table>\n",
              "</div>"
            ],
            "text/plain": [
              "  Type     Run     Event        E1  ...      eta2      phi2  Q2         M\n",
              "0   GT  146511  25343052   7.33390  ...  1.414110 -2.276360   1  11.82820\n",
              "1   GG  146511  25341481  18.46720  ... -1.032390 -0.381397   1   2.58406\n",
              "2   GG  146511  25390065   7.70222  ...  0.899132  2.249320   1   3.11929\n",
              "3   GG  146511  25391068   6.59462  ...  0.459977  2.425020  -1  10.51920\n",
              "4   GG  146511  25489877  45.77350  ...  1.582250 -3.065820   1  40.98300\n",
              "\n",
              "[5 rows x 20 columns]"
            ]
          },
          "metadata": {
            "tags": []
          },
          "execution_count": 3
        }
      ]
    },
    {
      "cell_type": "code",
      "metadata": {
        "colab": {
          "base_uri": "https://localhost:8080/",
          "height": 405
        },
        "id": "zwyAORJMCH4n",
        "outputId": "2a3d6143-1a52-4cfd-ae7b-c506cb203a33"
      },
      "source": [
        "# define figure size, axis labes\n",
        "fig, ax = plt.subplots(figsize=(6,6))\n",
        "ax.set_ylabel('events/bin')\n",
        "ax.set_xlabel('dimuon mass [GeV]')\n",
        "plt.rc('font', size=16)\n",
        "#ax.set_yscale('log')\n",
        "\n",
        "df[(df.Q1*df.Q2 < 0) & (df.pt2 > 5)]['M'].hist(bins = range(70,110), ax = ax, label = 'opposite-sign') \n",
        "df[(df.Q1*df.Q2 > 0) & (df.pt2 > 5)]['M'].hist(bins = range(70,110), ax = ax, label = 'same-sign')\n",
        "plt.legend(loc=4)\n",
        "\n",
        "# The mass peak near 90 GeV, is consistent with what we expect from \n",
        "# an electroweak Z boson. Can you find other resonances elsewhere in the \n",
        "# dimuon mass spectrum ?"
      ],
      "execution_count": 4,
      "outputs": [
        {
          "output_type": "execute_result",
          "data": {
            "text/plain": [
              "<matplotlib.legend.Legend at 0x7f4948e4bc88>"
            ]
          },
          "metadata": {
            "tags": []
          },
          "execution_count": 4
        },
        {
          "output_type": "display_data",
          "data": {
            "image/png": "[encoded data removed]",
            "text/plain": [
              "<Figure size 432x432 with 1 Axes>"
            ]
          },
          "metadata": {
            "tags": [],
            "needs_background": "light"
          }
        }
      ]
    },
    {
      "cell_type": "code",
      "metadata": {
        "colab": {
          "base_uri": "https://localhost:8080/"
        },
        "id": "x4z1gFCr-uVJ",
        "outputId": "a6fab1c8-dbd3-4dc5-f976-74ecc76bff5d"
      },
      "source": [
        "df.columns"
      ],
      "execution_count": 5,
      "outputs": [
        {
          "output_type": "execute_result",
          "data": {
            "text/plain": [
              "Index(['Type', 'Run', 'Event', 'E1', 'px1 ', 'py1', 'pz1', 'pt1', 'eta1',\n",
              "       'phi1', 'Q1', 'E2', 'px2', 'py2', 'pz2', 'pt2', 'eta2', 'phi2', 'Q2',\n",
              "       'M'],\n",
              "      dtype='object')"
            ]
          },
          "metadata": {
            "tags": []
          },
          "execution_count": 5
        }
      ]
    },
    {
      "cell_type": "code",
      "metadata": {
        "colab": {
          "base_uri": "https://localhost:8080/"
        },
        "id": "JrHrAJQ7smS9",
        "outputId": "26caf904-7019-4e7b-b720-3e39e92110de"
      },
      "source": [
        "# There is a typo in the original data file from CSV: The variable 'px1' is \n",
        "# labeled with an extra space 'px1 ' which is unfortunate. We will rename the\n",
        "# whole column and eliminate this extra space in the variable's definition\n",
        "print('before the fix:', df.columns)\n",
        "df = df.rename(columns={'px1 ': 'px1'})\n",
        "print('after the fix:', df.columns)"
      ],
      "execution_count": 6,
      "outputs": [
        {
          "output_type": "stream",
          "text": [
            "before the fix: Index(['Type', 'Run', 'Event', 'E1', 'px1 ', 'py1', 'pz1', 'pt1', 'eta1',\n",
            "       'phi1', 'Q1', 'E2', 'px2', 'py2', 'pz2', 'pt2', 'eta2', 'phi2', 'Q2',\n",
            "       'M'],\n",
            "      dtype='object')\n",
            "after the fix: Index(['Type', 'Run', 'Event', 'E1', 'px1', 'py1', 'pz1', 'pt1', 'eta1',\n",
            "       'phi1', 'Q1', 'E2', 'px2', 'py2', 'pz2', 'pt2', 'eta2', 'phi2', 'Q2',\n",
            "       'M'],\n",
            "      dtype='object')\n"
          ],
          "name": "stdout"
        }
      ]
    },
    {
      "cell_type": "code",
      "metadata": {
        "colab": {
          "base_uri": "https://localhost:8080/",
          "height": 515
        },
        "id": "7GUOnmwaF2MU",
        "outputId": "ea02b2d0-cd70-4069-9f9e-b938412324d9"
      },
      "source": [
        "# Example: How define now a new variable, with pre-calculated the transverse mass of the dilepton system\n",
        "df['PTll'] = ((df['px1'] + df['px2'])**2 + (df['py1'] + df['py2'])**2)**0.5\n",
        "ax = df['PTll'].plot.hist('PTll', bins = range(0, 30), grid='true')\n",
        "print('The dilepton system is produced with %2.3f GeV of transverse momentum, on average'%(df['PTll'].mean()))\n",
        "ax.set_xlabel('PT(ll) [GeV]')\n",
        "df.head()"
      ],
      "execution_count": 7,
      "outputs": [
        {
          "output_type": "stream",
          "text": [
            "The dilepton system is produced with 11.002 GeV of transverse momentum, on average\n"
          ],
          "name": "stdout"
        },
        {
          "output_type": "execute_result",
          "data": {
            "text/html": [
              "<div>\n",
              "<style scoped>\n",
              "    .dataframe tbody tr th:only-of-type {\n",
              "        vertical-align: middle;\n",
              "    }\n",
              "\n",
              "    .dataframe tbody tr th {\n",
              "        vertical-align: top;\n",
              "    }\n",
              "\n",
              "    .dataframe thead th {\n",
              "        text-align: right;\n",
              "    }\n",
              "</style>\n",
              "<table border=\"1\" class=\"dataframe\">\n",
              "  <thead>\n",
              "    <tr style=\"text-align: right;\">\n",
              "      <th></th>\n",
              "      <th>Type</th>\n",
              "      <th>Run</th>\n",
              "      <th>Event</th>\n",
              "      <th>E1</th>\n",
              "      <th>px1</th>\n",
              "      <th>py1</th>\n",
              "      <th>pz1</th>\n",
              "      <th>pt1</th>\n",
              "      <th>eta1</th>\n",
              "      <th>phi1</th>\n",
              "      <th>Q1</th>\n",
              "      <th>E2</th>\n",
              "      <th>px2</th>\n",
              "      <th>py2</th>\n",
              "      <th>pz2</th>\n",
              "      <th>pt2</th>\n",
              "      <th>eta2</th>\n",
              "      <th>phi2</th>\n",
              "      <th>Q2</th>\n",
              "      <th>M</th>\n",
              "      <th>PTll</th>\n",
              "    </tr>\n",
              "  </thead>\n",
              "  <tbody>\n",
              "    <tr>\n",
              "      <th>0</th>\n",
              "      <td>GT</td>\n",
              "      <td>146511</td>\n",
              "      <td>25343052</td>\n",
              "      <td>7.33390</td>\n",
              "      <td>2.060420</td>\n",
              "      <td>5.88580</td>\n",
              "      <td>-3.85836</td>\n",
              "      <td>6.23602</td>\n",
              "      <td>-0.584812</td>\n",
              "      <td>1.234060</td>\n",
              "      <td>-1</td>\n",
              "      <td>5.20755</td>\n",
              "      <td>-1.55016</td>\n",
              "      <td>-1.819760</td>\n",
              "      <td>4.62525</td>\n",
              "      <td>2.39050</td>\n",
              "      <td>1.414110</td>\n",
              "      <td>-2.276360</td>\n",
              "      <td>1</td>\n",
              "      <td>11.82820</td>\n",
              "      <td>4.097932</td>\n",
              "    </tr>\n",
              "    <tr>\n",
              "      <th>1</th>\n",
              "      <td>GG</td>\n",
              "      <td>146511</td>\n",
              "      <td>25341481</td>\n",
              "      <td>18.46720</td>\n",
              "      <td>8.033950</td>\n",
              "      <td>-3.94072</td>\n",
              "      <td>-16.15410</td>\n",
              "      <td>8.94839</td>\n",
              "      <td>-1.352990</td>\n",
              "      <td>-0.456026</td>\n",
              "      <td>-1</td>\n",
              "      <td>10.72950</td>\n",
              "      <td>6.29476</td>\n",
              "      <td>-2.524410</td>\n",
              "      <td>-8.31349</td>\n",
              "      <td>6.78208</td>\n",
              "      <td>-1.032390</td>\n",
              "      <td>-0.381397</td>\n",
              "      <td>1</td>\n",
              "      <td>2.58406</td>\n",
              "      <td>15.719728</td>\n",
              "    </tr>\n",
              "    <tr>\n",
              "      <th>2</th>\n",
              "      <td>GG</td>\n",
              "      <td>146511</td>\n",
              "      <td>25390065</td>\n",
              "      <td>7.70222</td>\n",
              "      <td>-0.248771</td>\n",
              "      <td>4.08338</td>\n",
              "      <td>6.52511</td>\n",
              "      <td>4.09095</td>\n",
              "      <td>1.246340</td>\n",
              "      <td>1.631640</td>\n",
              "      <td>-1</td>\n",
              "      <td>6.90202</td>\n",
              "      <td>-3.02439</td>\n",
              "      <td>3.751290</td>\n",
              "      <td>4.94041</td>\n",
              "      <td>4.81862</td>\n",
              "      <td>0.899132</td>\n",
              "      <td>2.249320</td>\n",
              "      <td>1</td>\n",
              "      <td>3.11929</td>\n",
              "      <td>8.490915</td>\n",
              "    </tr>\n",
              "    <tr>\n",
              "      <th>3</th>\n",
              "      <td>GG</td>\n",
              "      <td>146511</td>\n",
              "      <td>25391068</td>\n",
              "      <td>6.59462</td>\n",
              "      <td>5.246510</td>\n",
              "      <td>2.16082</td>\n",
              "      <td>3.35900</td>\n",
              "      <td>5.67407</td>\n",
              "      <td>0.561945</td>\n",
              "      <td>0.390686</td>\n",
              "      <td>1</td>\n",
              "      <td>7.43461</td>\n",
              "      <td>-5.06069</td>\n",
              "      <td>4.408010</td>\n",
              "      <td>3.19704</td>\n",
              "      <td>6.71127</td>\n",
              "      <td>0.459977</td>\n",
              "      <td>2.425020</td>\n",
              "      <td>-1</td>\n",
              "      <td>10.51920</td>\n",
              "      <td>6.571458</td>\n",
              "    </tr>\n",
              "    <tr>\n",
              "      <th>4</th>\n",
              "      <td>GG</td>\n",
              "      <td>146511</td>\n",
              "      <td>25489877</td>\n",
              "      <td>45.77350</td>\n",
              "      <td>8.864420</td>\n",
              "      <td>1.28931</td>\n",
              "      <td>-44.88830</td>\n",
              "      <td>8.95770</td>\n",
              "      <td>-2.314620</td>\n",
              "      <td>0.144435</td>\n",
              "      <td>-1</td>\n",
              "      <td>9.27485</td>\n",
              "      <td>-3.64696</td>\n",
              "      <td>-0.276874</td>\n",
              "      <td>8.52260</td>\n",
              "      <td>3.65745</td>\n",
              "      <td>1.582250</td>\n",
              "      <td>-3.065820</td>\n",
              "      <td>1</td>\n",
              "      <td>40.98300</td>\n",
              "      <td>5.314783</td>\n",
              "    </tr>\n",
              "  </tbody>\n",
              "</table>\n",
              "</div>"
            ],
            "text/plain": [
              "  Type     Run     Event        E1  ...      phi2  Q2         M       PTll\n",
              "0   GT  146511  25343052   7.33390  ... -2.276360   1  11.82820   4.097932\n",
              "1   GG  146511  25341481  18.46720  ... -0.381397   1   2.58406  15.719728\n",
              "2   GG  146511  25390065   7.70222  ...  2.249320   1   3.11929   8.490915\n",
              "3   GG  146511  25391068   6.59462  ...  2.425020  -1  10.51920   6.571458\n",
              "4   GG  146511  25489877  45.77350  ... -3.065820   1  40.98300   5.314783\n",
              "\n",
              "[5 rows x 21 columns]"
            ]
          },
          "metadata": {
            "tags": []
          },
          "execution_count": 7
        },
        {
          "output_type": "display_data",
          "data": {
            "image/png": "[encoded data removed]",
            "text/plain": [
              "<Figure size 432x288 with 1 Axes>"
            ]
          },
          "metadata": {
            "tags": [],
            "needs_background": "light"
          }
        }
      ]
    },
    {
      "cell_type": "code",
      "metadata": {
        "id": "D4rK3hVvOock"
      },
      "source": [
        ""
      ],
      "execution_count": 7,
      "outputs": []
    }
  ]
}