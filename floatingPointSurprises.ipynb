{
  "nbformat": 4,
  "nbformat_minor": 0,
  "metadata": {
    "colab": {
      "name": "floatingPointSurprises.ipynb",
      "version": "0.3.2",
      "provenance": [],
      "collapsed_sections": []
    },
    "kernelspec": {
      "name": "python3",
      "display_name": "Python 3"
    }
  },
  "cells": [
    {
      "cell_type": "markdown",
      "metadata": {
        "id": "fngOPPNavHZW",
        "colab_type": "text"
      },
      "source": [
        "# Floating point surprises, when ordinary sense fails ... \n",
        "---\n",
        "\n",
        "code written by Konstantinos Theofilatos on 2019.07.28\n",
        "\n",
        "---\n",
        "\n"
      ]
    },
    {
      "cell_type": "markdown",
      "metadata": {
        "id": "Aa9_B8PWwbEF",
        "colab_type": "text"
      },
      "source": [
        "check if ```0.1 + 0.2 == 0.3``` in a floating-point **calculation**"
      ]
    },
    {
      "cell_type": "code",
      "metadata": {
        "id": "wOcu9IMg8Rga",
        "colab_type": "code",
        "colab": {}
      },
      "source": [
        "a = 0.1\n",
        "b = 0.2\n",
        "c = 0.3"
      ],
      "execution_count": 0,
      "outputs": []
    },
    {
      "cell_type": "code",
      "metadata": {
        "id": "koF25LwJ3M7v",
        "colab_type": "code",
        "outputId": "5201aab5-63c2-4c75-b027-0883ea27e725",
        "colab": {
          "base_uri": "https://localhost:8080/",
          "height": 69
        }
      },
      "source": [
        "print('a = ', a) \n",
        "print('b = ', b) \n",
        "print('c = ', c)"
      ],
      "execution_count": 22,
      "outputs": [
        {
          "output_type": "stream",
          "text": [
            "a =  0.1\n",
            "b =  0.2\n",
            "c =  0.3\n"
          ],
          "name": "stdout"
        }
      ]
    },
    {
      "cell_type": "code",
      "metadata": {
        "id": "7Atsa3P6xAJm",
        "colab_type": "code",
        "outputId": "a2066190-2427-45c6-a799-90e57c7f7f93",
        "colab": {
          "base_uri": "https://localhost:8080/",
          "height": 69
        }
      },
      "source": [
        "print('check if 1 == 1:', 1 == 1)\n",
        "print('check if 1 == 2:', 1 == 2)\n",
        "print('check if a+b-c == 0:', a+b-c == 0)    # returns True/False if boolean condition is fulfilled"
      ],
      "execution_count": 23,
      "outputs": [
        {
          "output_type": "stream",
          "text": [
            "check if 1 == 1: True\n",
            "check if 1 == 2: False\n",
            "check if a+b-c == 0: False\n"
          ],
          "name": "stdout"
        }
      ]
    },
    {
      "cell_type": "markdown",
      "metadata": {
        "id": "cdJWz6NVxn0l",
        "colab_type": "text"
      },
      "source": [
        "**It's not a bug**, if you think that ```a + b = c``` in the ordinary sense still holds true, you have illusions. The number 0.1 doesn't have exact representation in a binary system, but only approximate one. Most computers, round this ugliness and display as many digits people would find useful, in the ordinary sense. But we should not forget what those are, when caring for precision."
      ]
    },
    {
      "cell_type": "code",
      "metadata": {
        "id": "ycxKHE6mxWTl",
        "colab_type": "code",
        "outputId": "7204eddd-c702-43aa-9fae-35f603d420d2",
        "colab": {
          "base_uri": "https://localhost:8080/",
          "height": 34
        }
      },
      "source": [
        "print('a + b - c =', a+b - c)"
      ],
      "execution_count": 24,
      "outputs": [
        {
          "output_type": "stream",
          "text": [
            "a + b - c = 5.551115123125783e-17\n"
          ],
          "name": "stdout"
        }
      ]
    },
    {
      "cell_type": "markdown",
      "metadata": {
        "id": "cv6uB4jpyhVj",
        "colab_type": "text"
      },
      "source": [
        "So, a + b - c, is not exactly zero but $\\sim 5.5\\times10^{-17}$. \n",
        "\n",
        "An appropriate condition to check the equality in a program would have been the following:"
      ]
    },
    {
      "cell_type": "code",
      "metadata": {
        "id": "7mqOhyi5yj7q",
        "colab_type": "code",
        "outputId": "2aa9a351-b2a4-4f3a-c5c4-259c0c4815ec",
        "colab": {
          "base_uri": "https://localhost:8080/",
          "height": 34
        }
      },
      "source": [
        "print('check if a+b-c is almost zero:', abs(a + b - c)< 0.000000001)"
      ],
      "execution_count": 25,
      "outputs": [
        {
          "output_type": "stream",
          "text": [
            "check if a+b-c is almost zero: True\n"
          ],
          "name": "stdout"
        }
      ]
    },
    {
      "cell_type": "markdown",
      "metadata": {
        "colab_type": "text",
        "id": "wN8DEww2nW9l"
      },
      "source": [
        "### Advanced code\n",
        "(assumes familiarity with C's **sprintf** or [string formating in Python](https://docs.python.org/3/tutorial/inputoutput.html#old-string-formatting))\n",
        "\n",
        "If we want to see the full precision a number has, we just need to ask for it. "
      ]
    },
    {
      "cell_type": "code",
      "metadata": {
        "colab_type": "code",
        "outputId": "3d17733c-0699-4c07-e2ca-bebb7c8bac8d",
        "id": "G_yv2Q-YnV6d",
        "colab": {
          "base_uri": "https://localhost:8080/",
          "height": 104
        }
      },
      "source": [
        "print('%2.4f'%a)     # %2.4f  implies that the value of a will be formated as a floating point of xx.yyyy\n",
        "print('%2.50f'%a)    # %2.4f  implies that the value of a will be formated as a floating point of xx.yyyy...y 50 decimal digits\n",
        "print('%2.50f'%b)\n",
        "print('%2.50f'%c)\n",
        "print('%2.50f'%(a+b-c))"
      ],
      "execution_count": 26,
      "outputs": [
        {
          "output_type": "stream",
          "text": [
            "0.1000\n",
            "0.10000000000000000555111512312578270211815834045410\n",
            "0.20000000000000001110223024625156540423631668090820\n",
            "0.29999999999999998889776975374843459576368331909180\n",
            "0.00000000000000005551115123125782702118158340454102\n"
          ],
          "name": "stdout"
        }
      ]
    },
    {
      "cell_type": "markdown",
      "metadata": {
        "id": "8FWuane6oOxm",
        "colab_type": "text"
      },
      "source": [
        "Not all numbers, are approximate in a binary representation. For example ```0.5``` has an exact binary representation."
      ]
    },
    {
      "cell_type": "code",
      "metadata": {
        "id": "fG7O_aFFoa3w",
        "colab_type": "code",
        "colab": {
          "base_uri": "https://localhost:8080/",
          "height": 34
        },
        "outputId": "9fe876ac-8ec3-419d-f835-7fa8ca843c12"
      },
      "source": [
        "d = 0.5\n",
        "print('%2.50f'%d)\n"
      ],
      "execution_count": 28,
      "outputs": [
        {
          "output_type": "stream",
          "text": [
            "0.50000000000000000000000000000000000000000000000000\n"
          ],
          "name": "stdout"
        }
      ]
    },
    {
      "cell_type": "markdown",
      "metadata": {
        "id": "6oUP5fhColwZ",
        "colab_type": "text"
      },
      "source": [
        "### Question\n",
        "can you predict which demical numbers can be exactly representable by a computer ?"
      ]
    }
  ]
}