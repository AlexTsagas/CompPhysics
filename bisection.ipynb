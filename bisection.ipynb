{
  "nbformat": 4,
  "nbformat_minor": 0,
  "metadata": {
    "colab": {
      "name": "bisection.ipynb",
      "version": "0.3.2",
      "provenance": [],
      "collapsed_sections": [],
      "include_colab_link": true
    },
    "kernelspec": {
      "name": "python3",
      "display_name": "Python 3"
    }
  },
  "cells": [
    {
      "cell_type": "markdown",
      "metadata": {
        "id": "view-in-github",
        "colab_type": "text"
      },
      "source": [
        "<a href=\"https://colab.research.google.com/github/theofil/CompPhysics/blob/master/bisection.ipynb\" target=\"_parent\"><img src=\"https://colab.research.google.com/assets/colab-badge.svg\" alt=\"Open In Colab\"/></a>"
      ]
    },
    {
      "cell_type": "markdown",
      "metadata": {
        "id": "7t0Sg_uqtYbE",
        "colab_type": "text"
      },
      "source": [
        "# Find $\\sqrt{5}$ using bisection method\n",
        "\n",
        "---\n",
        "\n",
        "code written by Konstantinos Theofilatos on 2019.30.07\n",
        "\n",
        "---"
      ]
    },
    {
      "cell_type": "code",
      "metadata": {
        "id": "-_aNs-88tSjo",
        "colab_type": "code",
        "colab": {}
      },
      "source": [
        "def f(x): return x*x - 5"
      ],
      "execution_count": 0,
      "outputs": []
    },
    {
      "cell_type": "code",
      "metadata": {
        "id": "qLzaQJQ8tnnk",
        "colab_type": "code",
        "outputId": "4de82ec7-fa3b-4930-f0ca-31706ac8d515",
        "colab": {
          "base_uri": "https://localhost:8080/",
          "height": 312
        }
      },
      "source": [
        "a = 2\n",
        "b = 3\n",
        "n = 0\n",
        "e = 1.e-5 # = 0.00001\n",
        "while( b - a > e and n < 100):\n",
        "  c = 0.5*(a + b)\n",
        "  if f(c)*f(b) < 0: a = c\n",
        "  else: b = c\n",
        "  n = n + 1\n",
        "  print('n = ', n, 'a = ', a, 'b = ', b)"
      ],
      "execution_count": 0,
      "outputs": [
        {
          "output_type": "stream",
          "text": [
            "n =  1 a =  2 b =  2.5\n",
            "n =  2 a =  2 b =  2.25\n",
            "n =  3 a =  2.125 b =  2.25\n",
            "n =  4 a =  2.1875 b =  2.25\n",
            "n =  5 a =  2.21875 b =  2.25\n",
            "n =  6 a =  2.234375 b =  2.25\n",
            "n =  7 a =  2.234375 b =  2.2421875\n",
            "n =  8 a =  2.234375 b =  2.23828125\n",
            "n =  9 a =  2.234375 b =  2.236328125\n",
            "n =  10 a =  2.2353515625 b =  2.236328125\n",
            "n =  11 a =  2.23583984375 b =  2.236328125\n",
            "n =  12 a =  2.23583984375 b =  2.236083984375\n",
            "n =  13 a =  2.2359619140625 b =  2.236083984375\n",
            "n =  14 a =  2.23602294921875 b =  2.236083984375\n",
            "n =  15 a =  2.236053466796875 b =  2.236083984375\n",
            "n =  16 a =  2.236053466796875 b =  2.2360687255859375\n",
            "n =  17 a =  2.2360610961914062 b =  2.2360687255859375\n"
          ],
          "name": "stdout"
        }
      ]
    },
    {
      "cell_type": "code",
      "metadata": {
        "id": "qX7jyK07uK1m",
        "colab_type": "code",
        "outputId": "c4074cc1-7d21-4bd2-e547-ab24829a6a55",
        "colab": {
          "base_uri": "https://localhost:8080/",
          "height": 69
        }
      },
      "source": [
        "refValue = 5**0.5        # default of sqrt(5) in python\n",
        "estValue = (b + a)*0.5\n",
        "print('reference value = ', refValue, 'estimated value = ', estValue)\n",
        "absError = abs(5**0.5 - (b + a)*0.5)\n",
        "fracError = 100*absError/refValue\n",
        "print('absolute error = ', absError)\n",
        "print('fractional error = ', fracError, '%')"
      ],
      "execution_count": 0,
      "outputs": [
        {
          "output_type": "stream",
          "text": [
            "reference value =  2.23606797749979 estimated value =  2.236064910888672\n",
            "absolute error =  3.0666111179300515e-06\n",
            "fractional error =  0.00013714301840496437 %\n"
          ],
          "name": "stdout"
        }
      ]
    },
    {
      "cell_type": "markdown",
      "metadata": {
        "id": "y6IQRoU7uppq",
        "colab_type": "text"
      },
      "source": [
        "# Advanced code write-up"
      ]
    },
    {
      "cell_type": "code",
      "metadata": {
        "id": "TIRPcl8-utgO",
        "colab_type": "code",
        "outputId": "6185b9fa-f8ab-41f0-a4ed-6598a36c8444",
        "colab": {
          "base_uri": "https://localhost:8080/",
          "height": 72
        }
      },
      "source": [
        "f = lambda x: x*x -5        # google search for 'python lamda function' \n",
        "sgn = lambda x: 1 if x > 0 else -1 if x < 0 else 0  # evalutes the sign of 'x', returns '0' if 'x = 0'\n",
        "a = 2 \n",
        "b = 3\n",
        "e = 1.e-5\n",
        "n = 0\n",
        "a_n = []        # it's a python list see https://docs.python.org/3/tutorial/datastructures.html\n",
        "b_n = []        # a_n, b_n will store all indermediate values and updates of 'a' and 'b' \n",
        "\n",
        "while( b - a > e and n < 100):\n",
        "  c = a + (b - a)*0.5    # it's better than c = 0.5*(a + b)\n",
        "  if sgn(f(c))*sgn(f(b)) < 0: a = c    # it's better/faster than evaluating f(c)*f(b)        \n",
        "  else: b = c\n",
        "  n = n + 1\n",
        "  #print('n = ', n, 'a = ', a, 'b = ', b)\n",
        "  a_n.append(a)\n",
        "  b_n.append(b)\n",
        "\n",
        "print('a_n list = ', a_n)\n",
        "print('b_n list = ', b_n)"
      ],
      "execution_count": 0,
      "outputs": [
        {
          "output_type": "stream",
          "text": [
            "a_n list =  [2, 2, 2.125, 2.1875, 2.21875, 2.234375, 2.234375, 2.234375, 2.234375, 2.2353515625, 2.23583984375, 2.23583984375, 2.2359619140625, 2.23602294921875, 2.236053466796875, 2.236053466796875, 2.2360610961914062]\n",
            "b_n list =  [2.5, 2.25, 2.25, 2.25, 2.25, 2.25, 2.2421875, 2.23828125, 2.236328125, 2.236328125, 2.236328125, 2.236083984375, 2.236083984375, 2.236083984375, 2.236083984375, 2.2360687255859375, 2.2360687255859375]\n"
          ],
          "name": "stdout"
        }
      ]
    },
    {
      "cell_type": "markdown",
      "metadata": {
        "id": "kOfr8vUbxm7N",
        "colab_type": "text"
      },
      "source": [
        " # Visualization"
      ]
    },
    {
      "cell_type": "code",
      "metadata": {
        "id": "S0fHDcCIwxAj",
        "colab_type": "code",
        "outputId": "5acca57b-bf7c-46ce-cb25-3ea97bd60d3e",
        "colab": {
          "base_uri": "https://localhost:8080/",
          "height": 392
        }
      },
      "source": [
        "import matplotlib.pyplot as plt                          # google search for 'matplotlib' \n",
        "x_n= [ii for ii in range(len(b_n))]                      # google search for 'python list comprehension', 'python range', 'python len'\n",
        "m_n = [a_n[ii] + 0.5*(b_n[ii] - a_n[ii]) for ii in x_n]  # calculate midpoints for each iteration\n",
        "ref_n  = [5**0.5 for ii in x_n]                          # holds for all iterations the 'reference' value of √5\n",
        "fig, ax = plt.subplots(figsize=(10, 6))\n",
        "ax.scatter(x_n , m_n,  label = 'bisection', facecolors='none', edgecolors='r' )\n",
        "ax.scatter(x_n , ref_n, label = 'ref. $\\sqrt{5}$', facecolors='none', edgecolors='b' )\n",
        "plt.ylabel('($a_n$ + $b_n$)/2')\n",
        "plt.xlabel('#n iteration')\n",
        "ax.legend()\n",
        "ax.grid(True)\n",
        "plt.show()"
      ],
      "execution_count": 0,
      "outputs": [
        {
          "output_type": "display_data",
          "data": {
            "image/png": "[encoded data removed]",
            "text/plain": [
              "<Figure size 720x432 with 1 Axes>"
            ]
          },
          "metadata": {
            "tags": []
          }
        }
      ]
    }
  ]
}