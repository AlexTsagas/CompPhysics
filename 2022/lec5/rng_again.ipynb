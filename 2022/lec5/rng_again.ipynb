{
  "nbformat": 4,
  "nbformat_minor": 0,
  "metadata": {
    "colab": {
      "provenance": []
    },
    "kernelspec": {
      "name": "python3",
      "display_name": "Python 3"
    },
    "language_info": {
      "name": "python"
    }
  },
  "cells": [
    {
      "cell_type": "code",
      "execution_count": null,
      "metadata": {
        "id": "GpMZj810-7eJ"
      },
      "outputs": [],
      "source": [
        "import numpy as np\n",
        "import matplotlib.pyplot as plt\n",
        "\n",
        "def U(): return np.random.rand()"
      ]
    },
    {
      "cell_type": "code",
      "source": [
        "N = 50000\n",
        "us = np.array([U() for x in range(N)])\n",
        "def Finv(x):\n",
        "  return np.log(x*(np.exp(5) - 1) + 1)\n",
        "\n",
        "xs = Finv(us)\n",
        "plt.hist(xs, bins = 100, ec='black')"
      ],
      "metadata": {
        "colab": {
          "base_uri": "https://localhost:8080/",
          "height": 877
        },
        "id": "YHtb9QFe_C4y",
        "outputId": "e51b2680-f02c-476f-d09a-3425d62fd0e1"
      },
      "execution_count": null,
      "outputs": [
        {
          "output_type": "execute_result",
          "data": {
            "text/plain": [
              "(array([  21.,   26.,   13.,   24.,   14.,   20.,   21.,   32.,   23.,\n",
              "          24.,   38.,   28.,   46.,   32.,   28.,   27.,   49.,   51.,\n",
              "          47.,   46.,   41.,   53.,   53.,   61.,   56.,   61.,   70.,\n",
              "          59.,   67.,   59.,   58.,   70.,   81.,   82.,   97.,  110.,\n",
              "         110.,  122.,  119.,  137.,  131.,  153.,  148.,  159.,  154.,\n",
              "         141.,  160.,  161.,  183.,  193.,  186.,  227.,  239.,  238.,\n",
              "         261.,  273.,  290.,  335.,  299.,  350.,  358.,  371.,  386.,\n",
              "         414.,  407.,  444.,  437.,  461.,  536.,  571.,  621.,  627.,\n",
              "         623.,  667.,  667.,  754.,  779.,  768.,  822.,  905.,  923.,\n",
              "        1010., 1029., 1130., 1208., 1213., 1287., 1310., 1435., 1454.,\n",
              "        1626., 1678., 1727., 1879., 1963., 2035., 2089., 2213., 2232.,\n",
              "        2484.]),\n",
              " array([0.00743239, 0.05735789, 0.10728339, 0.1572089 , 0.2071344 ,\n",
              "        0.2570599 , 0.30698541, 0.35691091, 0.40683641, 0.45676192,\n",
              "        0.50668742, 0.55661292, 0.60653843, 0.65646393, 0.70638943,\n",
              "        0.75631494, 0.80624044, 0.85616594, 0.90609144, 0.95601695,\n",
              "        1.00594245, 1.05586795, 1.10579346, 1.15571896, 1.20564446,\n",
              "        1.25556997, 1.30549547, 1.35542097, 1.40534648, 1.45527198,\n",
              "        1.50519748, 1.55512299, 1.60504849, 1.65497399, 1.7048995 ,\n",
              "        1.754825  , 1.8047505 , 1.85467601, 1.90460151, 1.95452701,\n",
              "        2.00445251, 2.05437802, 2.10430352, 2.15422902, 2.20415453,\n",
              "        2.25408003, 2.30400553, 2.35393104, 2.40385654, 2.45378204,\n",
              "        2.50370755, 2.55363305, 2.60355855, 2.65348406, 2.70340956,\n",
              "        2.75333506, 2.80326057, 2.85318607, 2.90311157, 2.95303708,\n",
              "        3.00296258, 3.05288808, 3.10281358, 3.15273909, 3.20266459,\n",
              "        3.25259009, 3.3025156 , 3.3524411 , 3.4023666 , 3.45229211,\n",
              "        3.50221761, 3.55214311, 3.60206862, 3.65199412, 3.70191962,\n",
              "        3.75184513, 3.80177063, 3.85169613, 3.90162164, 3.95154714,\n",
              "        4.00147264, 4.05139815, 4.10132365, 4.15124915, 4.20117465,\n",
              "        4.25110016, 4.30102566, 4.35095116, 4.40087667, 4.45080217,\n",
              "        4.50072767, 4.55065318, 4.60057868, 4.65050418, 4.70042969,\n",
              "        4.75035519, 4.80028069, 4.8502062 , 4.9001317 , 4.9500572 ,\n",
              "        4.99998271]),\n",
              " <a list of 100 Patch objects>)"
            ]
          },
          "metadata": {},
          "execution_count": 21
        },
        {
          "output_type": "display_data",
          "data": {
            "text/plain": [
              "<Figure size 432x288 with 1 Axes>"
            ],
            "image/png": "[encoded data removed]"
          },
          "metadata": {
            "needs_background": "light"
          }
        }
      ]
    },
    {
      "cell_type": "code",
      "source": [
        "def f(x): return np.exp(x)/(np.exp(5) - 1)\n",
        "a, b = 0, 5\n",
        "fmax =f(5)\n",
        "N = 50000\n",
        "\n",
        "xs = []\n",
        "ys = []\n",
        "\n",
        "hits = []\n",
        "for _ in range(N):\n",
        "  x = (b - a)*U() +a \n",
        "  y = (fmax - 0)*U() + 0\n",
        "\n",
        "  xs += [x]\n",
        "  ys += [y]\n",
        "  if y<f(x):\n",
        "    hits += [x]\n",
        "\n",
        "\n",
        "xs = np.array(xs)\n",
        "\n",
        "#plt.plot(xs, ys)\n",
        "plt.hist(hits, bins = 100, ec = 'black')"
      ],
      "metadata": {
        "colab": {
          "base_uri": "https://localhost:8080/",
          "height": 932
        },
        "id": "P4eWd-Fv_F4C",
        "outputId": "c0e6c438-1bf7-406f-c458-a8e268307de3"
      },
      "execution_count": null,
      "outputs": [
        {
          "output_type": "execute_result",
          "data": {
            "text/plain": [
              "(array([  7.,   4.,   2.,   4.,   6.,   6.,   8.,   5.,   2.,   4.,   8.,\n",
              "          4.,   9.,   6.,   8.,  10.,   6.,   5.,   8.,   6.,   9.,  15.,\n",
              "         13.,  10.,  11.,  12.,   7.,   9.,  18.,  18.,  13.,  10.,  21.,\n",
              "         19.,  23.,  22.,  28.,  22.,  18.,  30.,  20.,  23.,  28.,  25.,\n",
              "         28.,  25.,  44.,  28.,  30.,  39.,  45.,  43.,  43.,  65.,  58.,\n",
              "         51.,  73.,  47.,  79.,  73.,  83.,  64.,  78.,  75.,  98., 106.,\n",
              "         96.,  93., 112., 101., 107., 105., 124., 121., 165., 151., 148.,\n",
              "        160., 161., 146., 213., 183., 212., 219., 215., 247., 245., 266.,\n",
              "        300., 306., 281., 334., 359., 369., 390., 401., 438., 426., 460.,\n",
              "        484.]),\n",
              " array([1.27093011e-03, 5.12549751e-02, 1.01239020e-01, 1.51223065e-01,\n",
              "        2.01207110e-01, 2.51191155e-01, 3.01175200e-01, 3.51159245e-01,\n",
              "        4.01143290e-01, 4.51127335e-01, 5.01111380e-01, 5.51095425e-01,\n",
              "        6.01079470e-01, 6.51063515e-01, 7.01047560e-01, 7.51031605e-01,\n",
              "        8.01015650e-01, 8.50999695e-01, 9.00983740e-01, 9.50967785e-01,\n",
              "        1.00095183e+00, 1.05093587e+00, 1.10091992e+00, 1.15090396e+00,\n",
              "        1.20088801e+00, 1.25087205e+00, 1.30085610e+00, 1.35084014e+00,\n",
              "        1.40082419e+00, 1.45080823e+00, 1.50079228e+00, 1.55077632e+00,\n",
              "        1.60076037e+00, 1.65074441e+00, 1.70072846e+00, 1.75071250e+00,\n",
              "        1.80069655e+00, 1.85068059e+00, 1.90066464e+00, 1.95064868e+00,\n",
              "        2.00063273e+00, 2.05061677e+00, 2.10060082e+00, 2.15058486e+00,\n",
              "        2.20056891e+00, 2.25055295e+00, 2.30053700e+00, 2.35052104e+00,\n",
              "        2.40050509e+00, 2.45048913e+00, 2.50047318e+00, 2.55045722e+00,\n",
              "        2.60044127e+00, 2.65042531e+00, 2.70040936e+00, 2.75039340e+00,\n",
              "        2.80037745e+00, 2.85036149e+00, 2.90034554e+00, 2.95032958e+00,\n",
              "        3.00031363e+00, 3.05029767e+00, 3.10028172e+00, 3.15026576e+00,\n",
              "        3.20024981e+00, 3.25023385e+00, 3.30021790e+00, 3.35020194e+00,\n",
              "        3.40018599e+00, 3.45017003e+00, 3.50015408e+00, 3.55013812e+00,\n",
              "        3.60012217e+00, 3.65010621e+00, 3.70009026e+00, 3.75007430e+00,\n",
              "        3.80005835e+00, 3.85004239e+00, 3.90002644e+00, 3.95001048e+00,\n",
              "        3.99999453e+00, 4.04997857e+00, 4.09996262e+00, 4.14994666e+00,\n",
              "        4.19993071e+00, 4.24991475e+00, 4.29989880e+00, 4.34988284e+00,\n",
              "        4.39986689e+00, 4.44985093e+00, 4.49983498e+00, 4.54981902e+00,\n",
              "        4.59980307e+00, 4.64978711e+00, 4.69977116e+00, 4.74975520e+00,\n",
              "        4.79973925e+00, 4.84972329e+00, 4.89970734e+00, 4.94969138e+00,\n",
              "        4.99967543e+00]),\n",
              " <a list of 100 Patch objects>)"
            ]
          },
          "metadata": {},
          "execution_count": 34
        },
        {
          "output_type": "display_data",
          "data": {
            "text/plain": [
              "<Figure size 432x288 with 1 Axes>"
            ],
            "image/png": "[encoded data removed]"
          },
          "metadata": {
            "needs_background": "light"
          }
        }
      ]
    },
    {
      "cell_type": "code",
      "source": [],
      "metadata": {
        "id": "ybciP-BtG9om"
      },
      "execution_count": null,
      "outputs": []
    }
  ]
}