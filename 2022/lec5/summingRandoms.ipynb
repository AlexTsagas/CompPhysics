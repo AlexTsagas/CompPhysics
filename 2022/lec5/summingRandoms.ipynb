{
  "nbformat": 4,
  "nbformat_minor": 0,
  "metadata": {
    "colab": {
      "provenance": []
    },
    "kernelspec": {
      "name": "python3",
      "display_name": "Python 3"
    },
    "language_info": {
      "name": "python"
    }
  },
  "cells": [
    {
      "cell_type": "code",
      "execution_count": 3,
      "metadata": {
        "id": "7zPD4BorodOG"
      },
      "outputs": [],
      "source": [
        "import numpy as np\n",
        "import matplotlib.pyplot as plt "
      ]
    },
    {
      "cell_type": "code",
      "source": [
        "# uniform random variable\n",
        "def U(): return np.random.rand() \n",
        "\n",
        "# list to hold the generated x\n",
        "xs = []\n",
        "\n",
        "# number of randoms\n",
        "N = 10000\n",
        "for i in range(N):\n",
        "  x1 = U() \n",
        "  x2 = U()\n",
        "  x = U() + U()\n",
        "  xs = xs + [x]\n",
        "\n",
        "plt.hist(xs, bins = 100, ec='black') \n",
        "\n"
      ],
      "metadata": {
        "colab": {
          "base_uri": "https://localhost:8080/",
          "height": 809
        },
        "id": "7BptYHwLojWC",
        "outputId": "41a5fc05-bf76-45ef-a577-64743d89b42d"
      },
      "execution_count": 11,
      "outputs": [
        {
          "output_type": "execute_result",
          "data": {
            "text/plain": [
              "(array([  7.,  11.,  21.,  25.,  18.,  33.,  25.,  34.,  41.,  43.,  28.,\n",
              "         62.,  58.,  56.,  60.,  70.,  65.,  70.,  79.,  67.,  63., 111.,\n",
              "         84., 105., 102., 103., 105.,  98.,  98., 117., 150., 109., 131.,\n",
              "        134., 136., 147., 133., 159., 153., 161., 146., 150., 181., 190.,\n",
              "        162., 182., 179., 191., 181., 175., 205., 196., 166., 179., 171.,\n",
              "        180., 154., 167., 150., 147., 154., 155., 184., 145., 138., 133.,\n",
              "        148., 123., 123., 133., 120., 105.,  98., 121., 101., 116., 100.,\n",
              "         98.,  99.,  78.,  75.,  72.,  68.,  63.,  49.,  54.,  60.,  50.,\n",
              "         36.,  52.,  40.,  37.,  43.,  27.,  23.,  14.,  17.,  15.,   5.,\n",
              "          4.]),\n",
              " array([0.01858567, 0.03827155, 0.05795744, 0.07764332, 0.09732921,\n",
              "        0.11701509, 0.13670098, 0.15638686, 0.17607274, 0.19575863,\n",
              "        0.21544451, 0.2351304 , 0.25481628, 0.27450217, 0.29418805,\n",
              "        0.31387394, 0.33355982, 0.35324571, 0.37293159, 0.39261747,\n",
              "        0.41230336, 0.43198924, 0.45167513, 0.47136101, 0.4910469 ,\n",
              "        0.51073278, 0.53041867, 0.55010455, 0.56979044, 0.58947632,\n",
              "        0.6091622 , 0.62884809, 0.64853397, 0.66821986, 0.68790574,\n",
              "        0.70759163, 0.72727751, 0.7469634 , 0.76664928, 0.78633517,\n",
              "        0.80602105, 0.82570693, 0.84539282, 0.8650787 , 0.88476459,\n",
              "        0.90445047, 0.92413636, 0.94382224, 0.96350813, 0.98319401,\n",
              "        1.0028799 , 1.02256578, 1.04225166, 1.06193755, 1.08162343,\n",
              "        1.10130932, 1.1209952 , 1.14068109, 1.16036697, 1.18005286,\n",
              "        1.19973874, 1.21942463, 1.23911051, 1.25879639, 1.27848228,\n",
              "        1.29816816, 1.31785405, 1.33753993, 1.35722582, 1.3769117 ,\n",
              "        1.39659759, 1.41628347, 1.43596936, 1.45565524, 1.47534112,\n",
              "        1.49502701, 1.51471289, 1.53439878, 1.55408466, 1.57377055,\n",
              "        1.59345643, 1.61314232, 1.6328282 , 1.65251409, 1.67219997,\n",
              "        1.69188585, 1.71157174, 1.73125762, 1.75094351, 1.77062939,\n",
              "        1.79031528, 1.81000116, 1.82968705, 1.84937293, 1.86905882,\n",
              "        1.8887447 , 1.90843058, 1.92811647, 1.94780235, 1.96748824,\n",
              "        1.98717412]),\n",
              " <a list of 100 Patch objects>)"
            ]
          },
          "metadata": {},
          "execution_count": 11
        },
        {
          "output_type": "display_data",
          "data": {
            "text/plain": [
              "<Figure size 432x288 with 1 Axes>"
            ],
            "image/png": "[encoded data removed]"
          },
          "metadata": {
            "needs_background": "light"
          }
        }
      ]
    },
    {
      "cell_type": "code",
      "source": [
        "# 20 randoms summed 10000 times, all in 3 lines ;-)\n",
        "xs = []\n",
        "for i in range(10000):  xs += [sum([U() for nikos in range(20)])]\n",
        "plt.hist(xs, bins = 100, ec='black') "
      ],
      "metadata": {
        "colab": {
          "base_uri": "https://localhost:8080/",
          "height": 809
        },
        "id": "jbxIpHk_p8kT",
        "outputId": "3f11817f-db7c-436a-b5f6-6ad3a4d32cfd"
      },
      "execution_count": 12,
      "outputs": [
        {
          "output_type": "execute_result",
          "data": {
            "text/plain": [
              "(array([  1.,   1.,   0.,   1.,   0.,   1.,   2.,   7.,   2.,   3.,   2.,\n",
              "          5.,   9.,  10.,  12.,   9.,  23.,  21.,  29.,  25.,  27.,  42.,\n",
              "         49.,  57.,  47.,  70.,  92.,  97.,  97., 106., 136., 147., 173.,\n",
              "        194., 173., 187., 223., 210., 256., 248., 279., 259., 289., 277.,\n",
              "        302., 302., 286., 278., 314., 298., 319., 288., 250., 264., 283.,\n",
              "        249., 275., 206., 200., 200., 180., 189., 160., 142., 139., 131.,\n",
              "        114., 106., 103.,  74.,  59.,  54.,  56.,  48.,  32.,  45.,  28.,\n",
              "         27.,  22.,  20.,  11.,   8.,  13.,   8.,   3.,   4.,   3.,   3.,\n",
              "          0.,   0.,   1.,   1.,   1.,   0.,   1.,   0.,   0.,   0.,   1.,\n",
              "          1.]),\n",
              " array([ 5.31664473,  5.41502266,  5.51340059,  5.61177852,  5.71015645,\n",
              "         5.80853438,  5.90691231,  6.00529024,  6.10366818,  6.20204611,\n",
              "         6.30042404,  6.39880197,  6.4971799 ,  6.59555783,  6.69393576,\n",
              "         6.79231369,  6.89069162,  6.98906955,  7.08744748,  7.18582541,\n",
              "         7.28420334,  7.38258127,  7.4809592 ,  7.57933713,  7.67771506,\n",
              "         7.776093  ,  7.87447093,  7.97284886,  8.07122679,  8.16960472,\n",
              "         8.26798265,  8.36636058,  8.46473851,  8.56311644,  8.66149437,\n",
              "         8.7598723 ,  8.85825023,  8.95662816,  9.05500609,  9.15338402,\n",
              "         9.25176195,  9.35013988,  9.44851782,  9.54689575,  9.64527368,\n",
              "         9.74365161,  9.84202954,  9.94040747, 10.0387854 , 10.13716333,\n",
              "        10.23554126, 10.33391919, 10.43229712, 10.53067505, 10.62905298,\n",
              "        10.72743091, 10.82580884, 10.92418677, 11.0225647 , 11.12094264,\n",
              "        11.21932057, 11.3176985 , 11.41607643, 11.51445436, 11.61283229,\n",
              "        11.71121022, 11.80958815, 11.90796608, 12.00634401, 12.10472194,\n",
              "        12.20309987, 12.3014778 , 12.39985573, 12.49823366, 12.59661159,\n",
              "        12.69498952, 12.79336746, 12.89174539, 12.99012332, 13.08850125,\n",
              "        13.18687918, 13.28525711, 13.38363504, 13.48201297, 13.5803909 ,\n",
              "        13.67876883, 13.77714676, 13.87552469, 13.97390262, 14.07228055,\n",
              "        14.17065848, 14.26903641, 14.36741434, 14.46579228, 14.56417021,\n",
              "        14.66254814, 14.76092607, 14.859304  , 14.95768193, 15.05605986,\n",
              "        15.15443779]),\n",
              " <a list of 100 Patch objects>)"
            ]
          },
          "metadata": {},
          "execution_count": 12
        },
        {
          "output_type": "display_data",
          "data": {
            "text/plain": [
              "<Figure size 432x288 with 1 Axes>"
            ],
            "image/png": "[encoded data removed]"
          },
          "metadata": {
            "needs_background": "light"
          }
        }
      ]
    },
    {
      "cell_type": "code",
      "source": [
        "# same thing as before, 20 randoms summed 10000 times, but all in 1 line ;-) \n",
        "plt.hist( [sum([U() for nikos in range(20)]) for kostas in range(10000)], bins = 100, ec='black')  "
      ],
      "metadata": {
        "colab": {
          "base_uri": "https://localhost:8080/",
          "height": 809
        },
        "id": "ed57_UZuq4XO",
        "outputId": "eaf9b6ed-9a13-4508-d0ce-ead6789a797c"
      },
      "execution_count": 13,
      "outputs": [
        {
          "output_type": "execute_result",
          "data": {
            "text/plain": [
              "(array([  3.,   0.,   2.,   2.,   4.,   3.,   4.,   4.,   4.,   4.,   5.,\n",
              "         10.,  18.,  10.,  26.,  19.,  26.,  31.,  29.,  39.,  50.,  63.,\n",
              "         70.,  89.,  81.,  86., 111., 127., 120., 144., 165., 161., 181.,\n",
              "        180., 206., 235., 250., 224., 233., 246., 255., 296., 306., 259.,\n",
              "        327., 320., 276., 316., 300., 305., 293., 298., 277., 263., 218.,\n",
              "        234., 224., 194., 188., 167., 179., 130., 129., 129.,  99., 104.,\n",
              "        110.,  72.,  77.,  81.,  46.,  36.,  31.,  32.,  25.,  22.,  23.,\n",
              "         12.,  11.,  15.,  10.,  10.,   9.,   7.,   4.,   4.,   1.,   3.,\n",
              "          2.,   0.,   1.,   1.,   1.,   0.,   2.,   0.,   0.,   0.,   0.,\n",
              "          1.]),\n",
              " array([ 5.46933934,  5.56761295,  5.66588656,  5.76416017,  5.86243378,\n",
              "         5.9607074 ,  6.05898101,  6.15725462,  6.25552823,  6.35380185,\n",
              "         6.45207546,  6.55034907,  6.64862268,  6.7468963 ,  6.84516991,\n",
              "         6.94344352,  7.04171713,  7.13999074,  7.23826436,  7.33653797,\n",
              "         7.43481158,  7.53308519,  7.63135881,  7.72963242,  7.82790603,\n",
              "         7.92617964,  8.02445326,  8.12272687,  8.22100048,  8.31927409,\n",
              "         8.4175477 ,  8.51582132,  8.61409493,  8.71236854,  8.81064215,\n",
              "         8.90891577,  9.00718938,  9.10546299,  9.2037366 ,  9.30201022,\n",
              "         9.40028383,  9.49855744,  9.59683105,  9.69510466,  9.79337828,\n",
              "         9.89165189,  9.9899255 , 10.08819911, 10.18647273, 10.28474634,\n",
              "        10.38301995, 10.48129356, 10.57956718, 10.67784079, 10.7761144 ,\n",
              "        10.87438801, 10.97266162, 11.07093524, 11.16920885, 11.26748246,\n",
              "        11.36575607, 11.46402969, 11.5623033 , 11.66057691, 11.75885052,\n",
              "        11.85712414, 11.95539775, 12.05367136, 12.15194497, 12.25021858,\n",
              "        12.3484922 , 12.44676581, 12.54503942, 12.64331303, 12.74158665,\n",
              "        12.83986026, 12.93813387, 13.03640748, 13.1346811 , 13.23295471,\n",
              "        13.33122832, 13.42950193, 13.52777554, 13.62604916, 13.72432277,\n",
              "        13.82259638, 13.92086999, 14.01914361, 14.11741722, 14.21569083,\n",
              "        14.31396444, 14.41223806, 14.51051167, 14.60878528, 14.70705889,\n",
              "        14.8053325 , 14.90360612, 15.00187973, 15.10015334, 15.19842695,\n",
              "        15.29670057]),\n",
              " <a list of 100 Patch objects>)"
            ]
          },
          "metadata": {},
          "execution_count": 13
        },
        {
          "output_type": "display_data",
          "data": {
            "text/plain": [
              "<Figure size 432x288 with 1 Axes>"
            ],
            "image/png": "[encoded data removed]"
          },
          "metadata": {
            "needs_background": "light"
          }
        }
      ]
    },
    {
      "cell_type": "code",
      "source": [],
      "metadata": {
        "id": "RXqVU6MsrRul"
      },
      "execution_count": null,
      "outputs": []
    }
  ]
}