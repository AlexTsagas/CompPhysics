{
 "cells": [
  {
   "cell_type": "code",
   "execution_count": 1,
   "metadata": {},
   "outputs": [],
   "source": [
    "import numpy as np \n",
    "import matplotlib.pyplot as plt"
   ]
  },
  {
   "cell_type": "code",
   "execution_count": 2,
   "metadata": {},
   "outputs": [],
   "source": [
    "def U(): \n",
    "    step = -1\n",
    "    if np.random.rand() < 0.5: step = 1\n",
    "    return step"
   ]
  },
  {
   "cell_type": "code",
   "execution_count": 3,
   "metadata": {},
   "outputs": [
    {
     "data": {
      "text/plain": [
       "(array([  0., 491.,   0., 509.,   0.]),\n",
       " array([-2, -1,  0,  1,  2,  3]),\n",
       " <BarContainer object of 5 artists>)"
      ]
     },
     "execution_count": 3,
     "metadata": {},
     "output_type": "execute_result"
    },
    {
     "data": {
      "image/png": "[encoded data removed]",
      "text/plain": [
       "<Figure size 432x288 with 1 Axes>"
      ]
     },
     "metadata": {
      "needs_background": "light"
     },
     "output_type": "display_data"
    }
   ],
   "source": [
    "plt.hist([U() for nikos in range(1000)], bins = [-2,-1,0,1,2, 3], ec= 'black')"
   ]
  },
  {
   "cell_type": "code",
   "execution_count": 14,
   "metadata": {},
   "outputs": [
    {
     "name": "stdout",
     "output_type": "stream",
     "text": [
      "x = 210\n",
      "[0, -1, -2, -3, -4, -3, -2, -1, 0, -1]\n"
     ]
    },
    {
     "data": {
      "image/png": "[encoded data removed]",
      "text/plain": [
       "<Figure size 432x288 with 1 Axes>"
      ]
     },
     "metadata": {
      "needs_background": "light"
     },
     "output_type": "display_data"
    }
   ],
   "source": [
    "N  = 10000 # number of steps\n",
    "x  = 0\n",
    "xs = [x] \n",
    "for i in range(N):\n",
    "    x += U()\n",
    "    xs = xs + [x]\n",
    "\n",
    "print('x = %d'%(x))\n",
    "#print(xs)\n",
    "#plt.plot(range(N), xs)\n",
    "plt.plot(range(len(xs)), xs)\n",
    "print(xs[0:10]) # print 10 first elements of xs"
   ]
  },
  {
   "cell_type": "code",
   "execution_count": 15,
   "metadata": {},
   "outputs": [],
   "source": [
    "N  = 10000 # number of steps\n",
    "\n",
    "def position(N):\n",
    "    '''returns position after N steps'''\n",
    "    x  = 0\n",
    "    xs = [x] \n",
    "    for i in range(N):\n",
    "        x += U()\n",
    "        xs = xs + [x]\n",
    "\n",
    "    return x\n",
    "    # print('x = %d'%(x))\n",
    "    # print(xs)\n",
    "    # plt.plot(range(N), xs)\n",
    "    # plt.plot(range(len(xs)), xs)\n",
    "    # print(xs[0:10]) # print 10 first elements of xs"
   ]
  },
  {
   "cell_type": "code",
   "execution_count": 16,
   "metadata": {},
   "outputs": [
    {
     "data": {
      "text/plain": [
       "(array([1.000e+00, 0.000e+00, 0.000e+00, 0.000e+00, 0.000e+00, 1.000e+00,\n",
       "        0.000e+00, 0.000e+00, 1.000e+00, 1.000e+00, 3.000e+00, 0.000e+00,\n",
       "        3.000e+00, 5.000e+00, 5.000e+00, 7.000e+00, 8.000e+00, 3.000e+00,\n",
       "        2.500e+01, 2.100e+01, 3.900e+01, 3.800e+01, 0.000e+00, 5.600e+01,\n",
       "        6.900e+01, 7.000e+01, 1.070e+02, 1.340e+02, 1.670e+02, 2.140e+02,\n",
       "        2.730e+02, 3.010e+02, 3.630e+02, 0.000e+00, 4.310e+02, 5.320e+02,\n",
       "        5.910e+02, 6.860e+02, 7.840e+02, 8.700e+02, 9.680e+02, 1.055e+03,\n",
       "        1.151e+03, 1.249e+03, 0.000e+00, 1.405e+03, 1.449e+03, 1.501e+03,\n",
       "        1.562e+03, 1.584e+03, 1.594e+03, 1.597e+03, 1.567e+03, 1.592e+03,\n",
       "        1.505e+03, 0.000e+00, 1.407e+03, 1.426e+03, 1.355e+03, 1.271e+03,\n",
       "        1.103e+03, 1.098e+03, 9.290e+02, 8.410e+02, 7.880e+02, 6.940e+02,\n",
       "        0.000e+00, 5.520e+02, 5.070e+02, 4.430e+02, 3.860e+02, 2.990e+02,\n",
       "        2.770e+02, 2.250e+02, 1.830e+02, 1.300e+02, 1.220e+02, 0.000e+00,\n",
       "        1.000e+02, 7.000e+01, 5.800e+01, 4.300e+01, 1.700e+01, 2.300e+01,\n",
       "        2.200e+01, 9.000e+00, 6.000e+00, 1.000e+01, 0.000e+00, 6.000e+00,\n",
       "        6.000e+00, 2.000e+00, 2.000e+00, 1.000e+00, 0.000e+00, 0.000e+00,\n",
       "        0.000e+00, 0.000e+00, 0.000e+00, 1.000e+00]),\n",
       " array([-94.  , -92.18, -90.36, -88.54, -86.72, -84.9 , -83.08, -81.26,\n",
       "        -79.44, -77.62, -75.8 , -73.98, -72.16, -70.34, -68.52, -66.7 ,\n",
       "        -64.88, -63.06, -61.24, -59.42, -57.6 , -55.78, -53.96, -52.14,\n",
       "        -50.32, -48.5 , -46.68, -44.86, -43.04, -41.22, -39.4 , -37.58,\n",
       "        -35.76, -33.94, -32.12, -30.3 , -28.48, -26.66, -24.84, -23.02,\n",
       "        -21.2 , -19.38, -17.56, -15.74, -13.92, -12.1 , -10.28,  -8.46,\n",
       "         -6.64,  -4.82,  -3.  ,  -1.18,   0.64,   2.46,   4.28,   6.1 ,\n",
       "          7.92,   9.74,  11.56,  13.38,  15.2 ,  17.02,  18.84,  20.66,\n",
       "         22.48,  24.3 ,  26.12,  27.94,  29.76,  31.58,  33.4 ,  35.22,\n",
       "         37.04,  38.86,  40.68,  42.5 ,  44.32,  46.14,  47.96,  49.78,\n",
       "         51.6 ,  53.42,  55.24,  57.06,  58.88,  60.7 ,  62.52,  64.34,\n",
       "         66.16,  67.98,  69.8 ,  71.62,  73.44,  75.26,  77.08,  78.9 ,\n",
       "         80.72,  82.54,  84.36,  86.18,  88.  ]),\n",
       " <BarContainer object of 100 artists>)"
      ]
     },
     "execution_count": 16,
     "metadata": {},
     "output_type": "execute_result"
    },
    {
     "data": {
      "image/png": "[encoded data removed]",
      "text/plain": [
       "<Figure size 432x288 with 1 Axes>"
      ]
     },
     "metadata": {
      "needs_background": "light"
     },
     "output_type": "display_data"
    }
   ],
   "source": [
    "N = 400 # number of steps\n",
    "W = 40000    # number of walkers\n",
    "positions = [position(N) for w in range(W)]\n",
    "plt.hist(positions, bins = 100, ec='black')"
   ]
  },
  {
   "cell_type": "code",
   "execution_count": 17,
   "metadata": {},
   "outputs": [],
   "source": [
    "positions = np.array(positions)"
   ]
  },
  {
   "cell_type": "code",
   "execution_count": 18,
   "metadata": {},
   "outputs": [],
   "source": [
    "σ = positions.std()\n",
    "μ = positions.mean()"
   ]
  },
  {
   "cell_type": "code",
   "execution_count": 19,
   "metadata": {},
   "outputs": [
    {
     "name": "stdout",
     "output_type": "stream",
     "text": [
      "μ = -0.0 σ = 19.9 for N = 400\n"
     ]
    }
   ],
   "source": [
    "print('μ = %2.1f σ = %2.1f for N = %d'%(μ, σ, N))"
   ]
  },
  {
   "cell_type": "code",
   "execution_count": null,
   "metadata": {},
   "outputs": [],
   "source": []
  }
 ],
 "metadata": {
  "kernelspec": {
   "display_name": "Python 3",
   "language": "python",
   "name": "python3"
  },
  "language_info": {
   "codemirror_mode": {
    "name": "ipython",
    "version": 3
   },
   "file_extension": ".py",
   "mimetype": "text/x-python",
   "name": "python",
   "nbconvert_exporter": "python",
   "pygments_lexer": "ipython3",
   "version": "3.8.5"
  }
 },
 "nbformat": 4,
 "nbformat_minor": 4
}
