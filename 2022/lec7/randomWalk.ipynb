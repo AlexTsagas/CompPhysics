{
 "cells": [
  {
   "cell_type": "code",
   "execution_count": 1,
   "metadata": {},
   "outputs": [],
   "source": [
    "import numpy as np \n",
    "import matplotlib.pyplot as plt"
   ]
  },
  {
   "cell_type": "code",
   "execution_count": 69,
   "metadata": {},
   "outputs": [],
   "source": [
    "def U(): \n",
    "    step = -1\n",
    "    if np.random.rand() < 0.5: step = 1\n",
    "    return step"
   ]
  },
  {
   "cell_type": "code",
   "execution_count": 70,
   "metadata": {},
   "outputs": [
    {
     "data": {
      "text/plain": [
       "(array([  0., 510.,   0., 490.,   0.]),\n",
       " array([-2, -1,  0,  1,  2,  3]),\n",
       " <BarContainer object of 5 artists>)"
      ]
     },
     "execution_count": 70,
     "metadata": {},
     "output_type": "execute_result"
    },
    {
     "data": {
      "image/png": "[encoded data removed]",
      "text/plain": [
       "<Figure size 432x288 with 1 Axes>"
      ]
     },
     "metadata": {
      "needs_background": "light"
     },
     "output_type": "display_data"
    }
   ],
   "source": [
    "plt.hist([U() for nikos in range(1000)], bins = [-2,-1,0,1,2, 3], ec= 'black')"
   ]
  },
  {
   "cell_type": "code",
   "execution_count": 71,
   "metadata": {},
   "outputs": [],
   "source": [
    "N  = 10000 # number of steps\n",
    "\n",
    "def position(N):\n",
    "    '''returns position after N steps'''\n",
    "    x  = 0\n",
    "    xs = [x] \n",
    "    for i in range(N):\n",
    "        x += U()\n",
    "        xs = xs + [x]\n",
    "\n",
    "    return x\n",
    "    # print('x = %d'%(x))\n",
    "    # print(xs)\n",
    "    # plt.plot(range(N), xs)\n",
    "    # plt.plot(range(len(xs)), xs)\n",
    "    # print(xs[0:10]) # print 10 first elements of xs"
   ]
  },
  {
   "cell_type": "code",
   "execution_count": 72,
   "metadata": {},
   "outputs": [
    {
     "data": {
      "text/plain": [
       "(array([1.000e+00, 1.000e+00, 2.000e+00, 0.000e+00, 2.000e+00, 1.000e+00,\n",
       "        0.000e+00, 1.000e+00, 2.000e+00, 1.300e+01, 2.000e+00, 1.400e+01,\n",
       "        1.400e+01, 0.000e+00, 1.900e+01, 3.200e+01, 3.300e+01, 3.500e+01,\n",
       "        5.700e+01, 0.000e+00, 6.400e+01, 1.080e+02, 1.090e+02, 1.320e+02,\n",
       "        2.000e+02, 2.250e+02, 0.000e+00, 2.440e+02, 2.920e+02, 3.560e+02,\n",
       "        4.770e+02, 5.370e+02, 6.030e+02, 0.000e+00, 6.850e+02, 7.820e+02,\n",
       "        8.440e+02, 1.011e+03, 1.146e+03, 0.000e+00, 1.100e+03, 1.190e+03,\n",
       "        1.333e+03, 1.396e+03, 1.495e+03, 1.505e+03, 0.000e+00, 1.537e+03,\n",
       "        1.589e+03, 1.540e+03, 1.599e+03, 1.599e+03, 1.566e+03, 0.000e+00,\n",
       "        1.539e+03, 1.448e+03, 1.365e+03, 1.290e+03, 1.190e+03, 0.000e+00,\n",
       "        1.065e+03, 9.710e+02, 8.640e+02, 7.280e+02, 6.700e+02, 5.540e+02,\n",
       "        0.000e+00, 4.880e+02, 4.210e+02, 3.600e+02, 3.080e+02, 2.470e+02,\n",
       "        2.370e+02, 0.000e+00, 1.560e+02, 1.300e+02, 1.070e+02, 9.000e+01,\n",
       "        8.000e+01, 0.000e+00, 5.300e+01, 3.600e+01, 2.200e+01, 2.700e+01,\n",
       "        1.700e+01, 1.100e+01, 0.000e+00, 1.200e+01, 9.000e+00, 5.000e+00,\n",
       "        2.000e+00, 2.000e+00, 2.000e+00, 0.000e+00, 0.000e+00, 0.000e+00,\n",
       "        0.000e+00, 0.000e+00, 0.000e+00, 1.000e+00]),\n",
       " array([-84. , -82.3, -80.6, -78.9, -77.2, -75.5, -73.8, -72.1, -70.4,\n",
       "        -68.7, -67. , -65.3, -63.6, -61.9, -60.2, -58.5, -56.8, -55.1,\n",
       "        -53.4, -51.7, -50. , -48.3, -46.6, -44.9, -43.2, -41.5, -39.8,\n",
       "        -38.1, -36.4, -34.7, -33. , -31.3, -29.6, -27.9, -26.2, -24.5,\n",
       "        -22.8, -21.1, -19.4, -17.7, -16. , -14.3, -12.6, -10.9,  -9.2,\n",
       "         -7.5,  -5.8,  -4.1,  -2.4,  -0.7,   1. ,   2.7,   4.4,   6.1,\n",
       "          7.8,   9.5,  11.2,  12.9,  14.6,  16.3,  18. ,  19.7,  21.4,\n",
       "         23.1,  24.8,  26.5,  28.2,  29.9,  31.6,  33.3,  35. ,  36.7,\n",
       "         38.4,  40.1,  41.8,  43.5,  45.2,  46.9,  48.6,  50.3,  52. ,\n",
       "         53.7,  55.4,  57.1,  58.8,  60.5,  62.2,  63.9,  65.6,  67.3,\n",
       "         69. ,  70.7,  72.4,  74.1,  75.8,  77.5,  79.2,  80.9,  82.6,\n",
       "         84.3,  86. ]),\n",
       " <BarContainer object of 100 artists>)"
      ]
     },
     "execution_count": 72,
     "metadata": {},
     "output_type": "execute_result"
    },
    {
     "data": {
      "image/png": "[encoded data removed]",
      "text/plain": [
       "<Figure size 432x288 with 1 Axes>"
      ]
     },
     "metadata": {
      "needs_background": "light"
     },
     "output_type": "display_data"
    }
   ],
   "source": [
    "N = 400 # number of steps\n",
    "W = 40000    # number of walkers\n",
    "positions = [position(N) for w in range(W)]\n",
    "plt.hist(positions, bins = 100, ec='black')"
   ]
  },
  {
   "cell_type": "code",
   "execution_count": 73,
   "metadata": {},
   "outputs": [],
   "source": [
    "positions = np.array(positions)"
   ]
  },
  {
   "cell_type": "code",
   "execution_count": 74,
   "metadata": {},
   "outputs": [],
   "source": [
    "σ = positions.std()\n",
    "μ = positions.mean()"
   ]
  },
  {
   "cell_type": "code",
   "execution_count": 75,
   "metadata": {},
   "outputs": [
    {
     "name": "stdout",
     "output_type": "stream",
     "text": [
      "μ = -0.2 σ = 19.9 for N = 400\n"
     ]
    }
   ],
   "source": [
    "print('μ = %2.1f σ = %2.1f for N = %d'%(μ, σ, N))"
   ]
  },
  {
   "cell_type": "code",
   "execution_count": null,
   "metadata": {},
   "outputs": [],
   "source": []
  }
 ],
 "metadata": {
  "kernelspec": {
   "display_name": "Python 3",
   "language": "python",
   "name": "python3"
  },
  "language_info": {
   "codemirror_mode": {
    "name": "ipython",
    "version": 3
   },
   "file_extension": ".py",
   "mimetype": "text/x-python",
   "name": "python",
   "nbconvert_exporter": "python",
   "pygments_lexer": "ipython3",
   "version": "3.8.5"
  }
 },
 "nbformat": 4,
 "nbformat_minor": 4
}
