{
 "cells": [
  {
   "cell_type": "code",
   "execution_count": 1,
   "metadata": {},
   "outputs": [],
   "source": [
    "import numpy as np\n",
    "import matplotlib.pyplot as plt"
   ]
  },
  {
   "cell_type": "code",
   "execution_count": 15,
   "metadata": {},
   "outputs": [],
   "source": [
    "def f(x,y,z):\n",
    "    return (5/(648*np.pi))*(x*x + y*y)\n",
    "\n",
    "def U(): return np.random.rand()"
   ]
  },
  {
   "cell_type": "code",
   "execution_count": 71,
   "metadata": {},
   "outputs": [],
   "source": [
    "def integrate(debug = False):\n",
    "    R = 3\n",
    "\n",
    "    N = 100\n",
    "    n = 0\n",
    "\n",
    "    Σf  = 0\n",
    "    Σf2 = 0\n",
    "\n",
    "    for dummy in range(N):\n",
    "        x = 2*R*U() - R\n",
    "        y = 2*R*U() - R\n",
    "        z = 2*R*U() - R\n",
    "        if x**2 + y**2 + z**2 < R**2:\n",
    "            n   = n + 1\n",
    "\n",
    "            Σf  = Σf  + f(x, y, z)\n",
    "            Σf2 = Σf2 + f(x, y, z)**2   # tmp = f(x,y,z), tmp**2\n",
    "\n",
    "    μ  = Σf/n\n",
    "    σ2 = Σf2/n - μ**2\n",
    "    s2 = σ2*(n/(n-1))\n",
    "    s  = s2**0.5      \n",
    "\n",
    "    V = (4/3.)*np.pi*R**3\n",
    "\n",
    "    I  = μ*V\n",
    "    δI = V*s/n**0.5   \n",
    "\n",
    "    if debug: print('I = %2.3f ± %2.3f'%(I , δI))\n",
    "        \n",
    "    return I"
   ]
  },
  {
   "cell_type": "code",
   "execution_count": 64,
   "metadata": {},
   "outputs": [],
   "source": [
    "integrals = [integrate() for i in range(1000)]"
   ]
  },
  {
   "cell_type": "code",
   "execution_count": 67,
   "metadata": {},
   "outputs": [
    {
     "data": {
      "text/plain": [
       "(array([ 0.,  0.,  0.,  0.,  0.,  0.,  0.,  0.,  0.,  0.,  0.,  0.,  0.,\n",
       "         0.,  0.,  0.,  0.,  0.,  0.,  0.,  0.,  0.,  1.,  0.,  0.,  3.,\n",
       "         2.,  2.,  5.,  2.,  6.,  4.,  8., 13., 10., 15., 15., 17., 16.,\n",
       "        21., 36., 34., 29., 37., 45., 38., 44., 41., 48., 41., 46., 43.,\n",
       "        43., 31., 49., 40., 25., 29., 29., 17., 24., 15., 20., 14.,  7.,\n",
       "         9.,  7.,  3.,  5.,  2.,  1.,  2.,  1.,  1.,  2.,  0.,  1.,  0.,\n",
       "         0.,  1.,  0.,  0.,  0.,  0.,  0.,  0.,  0.,  0.,  0.,  0.,  0.,\n",
       "         0.,  0.,  0.,  0.,  0.,  0.,  0.,  0.]),\n",
       " array([0.5       , 0.51010101, 0.52020202, 0.53030303, 0.54040404,\n",
       "        0.55050505, 0.56060606, 0.57070707, 0.58080808, 0.59090909,\n",
       "        0.6010101 , 0.61111111, 0.62121212, 0.63131313, 0.64141414,\n",
       "        0.65151515, 0.66161616, 0.67171717, 0.68181818, 0.69191919,\n",
       "        0.7020202 , 0.71212121, 0.72222222, 0.73232323, 0.74242424,\n",
       "        0.75252525, 0.76262626, 0.77272727, 0.78282828, 0.79292929,\n",
       "        0.8030303 , 0.81313131, 0.82323232, 0.83333333, 0.84343434,\n",
       "        0.85353535, 0.86363636, 0.87373737, 0.88383838, 0.89393939,\n",
       "        0.9040404 , 0.91414141, 0.92424242, 0.93434343, 0.94444444,\n",
       "        0.95454545, 0.96464646, 0.97474747, 0.98484848, 0.99494949,\n",
       "        1.00505051, 1.01515152, 1.02525253, 1.03535354, 1.04545455,\n",
       "        1.05555556, 1.06565657, 1.07575758, 1.08585859, 1.0959596 ,\n",
       "        1.10606061, 1.11616162, 1.12626263, 1.13636364, 1.14646465,\n",
       "        1.15656566, 1.16666667, 1.17676768, 1.18686869, 1.1969697 ,\n",
       "        1.20707071, 1.21717172, 1.22727273, 1.23737374, 1.24747475,\n",
       "        1.25757576, 1.26767677, 1.27777778, 1.28787879, 1.2979798 ,\n",
       "        1.30808081, 1.31818182, 1.32828283, 1.33838384, 1.34848485,\n",
       "        1.35858586, 1.36868687, 1.37878788, 1.38888889, 1.3989899 ,\n",
       "        1.40909091, 1.41919192, 1.42929293, 1.43939394, 1.44949495,\n",
       "        1.45959596, 1.46969697, 1.47979798, 1.48989899, 1.5       ]),\n",
       " <BarContainer object of 99 artists>)"
      ]
     },
     "execution_count": 67,
     "metadata": {},
     "output_type": "execute_result"
    },
    {
     "data": {
      "image/png": "[encoded data removed]",
      "text/plain": [
       "<Figure size 432x288 with 1 Axes>"
      ]
     },
     "metadata": {
      "needs_background": "light"
     },
     "output_type": "display_data"
    }
   ],
   "source": [
    "#mybins = [0 + 0.1*i for i in range(21)] # bins np.linspace(0, 2, 21)\n",
    "mybins = np.linspace(0.5, 1.5, 100)\n",
    "\n",
    "plt.hist(integrals, bins = mybins, ec = 'black')"
   ]
  },
  {
   "cell_type": "code",
   "execution_count": 69,
   "metadata": {},
   "outputs": [
    {
     "name": "stdout",
     "output_type": "stream",
     "text": [
      "0.9971853490894695 0.08894857289803004\n"
     ]
    }
   ],
   "source": [
    "integrals = np.array(integrals)\n",
    "print(integrals.mean(), integrals.std())"
   ]
  },
  {
   "cell_type": "code",
   "execution_count": 79,
   "metadata": {},
   "outputs": [
    {
     "name": "stdout",
     "output_type": "stream",
     "text": [
      "I = 0.974 ± 0.077\n"
     ]
    },
    {
     "data": {
      "text/plain": [
       "0.9743902045027844"
      ]
     },
     "execution_count": 79,
     "metadata": {},
     "output_type": "execute_result"
    }
   ],
   "source": [
    "integrate(debug = True)"
   ]
  },
  {
   "cell_type": "code",
   "execution_count": 107,
   "metadata": {},
   "outputs": [
    {
     "name": "stdout",
     "output_type": "stream",
     "text": [
      "I = 0.984 ± 0.092\n"
     ]
    },
    {
     "data": {
      "text/plain": [
       "0.9835775483079132"
      ]
     },
     "execution_count": 107,
     "metadata": {},
     "output_type": "execute_result"
    }
   ],
   "source": [
    "def integrateHitOrMiss(debug = False):\n",
    "    R = 3\n",
    "\n",
    "    N = 1000\n",
    "    n = 0\n",
    "    fmax = f(R, R, 0)\n",
    "    \n",
    "    for dummy in range(N):\n",
    "        x = 2*R*U() - R\n",
    "        y = 2*R*U() - R\n",
    "        z = 2*R*U() - R\n",
    "        w = fmax*U()\n",
    "        if x**2 + y**2 + z**2 < R**2 and w<(f(x, y, z)):\n",
    "            n   = n + 1\n",
    "            \n",
    "    p = n/float(N)\n",
    "    V = fmax*(2*R)**3\n",
    "\n",
    "    I  = V*p\n",
    "    δI = V*(p*(1-p))**0.5/N**0.5   \n",
    "\n",
    "    if debug: print('I = %2.3f ± %2.3f'%(I , δI))\n",
    "        \n",
    "    return I\n",
    "\n",
    "integrateHitOrMiss(debug = True)"
   ]
  },
  {
   "cell_type": "code",
   "execution_count": 92,
   "metadata": {},
   "outputs": [
    {
     "data": {
      "text/plain": [
       "113.09733552923254"
      ]
     },
     "execution_count": 92,
     "metadata": {},
     "output_type": "execute_result"
    }
   ],
   "source": [
    "(4/3.)*np.pi*R**3"
   ]
  },
  {
   "cell_type": "code",
   "execution_count": null,
   "metadata": {},
   "outputs": [],
   "source": []
  }
 ],
 "metadata": {
  "kernelspec": {
   "display_name": "Python 3",
   "language": "python",
   "name": "python3"
  },
  "language_info": {
   "codemirror_mode": {
    "name": "ipython",
    "version": 3
   },
   "file_extension": ".py",
   "mimetype": "text/x-python",
   "name": "python",
   "nbconvert_exporter": "python",
   "pygments_lexer": "ipython3",
   "version": "3.8.5"
  }
 },
 "nbformat": 4,
 "nbformat_minor": 4
}
