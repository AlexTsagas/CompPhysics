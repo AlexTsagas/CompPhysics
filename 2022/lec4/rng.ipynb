{
 "cells": [
  {
   "cell_type": "code",
   "execution_count": 2,
   "id": "d285170d",
   "metadata": {},
   "outputs": [
    {
     "data": {
      "text/plain": [
       "(array([196., 191., 185., 211., 202., 202., 187., 208., 179., 189., 206.,\n",
       "        196., 200., 202., 188., 204., 200., 206., 200., 157., 215., 240.,\n",
       "        207., 193., 204., 198., 194., 184., 213., 187., 200., 181., 193.,\n",
       "        200., 211., 181., 189., 204., 207., 205., 186., 225., 195., 185.,\n",
       "        177., 205., 221., 191., 204., 224., 226., 182., 174., 210., 199.,\n",
       "        191., 207., 213., 221., 206., 228., 215., 220., 195., 204., 185.,\n",
       "        221., 195., 194., 206., 198., 192., 197., 230., 192., 177., 210.,\n",
       "        196., 196., 188., 217., 202., 224., 187., 204., 218., 178., 198.,\n",
       "        208., 214., 183., 212., 171., 211., 196., 198., 201., 172., 202.,\n",
       "        208.]),\n",
       " array([1.89091079e-05, 1.00187141e-02, 2.00185190e-02, 3.00183240e-02,\n",
       "        4.00181290e-02, 5.00179339e-02, 6.00177389e-02, 7.00175439e-02,\n",
       "        8.00173488e-02, 9.00171538e-02, 1.00016959e-01, 1.10016764e-01,\n",
       "        1.20016569e-01, 1.30016374e-01, 1.40016179e-01, 1.50015984e-01,\n",
       "        1.60015789e-01, 1.70015594e-01, 1.80015399e-01, 1.90015203e-01,\n",
       "        2.00015008e-01, 2.10014813e-01, 2.20014618e-01, 2.30014423e-01,\n",
       "        2.40014228e-01, 2.50014033e-01, 2.60013838e-01, 2.70013643e-01,\n",
       "        2.80013448e-01, 2.90013253e-01, 3.00013058e-01, 3.10012863e-01,\n",
       "        3.20012668e-01, 3.30012473e-01, 3.40012278e-01, 3.50012083e-01,\n",
       "        3.60011888e-01, 3.70011693e-01, 3.80011498e-01, 3.90011303e-01,\n",
       "        4.00011108e-01, 4.10010913e-01, 4.20010718e-01, 4.30010523e-01,\n",
       "        4.40010328e-01, 4.50010133e-01, 4.60009938e-01, 4.70009743e-01,\n",
       "        4.80009548e-01, 4.90009352e-01, 5.00009157e-01, 5.10008962e-01,\n",
       "        5.20008767e-01, 5.30008572e-01, 5.40008377e-01, 5.50008182e-01,\n",
       "        5.60007987e-01, 5.70007792e-01, 5.80007597e-01, 5.90007402e-01,\n",
       "        6.00007207e-01, 6.10007012e-01, 6.20006817e-01, 6.30006622e-01,\n",
       "        6.40006427e-01, 6.50006232e-01, 6.60006037e-01, 6.70005842e-01,\n",
       "        6.80005647e-01, 6.90005452e-01, 7.00005257e-01, 7.10005062e-01,\n",
       "        7.20004867e-01, 7.30004672e-01, 7.40004477e-01, 7.50004282e-01,\n",
       "        7.60004087e-01, 7.70003892e-01, 7.80003697e-01, 7.90003502e-01,\n",
       "        8.00003306e-01, 8.10003111e-01, 8.20002916e-01, 8.30002721e-01,\n",
       "        8.40002526e-01, 8.50002331e-01, 8.60002136e-01, 8.70001941e-01,\n",
       "        8.80001746e-01, 8.90001551e-01, 9.00001356e-01, 9.10001161e-01,\n",
       "        9.20000966e-01, 9.30000771e-01, 9.40000576e-01, 9.50000381e-01,\n",
       "        9.60000186e-01, 9.69999991e-01, 9.79999796e-01, 9.89999601e-01,\n",
       "        9.99999406e-01]),\n",
       " <BarContainer object of 100 artists>)"
      ]
     },
     "execution_count": 2,
     "metadata": {},
     "output_type": "execute_result"
    },
    {
     "data": {
      "image/png": "[encoded data removed]",
      "text/plain": [
       "<Figure size 432x288 with 1 Axes>"
      ]
     },
     "metadata": {
      "needs_background": "light"
     },
     "output_type": "display_data"
    }
   ],
   "source": [
    "### code we wrote in class\n",
    "def U(x):\n",
    "    return (16807*x + 0)%(2**31 - 1)\n",
    "\n",
    "x = 11.0  \n",
    "xs = []\n",
    "for i in range(20000):\n",
    "    x = U(x)\n",
    "    xs = xs + [x/(2**31 -1)]\n",
    "    #print(x)\n",
    "\n",
    "import matplotlib.pyplot as plt\n",
    "import numpy as np\n",
    "plt.hist(xs, bins = 100, ec= 'black') "
   ]
  },
  {
   "cell_type": "code",
   "execution_count": null,
   "id": "057a0eab",
   "metadata": {},
   "outputs": [],
   "source": []
  }
 ],
 "metadata": {
  "kernelspec": {
   "display_name": "Python 3",
   "language": "python",
   "name": "python3"
  },
  "language_info": {
   "codemirror_mode": {
    "name": "ipython",
    "version": 3
   },
   "file_extension": ".py",
   "mimetype": "text/x-python",
   "name": "python",
   "nbconvert_exporter": "python",
   "pygments_lexer": "ipython3",
   "version": "3.9.12"
  }
 },
 "nbformat": 4,
 "nbformat_minor": 5
}
