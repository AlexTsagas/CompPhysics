{
 "cells": [
  {
   "cell_type": "code",
   "execution_count": 52,
   "metadata": {},
   "outputs": [],
   "source": [
    "import numpy as np\n",
    "import matplotlib.pyplot as plt"
   ]
  },
  {
   "cell_type": "code",
   "execution_count": 53,
   "metadata": {},
   "outputs": [],
   "source": [
    "def U(a = 1, b = 0):\n",
    "    return (b-a)*np.random.rand() + a"
   ]
  },
  {
   "cell_type": "code",
   "execution_count": 54,
   "metadata": {},
   "outputs": [],
   "source": [
    "def U(a = 0, b = 1):\n",
    "    return (b-a)*np.random.rand() + a\n",
    "\n",
    "def f(x): return np.exp(x)\n",
    "\n"
   ]
  },
  {
   "cell_type": "code",
   "execution_count": 55,
   "metadata": {},
   "outputs": [],
   "source": [
    "def integrate(debug = False):\n",
    "    a, b = 0, 10\n",
    "    N = 1e4\n",
    "\n",
    "    Σf  = 0\n",
    "    Σf2 = 0\n",
    "\n",
    "    for _ in range(int(N)):\n",
    "        x = U(0, 10)\n",
    "        Σf  += f(x)\n",
    "        Σf2 += f(x)**2\n",
    "\n",
    "    μ   = Σf/N\n",
    "    σf2 = Σf2/N - μ**2\n",
    "    sf2 = (N/(N-1))*σf2\n",
    "    sf  = sf2**0.5\n",
    "\n",
    "    V   = (b - a) \n",
    "    I   = V*μ\n",
    "    δI  = V*sf/N**0.5\n",
    "\n",
    "    if debug: print('I = %2.3f   δI = %2.3f  [δI/I = %2.3f]'%(I, δI, δI/I))\n",
    "\n",
    "    return I"
   ]
  },
  {
   "cell_type": "code",
   "execution_count": 59,
   "metadata": {},
   "outputs": [],
   "source": [
    "integrals = [integrate() for nikos in range(1000)] "
   ]
  },
  {
   "cell_type": "code",
   "execution_count": 60,
   "metadata": {},
   "outputs": [
    {
     "data": {
      "text/plain": [
       "(array([ 15.,  37., 147., 201., 254., 202.,  90.,  44.,   8.,   2.]),\n",
       " array([20761.41636249, 21048.01744403, 21334.61852558, 21621.21960712,\n",
       "        21907.82068867, 22194.42177021, 22481.02285176, 22767.6239333 ,\n",
       "        23054.22501485, 23340.82609639, 23627.42717794]),\n",
       " <BarContainer object of 10 artists>)"
      ]
     },
     "execution_count": 60,
     "metadata": {},
     "output_type": "execute_result"
    },
    {
     "data": {
      "image/png": "[encoded data removed]",
      "text/plain": [
       "<Figure size 432x288 with 1 Axes>"
      ]
     },
     "metadata": {
      "needs_background": "light"
     },
     "output_type": "display_data"
    }
   ],
   "source": [
    "plt.hist(integrals, ec = 'black')"
   ]
  },
  {
   "cell_type": "code",
   "execution_count": 61,
   "metadata": {},
   "outputs": [],
   "source": [
    "integrals = np.array(integrals)"
   ]
  },
  {
   "cell_type": "code",
   "execution_count": 62,
   "metadata": {},
   "outputs": [
    {
     "name": "stdout",
     "output_type": "stream",
     "text": [
      "22019.66551807838 448.05542269918914\n"
     ]
    }
   ],
   "source": [
    "print(integrals.mean(), integrals.std())"
   ]
  },
  {
   "cell_type": "code",
   "execution_count": null,
   "metadata": {},
   "outputs": [],
   "source": []
  }
 ],
 "metadata": {
  "kernelspec": {
   "display_name": "Python 3",
   "language": "python",
   "name": "python3"
  },
  "language_info": {
   "codemirror_mode": {
    "name": "ipython",
    "version": 3
   },
   "file_extension": ".py",
   "mimetype": "text/x-python",
   "name": "python",
   "nbconvert_exporter": "python",
   "pygments_lexer": "ipython3",
   "version": "3.8.5"
  }
 },
 "nbformat": 4,
 "nbformat_minor": 4
}
